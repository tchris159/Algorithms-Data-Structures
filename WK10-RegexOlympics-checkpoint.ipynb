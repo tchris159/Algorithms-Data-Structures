{
 "cells": [
  {
   "cell_type": "markdown",
   "metadata": {},
   "source": [
    "# Worksheet 11 - Regex\n",
    "\n",
    "Your Name:  Christopher Truong\n",
    "Your Class:   INST 447  \n",
    "Your Section: 0101 (MWF) or 0102 (TTh) "
   ]
  },
  {
   "cell_type": "code",
   "execution_count": null,
   "metadata": {
    "collapsed": true
   },
   "outputs": [],
   "source": [
    "import re, os\n",
    "import pandas as pd\n",
    "import numpy as np"
   ]
  },
  {
   "cell_type": "markdown",
   "metadata": {},
   "source": [
    "## Pattern Matching\n",
    "Here are some stings to match against."
   ]
  },
  {
   "cell_type": "code",
   "execution_count": null,
   "metadata": {
    "collapsed": true
   },
   "outputs": [],
   "source": [
    "# MM/DD/YYYY dates\n",
    "pattern01 = ['01/21/2018', '12/12/2012', '03/03/2018']"
   ]
  },
  {
   "cell_type": "code",
   "execution_count": null,
   "metadata": {
    "collapsed": true
   },
   "outputs": [],
   "source": [
    "# More dates\n",
    "pattern02 = ['March 8, 2017', 'January 15, 2018', 'May 3, 2017']"
   ]
  },
  {
   "cell_type": "code",
   "execution_count": null,
   "metadata": {
    "collapsed": true
   },
   "outputs": [],
   "source": [
    "# Email addresses\n",
    "pattern03 = ['email@umd.edu', 'email@terpmail.umd.edu', 'some.email@ox.ac.uk']"
   ]
  },
  {
   "cell_type": "code",
   "execution_count": null,
   "metadata": {
    "collapsed": true
   },
   "outputs": [],
   "source": [
    "# Social Security Numbers\n",
    "pattern04 = ['111-11-1111', '999-19-1919', '888-12-3434']"
   ]
  },
  {
   "cell_type": "code",
   "execution_count": null,
   "metadata": {
    "collapsed": true
   },
   "outputs": [],
   "source": [
    "# Phone numbers\n",
    "pattern05 = ['555-255-9292', '301.405.1000', '(301)405-4400', '1-800-333-4455']"
   ]
  },
  {
   "cell_type": "code",
   "execution_count": null,
   "metadata": {
    "collapsed": true
   },
   "outputs": [],
   "source": [
    "# YouTube Video Links. Pull out the videoids...\n",
    "pattern06 = '''https://www.youtube.com/watch?feature=something&v=videoid1&embed=something\n",
    "http://www.youtube.com/watch?feature=something&v=videoid2&embed=something\n",
    "www.youtube.com/watch?feature=something&v=videoid3&embed=something\n",
    "youtube.com/watch?feature=something&v=videoid4&embed=something\n",
    "https://www.youtube.com/watch?v=videoid1\n",
    "http://www.youtube.com/watch?v=videoid2\n",
    "www.youtube.com/watch?v=videoid3\n",
    "youtube.com/watch?v=videoid4\n",
    "https://www.youtube.com/v/videoid1\n",
    "http://www.youtube.com/v/videoid2\n",
    "www.youtube.com/v/videoid3\n",
    "youtube.com/v/videoid4\n",
    "'''"
   ]
  },
  {
   "cell_type": "markdown",
   "metadata": {},
   "source": [
    "## Web Server Logs\n",
    "This is a typical server log for a web server. Regex is often used to make sense of it.\n",
    "\n",
    "Create a DataFrame with the IP Address, Date, Time, HTTP Status code, but only for pages in /twiki"
   ]
  },
  {
   "cell_type": "code",
   "execution_count": 1,
   "metadata": {},
   "outputs": [
    {
     "name": "stdout",
     "output_type": "stream",
     "text": [
      "64.242.88.10 - - [07/Mar/2004:16:05:49 -0800] \"GET /twiki/bin/edit/Main/Double_bounce_sender?topicparent=Main.ConfigurationVariables HTTP/1.1\" 401 12846\n",
      "64.242.88.10 - - [07/Mar/2004:16:06:51 -0800] \"GET /twiki/bin/rdiff/TWiki/NewUserTemplate?rev1=1.3&rev2=1.2 HTTP/1.1\" 200 4523\n",
      "64.242.88.10 - - [07/Mar/2004:16:10:02 -0800] \"GET /mailman/listinfo/hsdivision HTTP/1.1\" 200 6291\n",
      "64.242.88.10 - - [07/Mar/2004:16:11:58 -0800] \"GET /twiki/bin/view/TWiki/WikiSyntax HTTP/1.1\" 200 7352\n",
      "64.242.88.10 - - [07/Mar/2004:16:20:55 -0800] \"GET /twiki/bin/view/Main/DCCAndPostFix HTTP/1.1\" 200 5253\n",
      "64.242.88.10 - - [07/Mar/2004:16:23:12 -0800] \"GET /twiki/bin/oops/TWiki/AppendixFileSystem?template=oopsmoreÂ¶m1=1.12Â¶m2=1.12 HTTP/1.1\" 200 11382\n",
      "64.242.88.10 - - [07/Mar/2004:16:24:16 -0800] \"GET /twiki/bin/view/Main/PeterThoeny HTTP/1.1\" 200 4924\n",
      "64.242.88.10 - - [07/Mar/2004:16:29:16 -0800] \"GET /twiki/bin/edit/Main/Header_checks?topicparent=Main.ConfigurationVariables HTTP/1.1\" 401 12851\n",
      "64.242.88.10 - - [07/Mar/2004:16:30:29 -0800] \"GET /twiki/bin/attach/Main/OfficeLocations HTTP/1.1\" 401 12851\n",
      "64.242.88.10 - - [07/Mar/2004:16:31:48 -0800] \"GET /twiki/bin/view/TWiki/WebTopicEditTemplate HTTP/1.1\" 200 3732\n",
      "64.242.88.10 - - [07/Mar/2004:16:32:50 -0800] \"GET /twiki/bin/view/Main/WebChanges HTTP/1.1\" 200 40520\n",
      "64.242.88.10 - - [07/Mar/2004:16:33:53 -0800] \"GET /twiki/bin/edit/Main/Smtpd_etrn_restrictions?topicparent=Main.ConfigurationVariables HTTP/1.1\" 401 12851\n",
      "64.242.88.10 - - [07/Mar/2004:16:35:19 -0800] \"GET /mailman/listinfo/business HTTP/1.1\" 200 6379\n",
      "64.242.88.10 - - [07/Mar/2004:16:36:22 -0800] \"GET /twiki/bin/rdiff/Main/WebIndex?rev1=1.2&rev2=1.1 HTTP/1.1\" 200 46373\n",
      "64.242.88.10 - - [07/Mar/2004:16:37:27 -0800] \"GET /twiki/bin/view/TWiki/DontNotify HTTP/1.1\" 200 4140\n",
      "64.242.88.10 - - [07/Mar/2004:16:39:24 -0800] \"GET /twiki/bin/view/Main/TokyoOffice HTTP/1.1\" 200 3853\n",
      "64.242.88.10 - - [07/Mar/2004:16:43:54 -0800] \"GET /twiki/bin/view/Main/MikeMannix HTTP/1.1\" 200 3686\n",
      "64.242.88.10 - - [07/Mar/2004:16:45:56 -0800] \"GET /twiki/bin/attach/Main/PostfixCommands HTTP/1.1\" 401 12846\n",
      "64.242.88.10 - - [07/Mar/2004:16:47:12 -0800] \"GET /robots.txt HTTP/1.1\" 200 68\n",
      "64.242.88.10 - - [07/Mar/2004:16:47:46 -0800] \"GET /twiki/bin/rdiff/Know/ReadmeFirst?rev1=1.5&rev2=1.4 HTTP/1.1\" 200 5724\n",
      "64.242.88.10 - - [07/Mar/2004:16:49:04 -0800] \"GET /twiki/bin/view/Main/TWikiGroups?rev=1.2 HTTP/1.1\" 200 5162\n",
      "64.242.88.10 - - [07/Mar/2004:16:50:54 -0800] \"GET /twiki/bin/rdiff/Main/ConfigurationVariables HTTP/1.1\" 200 59679\n",
      "64.242.88.10 - - [07/Mar/2004:16:52:35 -0800] \"GET /twiki/bin/edit/Main/Flush_service_name?topicparent=Main.ConfigurationVariables HTTP/1.1\" 401 12851\n",
      "64.242.88.10 - - [07/Mar/2004:16:53:46 -0800] \"GET /twiki/bin/rdiff/TWiki/TWikiRegistration HTTP/1.1\" 200 34395\n",
      "64.242.88.10 - - [07/Mar/2004:16:54:55 -0800] \"GET /twiki/bin/rdiff/Main/NicholasLee HTTP/1.1\" 200 7235\n",
      "64.242.88.10 - - [07/Mar/2004:16:56:39 -0800] \"GET /twiki/bin/view/Sandbox/WebHome?rev=1.6 HTTP/1.1\" 200 8545\n",
      "64.242.88.10 - - [07/Mar/2004:16:58:54 -0800] \"GET /mailman/listinfo/administration HTTP/1.1\" 200 6459\n",
      "lordgun.org - - [07/Mar/2004:17:01:53 -0800] \"GET /razor.html HTTP/1.1\" 200 2869\n",
      "64.242.88.10 - - [07/Mar/2004:17:09:01 -0800] \"GET /twiki/bin/search/Main/SearchResult?scope=textÂ®ex=on&search=Joris%20*Benschop[^A-Za-z] HTTP/1.1\" 200 4284\n",
      "64.242.88.10 - - [07/Mar/2004:17:10:20 -0800] \"GET /twiki/bin/oops/TWiki/TextFormattingRules?template=oopsmoreÂ¶m1=1.37Â¶m2=1.37 HTTP/1.1\" 200 11400\n",
      "64.242.88.10 - - [07/Mar/2004:17:13:50 -0800] \"GET /twiki/bin/edit/TWiki/DefaultPlugin?t=1078688936 HTTP/1.1\" 401 12846\n",
      "64.242.88.10 - - [07/Mar/2004:17:16:00 -0800] \"GET /twiki/bin/search/Main/?scope=topicÂ®ex=on&search=^g HTTP/1.1\" 200 3675\n",
      "64.242.88.10 - - [07/Mar/2004:17:17:27 -0800] \"GET /twiki/bin/search/TWiki/?scope=topicÂ®ex=on&search=^d HTTP/1.1\" 200 5773\n",
      "lj1036.inktomisearch.com - - [07/Mar/2004:17:18:36 -0800] \"GET /robots.txt HTTP/1.0\" 200 68\n",
      "lj1090.inktomisearch.com - - [07/Mar/2004:17:18:41 -0800] \"GET /twiki/bin/view/Main/LondonOffice HTTP/1.0\" 200 3860\n",
      "64.242.88.10 - - [07/Mar/2004:17:21:44 -0800] \"GET /twiki/bin/attach/TWiki/TablePlugin HTTP/1.1\" 401 12846\n",
      "64.242.88.10 - - [07/Mar/2004:17:22:49 -0800] \"GET /twiki/bin/view/TWiki/ManagingWebs?rev=1.22 HTTP/1.1\" 200 9310\n",
      "64.242.88.10 - - [07/Mar/2004:17:23:54 -0800] \"GET /twiki/bin/statistics/Main HTTP/1.1\" 200 808\n",
      "64.242.88.10 - - [07/Mar/2004:17:26:30 -0800] \"GET /twiki/bin/view/TWiki/WikiCulture HTTP/1.1\" 200 5935\n",
      "64.242.88.10 - - [07/Mar/2004:17:27:37 -0800] \"GET /twiki/bin/edit/Main/WebSearch?t=1078669682 HTTP/1.1\" 401 12846\n",
      "64.242.88.10 - - [07/Mar/2004:17:28:45 -0800] \"GET /twiki/bin/oops/TWiki/ResetPassword?template=oopsmoreÂ¶m1=1.4Â¶m2=1.4 HTTP/1.1\" 200 11281\n",
      "64.242.88.10 - - [07/Mar/2004:17:29:59 -0800] \"GET /twiki/bin/view/TWiki/ManagingWebs?skin=print HTTP/1.1\" 200 8806\n",
      "64.242.88.10 - - [07/Mar/2004:17:31:39 -0800] \"GET /twiki/bin/edit/Main/UvscanAndPostFix?topicparent=Main.WebHome HTTP/1.1\" 401 12846\n",
      "64.242.88.10 - - [07/Mar/2004:17:35:35 -0800] \"GET /twiki/bin/view/TWiki/KlausWriessnegger HTTP/1.1\" 200 3848\n",
      "64.242.88.10 - - [07/Mar/2004:17:39:39 -0800] \"GET /twiki/bin/view/Main/SpamAssassin HTTP/1.1\" 200 4081\n",
      "64.242.88.10 - - [07/Mar/2004:17:42:15 -0800] \"GET /twiki/bin/oops/TWiki/RichardDonkin?template=oopsmoreÂ¶m1=1.2Â¶m2=1.2 HTTP/1.1\" 200 11281\n",
      "64.242.88.10 - - [07/Mar/2004:17:46:17 -0800] \"GET /twiki/bin/rdiff/TWiki/AlWilliams?rev1=1.3&rev2=1.2 HTTP/1.1\" 200 4485\n",
      "64.242.88.10 - - [07/Mar/2004:17:47:43 -0800] \"GET /twiki/bin/rdiff/TWiki/AlWilliams?rev1=1.2&rev2=1.1 HTTP/1.1\" 200 5234\n",
      "64.242.88.10 - - [07/Mar/2004:17:50:44 -0800] \"GET /twiki/bin/view/TWiki/SvenDowideit HTTP/1.1\" 200 3616\n",
      "64.242.88.10 - - [07/Mar/2004:17:53:45 -0800] \"GET /twiki/bin/search/Main/SearchResult?scope=textÂ®ex=on&search=Office%20*Locations[^A-Za-z] HTTP/1.1\" 200 7771\n",
      "\n"
     ]
    }
   ],
   "source": [
    "with open('data/http_log.txt', 'r') as fh:\n",
    "    print(fh.read())"
   ]
  },
  {
   "cell_type": "markdown",
   "metadata": {},
   "source": [
    "## Email Server Logs\n",
    "This is a typical server log for an email server. Administrators often use regex to make sense of it.\n",
    "\n",
    "Create a DataFrame with the date, time, email address, and the reason it was blocked"
   ]
  },
  {
   "cell_type": "code",
   "execution_count": 2,
   "metadata": {},
   "outputs": [
    {
     "name": "stdout",
     "output_type": "stream",
     "text": [
      "2008-11-08 06:32:46.354761500 26318 logging::logterse plugin: ` 89.223.216.72\tapn-89-223-216-72.vodafone.hu\tapn-89-223-216-72.vodafone.hu\t<toshiter@donin.com>\t\trhsbl\t901\tNot supporting null originator (DSN)\tmsg denied before queued\n",
      "2008-11-08 06:33:17.924158500 26331 logging::logterse plugin: ` 208.99.214.236\tmx22.ecreditchoices7.com\tmx22.ecreditchoices7.com\t<moneydiet2@mx22.ecreditchoices7.com>\t\tdnsbl\t903\thttp://www.spamhaus.org/SBL/sbl.lasso?query=SBL69049\tmsg denied before queued\n",
      "2008-11-08 06:34:53.318459500 26358 logging::logterse plugin: ` 84.58.57.150\tdslb-084-058-057-150.pools.arcor-ip.net\trpemgmu.arcor-ip.net\t<sundered@ancientinc.com>\t\tdnsbl\t903\thttp://www.spamhaus.org/query/bl?ip=84.58.57.150\tmsg denied before queued\n",
      "2008-11-08 06:35:41.724563500 26375 logging::logterse plugin: ` 58.126.113.198\tUnknown\t[58.126.113.198]\t<benny@surecom.com>\t\trhsbl\t901\tNot supporting null originator (DSN)\tmsg denied before queued\n",
      "2008-11-08 06:37:31.730609500 26398 logging::logterse plugin: ` 87.103.146.91\tpmsn.91.146.103.87.sable.dsl.krasnet.ru\tpmsn.91.146.103.87.sable.dsl.krasnet.ru\t<dwweem@wee.com>\t\tdnsbl\t903\thttp://www.spamhaus.org/query/bl?ip=87.103.146.91\tmsg denied before queued\n",
      "2008-11-08 06:37:41.211401500 26409 logging::logterse plugin: ` 87.103.146.91\tpmsn.91.146.103.87.sable.dsl.krasnet.ru\tpmsn.91.146.103.87.sable.dsl.krasnet.ru\t<dwtrupsm@trups.com>\t\tdnsbl\t903\thttp://www.spamhaus.org/query/bl?ip=87.103.146.91\tmsg denied before queued\n",
      "\n"
     ]
    }
   ],
   "source": [
    "with open('data/email_log.txt', 'r') as fh:\n",
    "    print(fh.read())"
   ]
  },
  {
   "cell_type": "markdown",
   "metadata": {},
   "source": [
    "## Raw Email\n",
    "For e-discovery (the process of identifying computer-based evidence for legal cases), sometimes you need to get information out of raw email files. Or maybe you are trying to automate a process, like support tickets, through email. Regex is a powerful way to extract the data."
   ]
  },
  {
   "cell_type": "code",
   "execution_count": 3,
   "metadata": {},
   "outputs": [
    {
     "name": "stdout",
     "output_type": "stream",
     "text": [
      "Delivered-To: dheidenb@g.umd.edu\n",
      "Received: by 10.107.97.16 with SMTP id v16csp1457303iob;\n",
      "        Fri, 6 Apr 2018 23:52:05 -0700 (PDT)\n",
      "X-Google-Smtp-Source: AIpwx49QF9wByhFrrDVu8jOcevoYTjBgsXVpFigpy/M+frwwbaztCehK85I/7Agu5xHy6h+wiY40\n",
      "X-Received: by 2002:a17:902:44c:: with SMTP id 70-v6mr30630830ple.354.1523083925115;\n",
      "        Fri, 06 Apr 2018 23:52:05 -0700 (PDT)\n",
      "ARC-Seal: i=1; a=rsa-sha256; t=1523083925; cv=none;\n",
      "        d=google.com; s=arc-20160816;\n",
      "        b=mHordDyZArJVKMkNOjGxO788LUlIsOruQk0uDRLD6/aYXlgFwfvPlw1c4HIIYwHPbK\n",
      "         ppHYGm1o+7e8BpGHn2YRYbeS6SlndcVdbA3pel5P5iVbyy8hjFuHfqRElNEMXBJHAzOl\n",
      "         D6O0YSaN/x2rhurT+a8IIxlsT7tsfjrN1lcoOAOA/kOOWqWEBHUFeVUOivHrYWyDB/+5\n",
      "         mlQ/d/6yF9XDZSkC1P4WV3KdJJ1fdtv99MtcYIOpkr13AR11aCUldZnjdaM3odqxhyAl\n",
      "         gR2BoN/Am2u07m0F0F2KZUT3u9GHrqylRzrrKNtKKXuttNmeohUaSd7hr0G4N6sh9yH2\n",
      "         vXdg==\n",
      "ARC-Message-Signature: i=1; a=rsa-sha256; c=relaxed/relaxed; d=google.com; s=arc-20160816;\n",
      "        h=sender:errors-to:content-transfer-encoding:list-subscribe:list-help\n",
      "         :list-post:list-archive:list-unsubscribe:list-id:precedence:subject\n",
      "         :content-language:mime-version:user-agent:date:message-id:from:to\n",
      "         :delivered-to:arc-authentication-results;\n",
      "        bh=nY2wvKwd0Meofh0bXODaiq/0QjtJBsdlJzCxf/UJoCY=;\n",
      "        b=MU07sg6FYpZU/IbusgB96zAL05mbuFa835rgIEvMgKL4kK5LF10oxRIbMow7df0gpz\n",
      "         LuZhKPAba0FENQp7VdjFwN9wRHFuQxQjBpMozxxvJeXGJGWvnj8h/0q6ALi362+ZTjKr\n",
      "         Loxxmad9iilPOaEbXefYUY4p9pz282Owa/bRXVm7oBFEMA5RxNbcXCSudLw+QxyLIVyT\n",
      "         K8OhnsVgDUjp5zJu+BhlN0CCJK6nDENZSeT4MnHut56XsrOX5c7FHnz3DDOKZFB6Swh3\n",
      "         i7q9wXsjn0ocp/lt9hSmPH7dXWVFLbFaG0sx6lzbwtyxEiH9gK2KrxqsvT2f7LZ31Bui\n",
      "         2U4g==\n",
      "ARC-Authentication-Results: i=1; mx.google.com;\n",
      "       spf=permerror (google.com: domain of air-l-bounces@listserv.aoir.org uses a mechanism not recognized by this client. unknown\n",
      "  mechanisms: )) smtp.mailfrom=air-l-bounces@listserv.aoir.org\n",
      "Return-Path: <air-l-bounces@listserv.aoir.org>\n",
      "Received: from esa2.umd.iphmx.com (esa2.umd.iphmx.com. [68.232.143.84])\n",
      "        by mx.google.com with ESMTPS id b7-v6si10620325pla.345.2018.04.06.23.52.04\n",
      "        for <dheidenb@g.umd.edu>\n",
      "        (version=TLS1_2 cipher=ECDHE-RSA-AES128-GCM-SHA256 bits=128/128);\n",
      "        Fri, 06 Apr 2018 23:52:05 -0700 (PDT)\n",
      "Received-SPF: permerror (google.com: domain of air-l-bounces@listserv.aoir.org uses a mechanism not recognized by this client. unknown\n",
      "  mechanisms: )) client-ip=64.90.62.202;\n",
      "Authentication-Results: mx.google.com;\n",
      "       spf=permerror (google.com: domain of air-l-bounces@listserv.aoir.org uses a mechanism not recognized by this client. unknown\n",
      "  mechanisms: )) smtp.mailfrom=air-l-bounces@listserv.aoir.org\n",
      "X-IronPort-AV: E=Sophos;i=\"5.48,418,1517893200\";\n",
      "    d=\"scan'208\";a=\"312043989\"\n",
      "Received: from pdx1-mailman01.dreamhost.com ([64.90.62.202])\n",
      "  by esa2.umd.iphmx.com with ESMTP/TLS/DHE-RSA-AES256-GCM-SHA384; 07 Apr 2018 02:52:03 -0400\n",
      "Received: from pdx1-mailman01.dreamhost.com (pdx1-mailman01.dreamhost.com [IPv6:::1]) by pdx1-mailman01.dreamhost.com (Postfix) with ESMTP id 168E221EE6; Fri,\n",
      "  6 Apr 2018 23:52:03 -0700 (PDT)\n",
      "X-Original-To: air-l@listserv.aoir.org\n",
      "Delivered-To: air-l-aoir.org@pdx1-mailman01.dreamhost.com\n",
      "Received: from mail-out01.uio.no (mail-out01.uio.no [129.240.10.50]) by pdx1-mailman01.dreamhost.com (Postfix) with ESMTP id 85E69205E9; Fri,\n",
      "  6 Apr 2018 23:51:50 -0700 (PDT)\n",
      "Received: from mail-mx06.uio.no ([129.240.10.40]) by mail-out01.uio.no with esmtps (TLSv1.2:ECDHE-RSA-AES256-GCM-SHA384:256) (Exim 4.90_1) (envelope-from <c.m.ess@media.uio.no>) id 1f4hhV-0005Cy-6U; Sat, 07 Apr 2018 08:51:49 +0200\n",
      "Received: from 42.249.16.62.customer.cdi.no ([62.16.249.42] helo=[192.168.1.122]) by mail-mx06.uio.no with esmtpsa (TLSv1.2:ECDHE-RSA-AES128-GCM-SHA256:128) user charlees (Exim 4.90_1) (envelope-from <c.m.ess@media.uio.no>) id 1f4hhU-00078a-7j; Sat, 07 Apr 2018 08:51:49 +0200\n",
      "To: \"ethics@listserv.aoir.org\" <ethics@listserv.aoir.org>, air-l <air-l@listserv.aoir.org>\n",
      "From: \"Charles M. Ess\" <c.m.ess@media.uio.no>\n",
      "Message-ID: <451dfdd2-358e-1e58-ccae-4718289f3922@media.uio.no>\n",
      "Date: Sat, 7 Apr 2018 08:51:47 +0200\n",
      "User-Agent: Mozilla/5.0 (Macintosh; Intel Mac OS X 10.13; rv:52.0) Gecko/20100101 Thunderbird/52.6.0\n",
      "MIME-Version: 1.0\n",
      "Content-Language: en-US\n",
      "X-UiO-SPF-Received: Received-SPF: neutral (mail-mx06.uio.no: 62.16.249.42 is neither permitted nor denied by domain of media.uio.no) client-ip=62.16.249.42; envelope-from=c.m.ess@media.uio.no; helo=[192.168.1.122];\n",
      "X-UiO-Spam-info: not spam, SpamAssassin (score=-5.0, required=5.0, autolearn=disabled, TVD_RCVD_IP=0.001, UIO_MAIL_IS_INTERNAL=-5, uiobl=NO, uiouri=NO)\n",
      "X-UiO-Scanned: 2A1DE29A1856AF7E63BF695DDAA481B35A5432E7\n",
      "X-UiOonly: 9F75DE00B30F1A6223FEFA9B8083E5AC9F129DD9\n",
      "Subject: [Air-L] Terms of Service not legally binding?\n",
      "X-BeenThere: air-l@listserv.aoir.org\n",
      "X-Mailman-Version: 2.1.23\n",
      "Precedence: list\n",
      "List-Id: Association of Internet Researchers <air-l-aoir.org>\n",
      "List-Unsubscribe: <http://listserv.aoir.org/options.cgi/air-l-aoir.org>, <mailto:air-l-request@listserv.aoir.org?subject=unsubscribe>\n",
      "List-Archive: <http://listserv.aoir.org/pipermail/air-l-aoir.org/>\n",
      "List-Post: <mailto:air-l@listserv.aoir.org>\n",
      "List-Help: <mailto:air-l-request@listserv.aoir.org?subject=help>\n",
      "List-Subscribe: <http://listserv.aoir.org/listinfo.cgi/air-l-aoir.org>, <mailto:air-l-request@listserv.aoir.org?subject=subscribe>\n",
      "Content-Transfer-Encoding: 7bit\n",
      "Content-Type: text/plain; charset=\"us-ascii\"; Format=\"flowed\"\n",
      "Errors-To: air-l-bounces@listserv.aoir.org\n",
      "Sender: Air-L <air-l-bounces@listserv.aoir.org>\n",
      "\n",
      "Dear colleagues,\n",
      "\n",
      "With apologies for spamming the lists - on behalf of both a student \n",
      "project and our development of further refinements in internet research \n",
      "ethics I'd like to ask the following.\n",
      "\n",
      "I've heard somewhere recently that a U.S. court has ruled that Terms of \n",
      "Service are not necessarily legally binding.\n",
      "If anyone can forward more exact details of the ruling, I'd be very \n",
      "grateful indeed.\n",
      "\n",
      "Why? There is considerable discussion regarding the creation of fake \n",
      "profiles as part of research into social media, algorithms, etc.  I have \n",
      "the impression that this has become common practice, and this ruling may \n",
      "give some direct and/or indirect support to arguments for such a \n",
      "practice.  (With important caveats, generally a good thing in my view, \n",
      "FWIW.)\n",
      "\n",
      "At the same time, however, Norwegian law and thereby research ethics, as \n",
      "a start, tend to be considerably more strict than the U.S. (and even, in \n",
      "some instances, the E.U.).  I would like to figure out the differences \n",
      "and resulting nuances in the implications for research ethics - both for \n",
      "the sake of the general example and for an MA student project that I \n",
      "have the pleasure of supervising.\n",
      "\n",
      "Many thanks in advance for any tips and suggestions.\n",
      "\n",
      "All best,\n",
      "- charles ess\n",
      "\n",
      "-- \n",
      "Professor in Media Studies\n",
      "Department of Media and Communication\n",
      "University of Oslo\n",
      "<http://www.hf.uio.no/imk/english/people/aca/charlees/index.html>\n",
      "\n",
      "Postboks 1093\n",
      "Blindern 0317\n",
      "Oslo, Norway\n",
      "c.m.ess@media.uio.no\n",
      "_______________________________________________\n",
      "The Air-L@listserv.aoir.org mailing list\n",
      "is provided by the Association of Internet Researchers http://aoir.org\n",
      "Subscribe, change options or unsubscribe at: http://listserv.aoir.org/listinfo.cgi/air-l-aoir.org\n",
      "\n",
      "Join the Association of Internet Researchers:\n",
      "http://www.aoir.org/\n"
     ]
    }
   ],
   "source": [
    "with open('data/raw_email.txt', 'r') as fh:\n",
    "    print(fh.read())"
   ]
  },
  {
   "cell_type": "markdown",
   "metadata": {},
   "source": [
    "Get the email addresses of the lists this was sent to."
   ]
  },
  {
   "cell_type": "code",
   "execution_count": null,
   "metadata": {
    "collapsed": true
   },
   "outputs": [],
   "source": []
  },
  {
   "cell_type": "markdown",
   "metadata": {},
   "source": [
    "Get the name of the sender"
   ]
  },
  {
   "cell_type": "code",
   "execution_count": null,
   "metadata": {
    "collapsed": true
   },
   "outputs": [],
   "source": []
  },
  {
   "cell_type": "markdown",
   "metadata": {},
   "source": [
    "Get the email of the sender"
   ]
  },
  {
   "cell_type": "code",
   "execution_count": null,
   "metadata": {
    "collapsed": true
   },
   "outputs": [],
   "source": []
  },
  {
   "cell_type": "markdown",
   "metadata": {},
   "source": [
    "Find all the IP addresses"
   ]
  },
  {
   "cell_type": "code",
   "execution_count": null,
   "metadata": {
    "collapsed": true
   },
   "outputs": [],
   "source": []
  },
  {
   "cell_type": "markdown",
   "metadata": {},
   "source": [
    "Grab the link to unsubscribe from the list"
   ]
  },
  {
   "cell_type": "code",
   "execution_count": null,
   "metadata": {
    "collapsed": true
   },
   "outputs": [],
   "source": []
  },
  {
   "cell_type": "markdown",
   "metadata": {},
   "source": [
    "Pull out something else that you think is fun or interesting"
   ]
  },
  {
   "cell_type": "code",
   "execution_count": null,
   "metadata": {
    "collapsed": true
   },
   "outputs": [],
   "source": []
  }
 ],
 "metadata": {
  "kernelspec": {
   "display_name": "Python 3",
   "language": "python",
   "name": "python3"
  },
  "language_info": {
   "codemirror_mode": {
    "name": "ipython",
    "version": 3
   },
   "file_extension": ".py",
   "mimetype": "text/x-python",
   "name": "python",
   "nbconvert_exporter": "python",
   "pygments_lexer": "ipython3",
   "version": "3.6.3"
  }
 },
 "nbformat": 4,
 "nbformat_minor": 2
}
