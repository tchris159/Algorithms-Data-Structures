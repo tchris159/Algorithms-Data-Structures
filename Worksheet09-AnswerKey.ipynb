{
 "cells": [
  {
   "cell_type": "markdown",
   "metadata": {},
   "source": [
    "## Worksheet 09 - Getting started with Web Scraping\n",
    "  \n",
    "Your Name:   \n",
    "Your Class: INST 447  \n",
    "Your Section: 0101 (MWF) | 0102 (TTh)  \n",
    "Your favorite flavor of Frozen Yogurt, Ice Cream, Sorbet, or Other:  "
   ]
  },
  {
   "cell_type": "markdown",
   "metadata": {},
   "source": [
    "## Reading Reflection  \n",
    "\n",
    "Write a 75 word (+/- 15 words) response about the two assigned readings: \n",
    "\n",
    "\n",
    "> “Bots Are Scraping Your Data For Cash Amid Murky Laws And Ethics.” Accessed March 15, 2018. https://www.fastcompany.com/40456140/bots-are-scraping-your-public-data-for-cash-amid-murky-laws-and-ethics-linkedin-hiq (Links to an external site.).\n",
    "\n",
    "> Fiesler, Casey. “Law & Ethics of Scraping: What HiQ v LinkedIn Could Mean for Researchers Violating TOS.” Medium (blog), August 15, 2017. https://medium.com/@cfiesler/law-ethics-of-scraping-what-hiq-v-linkedin-could-mean-for-researchers-violating-tos-787bd3322540 (Links to an external site.).\n",
    "\n",
    "Prompting questions to get your brain moving:\n",
    "<ol>\n",
    "<li>What are your thoughts about the ethics of scraping?</li>\n",
    "<li>How would you feel if you found that your content was being scraped?</li>\n",
    "</ol>"
   ]
  },
  {
   "cell_type": "markdown",
   "metadata": {},
   "source": [
    "*Type Your Response Here*  \n"
   ]
  },
  {
   "cell_type": "code",
   "execution_count": 2,
   "metadata": {
    "collapsed": true
   },
   "outputs": [],
   "source": [
    "import requests\n",
    "from bs4 import BeautifulSoup\n",
    "import re"
   ]
  },
  {
   "cell_type": "markdown",
   "metadata": {},
   "source": [
    "# Scraping Testudo\n",
    "\n",
    "URL: https://app.testudo.umd.edu/\n",
    "\n",
    "## Check if we can scrape!\n",
    "\n",
    "We need to answeer all 3 of the below:\n",
    "<ol>\n",
    "<li>Is there a robots.txt file?</li>\n",
    "<li>Is there an X-Robots-Tag in the headder? (https://developers.google.com/search/reference/robots_meta_tag)</li>\n",
    "<li>Is there a robots meta tag that prohibits scraping? (http://www.robotstxt.org/meta.html)</li>\n",
    "</ol>\n",
    "\n",
    "We will also check to see if there is a licensing agreement prohibiting the use of this data."
   ]
  },
  {
   "cell_type": "markdown",
   "metadata": {},
   "source": [
    "#### Step 1: Check for robots.txt"
   ]
  },
  {
   "cell_type": "code",
   "execution_count": 2,
   "metadata": {
    "collapsed": true
   },
   "outputs": [],
   "source": [
    "r = requests.get(\"https://app.testudo.umd.edu/robots.txt\")"
   ]
  },
  {
   "cell_type": "markdown",
   "metadata": {},
   "source": [
    "We now check the response code to see what the server has said.\n",
    "So that you don't have to remember all the code numbers, the requests library has them as constants for you to refrence.  \n",
    "See: http://docs.python-requests.org/en/master/api/#status-code-lookup  \n",
    "Notice that it is very complete:  "
   ]
  },
  {
   "cell_type": "code",
   "execution_count": 3,
   "metadata": {},
   "outputs": [
    {
     "data": {
      "text/plain": [
       "418"
      ]
     },
     "execution_count": 3,
     "metadata": {},
     "output_type": "execute_result"
    }
   ],
   "source": [
    "requests.codes.i_am_a_teapot"
   ]
  },
  {
   "cell_type": "markdown",
   "metadata": {},
   "source": [
    "We if it is ok, then we have a robots.txt file to deal with. If not, then we don't have to worry about it."
   ]
  },
  {
   "cell_type": "code",
   "execution_count": 4,
   "metadata": {},
   "outputs": [
    {
     "data": {
      "text/plain": [
       "False"
      ]
     },
     "execution_count": 4,
     "metadata": {},
     "output_type": "execute_result"
    }
   ],
   "source": [
    "r.status_code == requests.codes.ok"
   ]
  },
  {
   "cell_type": "markdown",
   "metadata": {},
   "source": [
    "Nice, no robots.txt file."
   ]
  },
  {
   "cell_type": "markdown",
   "metadata": {},
   "source": [
    "#### Step 2: "
   ]
  },
  {
   "cell_type": "code",
   "execution_count": 5,
   "metadata": {},
   "outputs": [
    {
     "data": {
      "text/plain": [
       "True"
      ]
     },
     "execution_count": 5,
     "metadata": {},
     "output_type": "execute_result"
    }
   ],
   "source": [
    "testudo_url = \"https://app.testudo.umd.edu/\"\n",
    "\n",
    "r = requests.get(testudo_url)\n",
    "r.status_code == requests.codes.ok"
   ]
  },
  {
   "cell_type": "markdown",
   "metadata": {},
   "source": [
    "Is there an X-Robots-Tag in the header?  \n",
    "  \n",
    "\n",
    "r.headers is a dictionary, so I can check to see if the key exists in it and proceed from there."
   ]
  },
  {
   "cell_type": "code",
   "execution_count": 6,
   "metadata": {},
   "outputs": [
    {
     "name": "stdout",
     "output_type": "stream",
     "text": [
      "No x-robots-tag found\n"
     ]
    }
   ],
   "source": [
    "if r.headers.get('x-robots-tag'):\n",
    "    print(r.headers.get('x-robots-tag'))\n",
    "else:\n",
    "    print('No x-robots-tag found')"
   ]
  },
  {
   "cell_type": "markdown",
   "metadata": {},
   "source": [
    "#### Step 3: \n",
    "Is there a robots meta tag?  \n",
    "\n",
    "Meta tags can appear on any html page, so we should write a function to check. This will let us use it on any page..."
   ]
  },
  {
   "cell_type": "code",
   "execution_count": 7,
   "metadata": {
    "collapsed": true
   },
   "outputs": [],
   "source": [
    "parsed = BeautifulSoup(r.text, 'lxml')"
   ]
  },
  {
   "cell_type": "code",
   "execution_count": 8,
   "metadata": {
    "collapsed": true
   },
   "outputs": [],
   "source": [
    "def get_robots_meta(soup):\n",
    "    # get all the meta tags in the page\n",
    "    meta = soup.find('meta', attrs={'name': 'robots'})\n",
    "    \n",
    "    # if there are meta tags\n",
    "    if meta:\n",
    "        # pull out their content and turn the commands into a list\n",
    "        # then return that list of commands\n",
    "        return meta.attrs.get('content').split(',')\n",
    "    else:\n",
    "        # or return an empty list\n",
    "        return [] "
   ]
  },
  {
   "cell_type": "markdown",
   "metadata": {},
   "source": [
    "Now we can look for those important terms:"
   ]
  },
  {
   "cell_type": "code",
   "execution_count": 9,
   "metadata": {
    "collapsed": true
   },
   "outputs": [],
   "source": [
    "robo_meta = get_robots_meta(parsed)"
   ]
  },
  {
   "cell_type": "code",
   "execution_count": 10,
   "metadata": {},
   "outputs": [
    {
     "data": {
      "text/plain": [
       "False"
      ]
     },
     "execution_count": 10,
     "metadata": {},
     "output_type": "execute_result"
    }
   ],
   "source": [
    "# build a list of the important terms to look for\n",
    "stops = ['noindex', 'nofollow', 'none']\n",
    "\n",
    "# this is a very fancy way to check if any items of a list are in another list\n",
    "# but you could use any method that works for \n",
    "any(i in stops for i in robo_meta)"
   ]
  },
  {
   "cell_type": "markdown",
   "metadata": {},
   "source": [
    "#### Not programming, but looking:\n",
    "Are there policies or licensing agreements that prevent or allow our scraping of the data?  \n",
    "\n"
   ]
  },
  {
   "cell_type": "markdown",
   "metadata": {},
   "source": [
    "*Your Answer Here*"
   ]
  },
  {
   "cell_type": "markdown",
   "metadata": {},
   "source": [
    "## What iSchool Classes are listed on Testudo for Fall 2018?"
   ]
  },
  {
   "cell_type": "markdown",
   "metadata": {},
   "source": [
    "It is getting close to registration time. Wouldn't it be nice to be able to have a way to be told automatically if they change the courses listed?  \n",
    "\n",
    "The URL I have provided goes straight to the course listings for the INST Fall 2018 Semester course listings. We'll need to parse the page and get a list of the courses and the sections and the times each section meets."
   ]
  },
  {
   "cell_type": "code",
   "execution_count": 11,
   "metadata": {
    "collapsed": true
   },
   "outputs": [],
   "source": [
    "testudo_url = \"https://app.testudo.umd.edu/soc/201808/INST\""
   ]
  },
  {
   "cell_type": "markdown",
   "metadata": {},
   "source": [
    "### First get the page.\n",
    "\n",
    "<ol><li>Get the page.</li>\n",
    "<li>Check the response status.</li>\n",
    "<li>Parse the response with BeautifulSoup</li>\n",
    "<li>Check if there is a robots meta.</li>\n",
    "<li>Check if there is a 'x-robots-tag' in the header response.</li></ol>"
   ]
  },
  {
   "cell_type": "code",
   "execution_count": 12,
   "metadata": {},
   "outputs": [
    {
     "data": {
      "text/plain": [
       "True"
      ]
     },
     "execution_count": 12,
     "metadata": {},
     "output_type": "execute_result"
    }
   ],
   "source": [
    "r = requests.get(testudo_url)\n",
    "r.status_code == requests.codes.ok"
   ]
  },
  {
   "cell_type": "code",
   "execution_count": 13,
   "metadata": {},
   "outputs": [
    {
     "data": {
      "text/plain": [
       "[]"
      ]
     },
     "execution_count": 13,
     "metadata": {},
     "output_type": "execute_result"
    }
   ],
   "source": [
    "parsed = BeautifulSoup(r.text, 'lxml')\n",
    "# Check for the robots meta \n",
    "get_robots_meta(parsed)"
   ]
  },
  {
   "cell_type": "code",
   "execution_count": 14,
   "metadata": {},
   "outputs": [
    {
     "name": "stdout",
     "output_type": "stream",
     "text": [
      "No x-robots-tag\n"
     ]
    }
   ],
   "source": [
    "# Check the x-robots-tag\n",
    "if r.headers.get('x-robots-tag'):\n",
    "    print('Check x-robots-tag!')\n",
    "else:\n",
    "    print('No x-robots-tag')"
   ]
  },
  {
   "cell_type": "markdown",
   "metadata": {},
   "source": [
    "#### Find the elements to grab.\n",
    "\n",
    "In your browser, use the inspector to find the element that contains each course.\n",
    "\n",
    "What element contains each course?"
   ]
  },
  {
   "cell_type": "markdown",
   "metadata": {},
   "source": [
    "*Your answer here*"
   ]
  },
  {
   "cell_type": "markdown",
   "metadata": {},
   "source": [
    "#### Now get a list of each of those elements from the parsed html\n",
    "\n",
    "How many do you get?"
   ]
  },
  {
   "cell_type": "code",
   "execution_count": 15,
   "metadata": {},
   "outputs": [
    {
     "data": {
      "text/plain": [
       "53"
      ]
     },
     "execution_count": 15,
     "metadata": {},
     "output_type": "execute_result"
    }
   ],
   "source": [
    "courses = parsed.find_all('div', attrs={'class': 'course'})\n",
    "len(courses)"
   ]
  },
  {
   "cell_type": "markdown",
   "metadata": {},
   "source": [
    "Instead of using find, we could also use select. Select lets us use CSS-style selectors, if that is what you feel comfortable with. Then go for it.\n",
    "\n",
    "CSS Selectors reference: https://www.w3schools.com/cssref/css_selectors.asp\n",
    "\n",
    "select is to find_all, as select_one is to find"
   ]
  },
  {
   "cell_type": "code",
   "execution_count": 16,
   "metadata": {},
   "outputs": [
    {
     "data": {
      "text/plain": [
       "53"
      ]
     },
     "execution_count": 16,
     "metadata": {},
     "output_type": "execute_result"
    }
   ],
   "source": [
    "len(parsed.select('.course'))"
   ]
  },
  {
   "cell_type": "markdown",
   "metadata": {},
   "source": [
    "#### Let's test on the first course\n",
    "\n",
    "Create a dictionary that contains:  \n",
    "- Course ID\n",
    "- Course Title\n",
    "- Course Credits"
   ]
  },
  {
   "cell_type": "code",
   "execution_count": 17,
   "metadata": {
    "collapsed": true
   },
   "outputs": [],
   "source": [
    "first_course = courses[0]\n",
    "course_dict = {'course_id': first_course.select_one('.course-id').text,\n",
    "               'course_title': first_course.select_one('.course-title').text,\n",
    "               # As select is to find_all, select_one is to find:\n",
    "               'course_credits': first_course.select_one('.course-min-credits').text}"
   ]
  },
  {
   "cell_type": "code",
   "execution_count": 18,
   "metadata": {},
   "outputs": [
    {
     "data": {
      "text/plain": [
       "{'course_id': 'INST126',\n",
       " 'course_title': 'Introduction to Programming for Information Science',\n",
       " 'course_credits': '3'}"
      ]
     },
     "execution_count": 18,
     "metadata": {},
     "output_type": "execute_result"
    }
   ],
   "source": [
    "course_dict"
   ]
  },
  {
   "cell_type": "markdown",
   "metadata": {},
   "source": [
    "#### Loading sections:\n",
    "The sections are kept on a separate page and loaded with JavaScript:  \n",
    "\n",
    "> https://app.testudo.umd.edu/soc/201808/sections?courseIds=<course-id\\>  \n",
    "    \n",
    "You need to replace the <course-id\\> with the course id of the course whose sections you want to lookup.\n",
    "\n",
    "\n",
    "Make a request to get the sections for that first course that you worked with and parse that response.\n",
    "We will then add the sections' information to the dictionary you created above for the course."
   ]
  },
  {
   "cell_type": "markdown",
   "metadata": {},
   "source": [
    "#### Make the request\n",
    "With requests.get we can build the query string (the part after the '?') by using a dictionary as the second argumnet. This makes building complex queries much easier over time and prevents you from passing the same key multiple times.\n",
    "\n",
    "We do this like:\n",
    "> requests.get(url, {'key', 'value'})"
   ]
  },
  {
   "cell_type": "code",
   "execution_count": 4,
   "metadata": {},
   "outputs": [
    {
     "data": {
      "text/plain": [
       "True"
      ]
     },
     "execution_count": 4,
     "metadata": {},
     "output_type": "execute_result"
    }
   ],
   "source": [
    "r = requests.get('https://app.testudo.umd.edu/soc/201808/sections',\n",
    "                 {'courseIds': 'INST126'})\n",
    "r.status_code == requests.codes.ok"
   ]
  },
  {
   "cell_type": "markdown",
   "metadata": {},
   "source": [
    "#### Create a parse 'soup' object from the response with BeaufulSoup"
   ]
  },
  {
   "cell_type": "code",
   "execution_count": 5,
   "metadata": {},
   "outputs": [
    {
     "data": {
      "text/plain": [
       "<html><body><div>\n",
       "<div class=\"course-sections\" id=\"INST126\">\n",
       "<div class=\"sections-container\">\n",
       "<div class=\"sections sixteen colgrid\">\n",
       "<div class=\"section delivery-f2f\">\n",
       "<input name=\"sectionId\" type=\"hidden\" value=\"0101\"/>\n",
       "<div class=\"section-info-container\">\n",
       "<div class=\"row\">\n",
       "<div class=\"section-id-container two columns\">\n",
       "<span class=\"section-id\">\n",
       "\t\t\t\t\t\t\t\t\t\t0101\n",
       "\t\t\t\t\t\t\t\t\t</span>\n",
       "</div>\n",
       "<div class=\"section-instructors-container six columns\">\n",
       "<span class=\"section-instructors\">\n",
       "<span class=\"section-instructor\">Jonathan Brier</span>\n",
       "</span>\n",
       "</div>\n",
       "<div class=\"seats-info-group six columns\">\n",
       "<div>\n",
       "<span class=\"section-info-label\">Seats</span>\n",
       "<span class=\"seats-info\">\n",
       "<span class=\"total-seats\">\n",
       "\t\t\t\t\t\t\t\t\t\t\t\t(<span class=\"seats-info-label\">Total:</span>\n",
       "<span class=\"total-seats-count\">50</span>,\n",
       "\t\t\t\t\t\t\t\t\t\t\t</span>\n",
       "<span class=\"open-seats has-open-seats\">\n",
       "<span class=\"seats-info-label\">Open:</span>\n",
       "<span class=\"open-seats-count\">36</span>,\n",
       "\t\t\t\t\t\t\t\t\t\t\t</span>\n",
       "<span class=\"waitlist \">\n",
       "<a href=\"http://www.registrar.umd.edu/current/registration/registration.html#waithold\">\n",
       "<span class=\"seats-info-label\"> Waitlist:</span>\n",
       "<span class=\"waitlist-count\">0</span>\n",
       "</a>)\n",
       "\t\t\t\t\t\t\t\t\t\t\t\t\n",
       "\t\t\t\t\t\t\t\t\t\t\t\t\n",
       "\t\t\t\t\t\t\t\t\t\t\t\t</span>\n",
       "</span>\n",
       "</div>\n",
       "</div>\n",
       "<div class=\"section-action-links-container two columns\">\n",
       "<!--\n",
       "\t\t\t\t\t\t\t\t\t<a href=\"#\" class=\"saved-course-section-toggle-link\" title=\"Add to My Saved List\">\n",
       "\t\t\t\t\t\t\t\t\t\t<input type=\"hidden\" name=\"courseId\" value=\"INST126\" />\n",
       "\t\t\t\t\t\t\t\t\t\t<input type=\"hidden\" name=\"sectionId\" value=\"0101\" />\n",
       "\t\t\t\t\t\t\t\t\t\t<img src=\"/soc/resources/images/unsaved-star.png\" />\n",
       "\t\t\t\t\t\t\t\t\t</a>\n",
       "\t\t\t\t\t\t\t\t\t-->\n",
       "<a class=\"bookstore-link\" href=\"#\">\n",
       "<img alt=\"Bookstore\" src=\"/soc/resources/images/bookstore.png\" title=\"Bookstore\"/>\n",
       "</a>\n",
       "</div>\n",
       "</div>\n",
       "</div> <!-- end section-info-container -->\n",
       "<div class=\"class-days-container\">\n",
       "<div class=\"row\">\n",
       "<div class=\"section-day-time-group push_two five columns\">\n",
       "<span class=\"section-days\">MWF</span>\n",
       "<span class=\"class-start-time\">2:00pm</span> - <span class=\"class-end-time\">2:50pm</span>\n",
       "</div>\n",
       "<div class=\"section-class-building-group push_one three columns\">\n",
       "<span class=\"class-building\">\n",
       "<a style=\"color:#A81919;\" target=\"_blank\"><span class=\"building-code\">ATL</span></a>\n",
       "<span class=\"class-room\">1113</span>\n",
       "</span>\n",
       "</div>\n",
       "</div>\n",
       "</div>\n",
       "</div>\n",
       "<div class=\"section delivery-f2f\">\n",
       "<input name=\"sectionId\" type=\"hidden\" value=\"0102\"/>\n",
       "<div class=\"section-info-container\">\n",
       "<div class=\"row\">\n",
       "<div class=\"section-id-container two columns\">\n",
       "<span class=\"section-id\">\n",
       "\t\t\t\t\t\t\t\t\t\t0102\n",
       "\t\t\t\t\t\t\t\t\t</span>\n",
       "</div>\n",
       "<div class=\"section-instructors-container six columns\">\n",
       "<span class=\"section-instructors\">\n",
       "<span class=\"section-instructor\">Bill Kules</span>\n",
       "</span>\n",
       "</div>\n",
       "<div class=\"seats-info-group six columns\">\n",
       "<div>\n",
       "<span class=\"section-info-label\">Seats</span>\n",
       "<span class=\"seats-info\">\n",
       "<span class=\"total-seats\">\n",
       "\t\t\t\t\t\t\t\t\t\t\t\t(<span class=\"seats-info-label\">Total:</span>\n",
       "<span class=\"total-seats-count\">60</span>,\n",
       "\t\t\t\t\t\t\t\t\t\t\t</span>\n",
       "<span class=\"open-seats has-open-seats\">\n",
       "<span class=\"seats-info-label\">Open:</span>\n",
       "<span class=\"open-seats-count\">28</span>,\n",
       "\t\t\t\t\t\t\t\t\t\t\t</span>\n",
       "<span class=\"waitlist \">\n",
       "<a href=\"http://www.registrar.umd.edu/current/registration/registration.html#waithold\">\n",
       "<span class=\"seats-info-label\"> Waitlist:</span>\n",
       "<span class=\"waitlist-count\">0</span>\n",
       "</a>)\n",
       "\t\t\t\t\t\t\t\t\t\t\t\t\n",
       "\t\t\t\t\t\t\t\t\t\t\t\t\n",
       "\t\t\t\t\t\t\t\t\t\t\t\t</span>\n",
       "</span>\n",
       "</div>\n",
       "</div>\n",
       "<div class=\"section-action-links-container two columns\">\n",
       "<!--\n",
       "\t\t\t\t\t\t\t\t\t<a href=\"#\" class=\"saved-course-section-toggle-link\" title=\"Add to My Saved List\">\n",
       "\t\t\t\t\t\t\t\t\t\t<input type=\"hidden\" name=\"courseId\" value=\"INST126\" />\n",
       "\t\t\t\t\t\t\t\t\t\t<input type=\"hidden\" name=\"sectionId\" value=\"0102\" />\n",
       "\t\t\t\t\t\t\t\t\t\t<img src=\"/soc/resources/images/unsaved-star.png\" />\n",
       "\t\t\t\t\t\t\t\t\t</a>\n",
       "\t\t\t\t\t\t\t\t\t-->\n",
       "<a class=\"bookstore-link\" href=\"#\">\n",
       "<img alt=\"Bookstore\" src=\"/soc/resources/images/bookstore.png\" title=\"Bookstore\"/>\n",
       "</a>\n",
       "</div>\n",
       "</div>\n",
       "</div> <!-- end section-info-container -->\n",
       "<div class=\"class-days-container\">\n",
       "<div class=\"row\">\n",
       "<div class=\"section-day-time-group push_two five columns\">\n",
       "<span class=\"section-days\">TuTh</span>\n",
       "<span class=\"class-start-time\">9:30am</span> - <span class=\"class-end-time\">10:45am</span>\n",
       "</div>\n",
       "<div class=\"section-class-building-group push_one three columns\">\n",
       "<span class=\"class-building\">\n",
       "<a style=\"color:#A81919;\" target=\"_blank\"><span class=\"building-code\">ESJ</span></a>\n",
       "<span class=\"class-room\">2212</span>\n",
       "</span>\n",
       "</div>\n",
       "</div>\n",
       "</div>\n",
       "</div>\n",
       "<div class=\"section delivery-f2f\">\n",
       "<input name=\"sectionId\" type=\"hidden\" value=\"0103\"/>\n",
       "<div class=\"section-info-container\">\n",
       "<div class=\"row\">\n",
       "<div class=\"section-id-container two columns\">\n",
       "<span class=\"section-id\">\n",
       "\t\t\t\t\t\t\t\t\t\t0103\n",
       "\t\t\t\t\t\t\t\t\t</span>\n",
       "</div>\n",
       "<div class=\"section-instructors-container six columns\">\n",
       "<span class=\"section-instructors\">\n",
       "<span class=\"section-instructor\">Instructor: TBA</span>\n",
       "</span>\n",
       "</div>\n",
       "<div class=\"seats-info-group six columns\">\n",
       "<div>\n",
       "<span class=\"section-info-label\">Seats</span>\n",
       "<span class=\"seats-info\">\n",
       "<span class=\"total-seats\">\n",
       "\t\t\t\t\t\t\t\t\t\t\t\t(<span class=\"seats-info-label\">Total:</span>\n",
       "<span class=\"total-seats-count\">50</span>,\n",
       "\t\t\t\t\t\t\t\t\t\t\t</span>\n",
       "<span class=\"open-seats has-open-seats\">\n",
       "<span class=\"seats-info-label\">Open:</span>\n",
       "<span class=\"open-seats-count\">27</span>,\n",
       "\t\t\t\t\t\t\t\t\t\t\t</span>\n",
       "<span class=\"waitlist \">\n",
       "<a href=\"http://www.registrar.umd.edu/current/registration/registration.html#waithold\">\n",
       "<span class=\"seats-info-label\"> Waitlist:</span>\n",
       "<span class=\"waitlist-count\">0</span>\n",
       "</a>)\n",
       "\t\t\t\t\t\t\t\t\t\t\t\t\n",
       "\t\t\t\t\t\t\t\t\t\t\t\t\n",
       "\t\t\t\t\t\t\t\t\t\t\t\t</span>\n",
       "</span>\n",
       "</div>\n",
       "</div>\n",
       "<div class=\"section-action-links-container two columns\">\n",
       "<!--\n",
       "\t\t\t\t\t\t\t\t\t<a href=\"#\" class=\"saved-course-section-toggle-link\" title=\"Add to My Saved List\">\n",
       "\t\t\t\t\t\t\t\t\t\t<input type=\"hidden\" name=\"courseId\" value=\"INST126\" />\n",
       "\t\t\t\t\t\t\t\t\t\t<input type=\"hidden\" name=\"sectionId\" value=\"0103\" />\n",
       "\t\t\t\t\t\t\t\t\t\t<img src=\"/soc/resources/images/unsaved-star.png\" />\n",
       "\t\t\t\t\t\t\t\t\t</a>\n",
       "\t\t\t\t\t\t\t\t\t-->\n",
       "<a class=\"bookstore-link\" href=\"#\">\n",
       "<img alt=\"Bookstore\" src=\"/soc/resources/images/bookstore.png\" title=\"Bookstore\"/>\n",
       "</a>\n",
       "</div>\n",
       "</div>\n",
       "</div> <!-- end section-info-container -->\n",
       "<div class=\"class-days-container\">\n",
       "<div class=\"row\">\n",
       "<div class=\"section-day-time-group push_two five columns\">\n",
       "<span class=\"section-days\">TuTh</span>\n",
       "<span class=\"class-start-time\">3:30pm</span> - <span class=\"class-end-time\">4:45pm</span>\n",
       "</div>\n",
       "<div class=\"section-class-building-group push_one three columns\">\n",
       "<span class=\"class-building\">\n",
       "<a style=\"color:#A81919;\" target=\"_blank\"><span class=\"building-code\">SQH</span></a>\n",
       "<span class=\"class-room\">1117</span>\n",
       "</span>\n",
       "</div>\n",
       "</div>\n",
       "</div>\n",
       "</div>\n",
       "</div>\n",
       "</div>\n",
       "</div>\n",
       "</div></body></html>"
      ]
     },
     "execution_count": 5,
     "metadata": {},
     "output_type": "execute_result"
    }
   ],
   "source": [
    "sect_parsed = BeautifulSoup(r.text, 'lxml')\n",
    "sect_parsed"
   ]
  },
  {
   "cell_type": "markdown",
   "metadata": {},
   "source": [
    "#### Get the section's container element\n",
    "\n",
    "Go to your browser and find the container element that holds each section's info. Then create a list with each section in it:"
   ]
  },
  {
   "cell_type": "code",
   "execution_count": 21,
   "metadata": {
    "collapsed": true
   },
   "outputs": [],
   "source": [
    "sections = sect_parsed.select('div.delivery-f2f')"
   ]
  },
  {
   "cell_type": "code",
   "execution_count": 22,
   "metadata": {},
   "outputs": [
    {
     "data": {
      "text/plain": [
       "3"
      ]
     },
     "execution_count": 22,
     "metadata": {},
     "output_type": "execute_result"
    }
   ],
   "source": [
    "len(sections)"
   ]
  },
  {
   "cell_type": "markdown",
   "metadata": {},
   "source": [
    "#### Now get the info for each section.\n",
    "Save the section_id, instructor, and days with time that the class meets. \n",
    "Save each section into the dictionary that you used for the course.\n",
    "\n",
    "You should end up with a data structure that looks like:\n",
    "<pre>\n",
    "[{'instructor': ['Instructor Name'],\n",
    "  'meeting_place': 'BUILDING ROOM#',\n",
    "  'meeting_time': 'DAYS TIME',\n",
    "  'section_id': 'SECTION_ID'}]\n",
    "</pre>\n",
    "That is a list that contains a dictionary for each section. Note that the key 'instructor' is also a list because sometimes there are muliple instructors for a section."
   ]
  },
  {
   "cell_type": "code",
   "execution_count": 23,
   "metadata": {
    "collapsed": true
   },
   "outputs": [],
   "source": [
    "sections_list = []\n",
    "for s in sections:\n",
    "    s_id = s.select_one('.section-id').text.strip()\n",
    "    inst = []\n",
    "    for name in s.select('.section-instructor'):\n",
    "            inst.append(name.text.strip())\n",
    "    days = sections[0].select_one('.section-days').text.strip()\n",
    "    time = sections[0].select_one('.class-start-time').text.strip() + ' - ' + sections[0].select_one('.class-end-time').text.strip()\n",
    "    meeting_place = sections[0].select_one('.section-class-building-group').text.strip().replace('\\n', ' ')\n",
    "    sections_list.append({'section_id': s_id,\n",
    "                          'instructor': inst,\n",
    "                          'meeting_time': days + ' ' + time,\n",
    "                          'meeting_place': meeting_place})"
   ]
  },
  {
   "cell_type": "markdown",
   "metadata": {},
   "source": [
    "#### Add the sections to the course dictionary\n",
    "\n",
    "Add the sections information to the course information so that you end up with a structure like:\n",
    "\n",
    "<pre>\n",
    "{'course_credits': 'NUM CREDITS',\n",
    " 'course_id': 'COURSE_ID',\n",
    " 'course_title': 'COURSE_TITLE',\n",
    " 'sections': [{'instructor': ['INSTRUCTOR NAME'],\n",
    "   'meeting_place': 'BUILDING ROOM#',\n",
    "   'meeting_time': 'DAYS TIME',\n",
    "   'section_id': 'SECTION_ID'}]}\n",
    "</pre>"
   ]
  },
  {
   "cell_type": "code",
   "execution_count": 24,
   "metadata": {
    "collapsed": true
   },
   "outputs": [],
   "source": [
    "course_dict['sections'] = sections_list"
   ]
  },
  {
   "cell_type": "markdown",
   "metadata": {},
   "source": [
    "### Collect them All!\n",
    "\n",
    "Ok, so you've just collected the info for a single course. Now do it for all of the courses for INST.\n",
    "\n",
    "The result should be a data structure that when printed looks like:\n",
    "\n",
    "<pre>\n",
    "[{'course_id': 'COURSE_ID',\n",
    " 'course_title': 'COURSE_TITLE',\n",
    " 'course_credits': 'NUM CREDITS',\n",
    " 'sections': [{'instructor': ['INSTRUCTOR NAME'],\n",
    "   'meeting_place': 'BUILDING ROOM#',\n",
    "   'meeting_time': 'DAYS TIME',\n",
    "   'section_id': 'SECTION_ID'}]}\n",
    "]\n",
    "</pre>\n",
    "That is a list that contains a dictionary. The dictionary contains the information for the course and has a key called sections. The key sections contains a list of dictionaries that contain each sections' information."
   ]
  },
  {
   "cell_type": "code",
   "execution_count": 26,
   "metadata": {
    "collapsed": true
   },
   "outputs": [],
   "source": [
    "def get_courses(dept = 'INST', semester = '201808'):\n",
    "    courses_list = []\n",
    "    url = 'https://app.testudo.umd.edu/soc/%s/%s' % (semester, dept)\n",
    "    r = requests.get(url)\n",
    "    if r.status_code == requests.codes.ok:\n",
    "        courses_soup = BeautifulSoup(r.content, 'lxml')\n",
    "        course_snippets = courses_soup.select('.course')\n",
    "        if len(course_snippets) > 0:\n",
    "            for course in course_snippets:\n",
    "                sections_list = get_sections(course.select_one('.course-id').text)\n",
    "                course_dict = {'course_id': course.select_one('.course-id').text,\n",
    "                               'course_title': course.select_one('.course-title').text,\n",
    "                               # As select is to find_all, select_one is to find:\n",
    "                               'course_credits': course.select_one('.course-min-credits').text,\n",
    "                               'sections': sections_list}\n",
    "                \n",
    "                courses_list.append(course_dict)\n",
    "        else:\n",
    "            print(\"NO INFO\")\n",
    "    else:\n",
    "        print(\"ON NO: %s\", r.status_code)\n",
    "    return courses_list"
   ]
  },
  {
   "cell_type": "code",
   "execution_count": 27,
   "metadata": {
    "collapsed": true
   },
   "outputs": [],
   "source": [
    "def get_sections(course_id = 'INST126', semester = '201808'):\n",
    "    sections_list = []\n",
    "    url = 'https://app.testudo.umd.edu/soc/%s/sections' % semester\n",
    "    r = requests.get(url,\n",
    "                 {'courseIds': course_id})\n",
    "    if r.status_code == requests.codes.ok:\n",
    "        sections_soup = BeautifulSoup(r.content, 'lxml')\n",
    "        sections = sections_soup.select('div.delivery-f2f')\n",
    "        for s in sections:\n",
    "            s_id = s.select_one('.section-id').text.strip()\n",
    "            inst = []\n",
    "            for name in s.select('.section-instructor'):\n",
    "                    inst.append(name.text.strip())\n",
    "            if s.select_one('.class-message'):\n",
    "                meeting_place = s.select_one('.class-message').text.strip()\n",
    "                meeting_time = ''\n",
    "            else:\n",
    "                days = s.select_one('.section-days').text.strip()\n",
    "                time = s.select_one('.class-start-time').text.strip() + ' - ' + s.select_one('.class-end-time').text.strip()\n",
    "                meeting_time = days + ' ' + time\n",
    "                meeting_place = s.select_one('.section-class-building-group').text.strip().replace('\\n', ' ')\n",
    "            sections_list.append({'section_id': s_id,\n",
    "                                  'instructor': inst,\n",
    "                                  'meeting_time': meeting_time,\n",
    "                                  'meeting_place': meeting_place})\n",
    "    else:\n",
    "        print('Boo!')\n",
    "    return sections_list"
   ]
  },
  {
   "cell_type": "code",
   "execution_count": 28,
   "metadata": {
    "collapsed": true
   },
   "outputs": [],
   "source": [
    "inst_course = get_courses()"
   ]
  },
  {
   "cell_type": "code",
   "execution_count": 29,
   "metadata": {},
   "outputs": [
    {
     "data": {
      "text/plain": [
       "[{'course_id': 'INST126',\n",
       "  'course_title': 'Introduction to Programming for Information Science',\n",
       "  'course_credits': '3',\n",
       "  'sections': [{'section_id': '0101',\n",
       "    'instructor': ['Jonathan Brier'],\n",
       "    'meeting_time': 'MWF 2:00pm - 2:50pm',\n",
       "    'meeting_place': 'ATL 1113'},\n",
       "   {'section_id': '0102',\n",
       "    'instructor': ['Bill Kules'],\n",
       "    'meeting_time': 'TuTh 9:30am - 10:45am',\n",
       "    'meeting_place': 'ESJ 2212'},\n",
       "   {'section_id': '0103',\n",
       "    'instructor': ['Instructor: TBA'],\n",
       "    'meeting_time': 'TuTh 3:30pm - 4:45pm',\n",
       "    'meeting_place': 'SQH 1117'}]},\n",
       " {'course_id': 'INST201',\n",
       "  'course_title': 'Introduction to Information Science',\n",
       "  'course_credits': '3',\n",
       "  'sections': [{'section_id': '0101',\n",
       "    'instructor': ['Instructor: TBA'],\n",
       "    'meeting_time': 'TuTh 12:30pm - 1:45pm',\n",
       "    'meeting_place': 'SQH 1120'},\n",
       "   {'section_id': '0102',\n",
       "    'instructor': ['Instructor: TBA'],\n",
       "    'meeting_time': 'MWF 10:00am - 10:50am',\n",
       "    'meeting_place': 'TWS 0310'},\n",
       "   {'section_id': '0103',\n",
       "    'instructor': ['Kelly Hoffman'],\n",
       "    'meeting_time': 'TuTh 3:30pm - 4:45pm',\n",
       "    'meeting_place': 'SQH 1119'},\n",
       "   {'section_id': '0104',\n",
       "    'instructor': ['Instructor: TBA'],\n",
       "    'meeting_time': 'MW 5:00pm - 6:15pm',\n",
       "    'meeting_place': 'TYD 1132'}]},\n",
       " {'course_id': 'INST309',\n",
       "  'course_title': 'Independent Study in Information Science',\n",
       "  'course_credits': '1',\n",
       "  'sections': [{'section_id': '0101',\n",
       "    'instructor': ['Richard Marciano'],\n",
       "    'meeting_time': '',\n",
       "    'meeting_place': 'Contact department or instructor for details.'},\n",
       "   {'section_id': '2401',\n",
       "    'instructor': ['Bill Kules'],\n",
       "    'meeting_time': '',\n",
       "    'meeting_place': 'Contact department or instructor for details.'},\n",
       "   {'section_id': '2801',\n",
       "    'instructor': ['Eun Kyoung Choe'],\n",
       "    'meeting_time': '',\n",
       "    'meeting_place': 'Contact department or instructor for details.'}]},\n",
       " {'course_id': 'INST309B',\n",
       "  'course_title': 'Independent Study in Information Science; Consumer Health Informatics',\n",
       "  'course_credits': '3',\n",
       "  'sections': [{'section_id': '1501',\n",
       "    'instructor': ['Beth St Jean'],\n",
       "    'meeting_time': 'M 6:00pm - 8:45pm',\n",
       "    'meeting_place': 'JMZ 3118'}]},\n",
       " {'course_id': 'INST311',\n",
       "  'course_title': 'Information Organization',\n",
       "  'course_credits': '3',\n",
       "  'sections': [{'section_id': '0101',\n",
       "    'instructor': ['Instructor: TBA'],\n",
       "    'meeting_time': 'TuTh 11:00am - 12:15pm',\n",
       "    'meeting_place': 'ATL 2428'},\n",
       "   {'section_id': '0102',\n",
       "    'instructor': ['Katy Lawley'],\n",
       "    'meeting_time': 'MWF 2:00pm - 2:50pm',\n",
       "    'meeting_place': 'ATL 2428'},\n",
       "   {'section_id': '0103',\n",
       "    'instructor': ['Katy Lawley'],\n",
       "    'meeting_time': 'MWF 3:00pm - 3:50pm',\n",
       "    'meeting_place': 'ITV 1111'},\n",
       "   {'section_id': '0104',\n",
       "    'instructor': ['Instructor: TBA'],\n",
       "    'meeting_time': 'TuTh 9:30am - 10:45am',\n",
       "    'meeting_place': 'PHY 1402'}]},\n",
       " {'course_id': 'INST314',\n",
       "  'course_title': 'Statistics for Information Science',\n",
       "  'course_credits': '3',\n",
       "  'sections': [{'section_id': '0101',\n",
       "    'instructor': ['Yla Tausczik'],\n",
       "    'meeting_time': 'TuTh 3:30pm - 4:45pm',\n",
       "    'meeting_place': 'LEF 1220'},\n",
       "   {'section_id': '0103',\n",
       "    'instructor': ['Instructor: TBA'],\n",
       "    'meeting_time': 'TuTh 12:30pm - 1:45pm',\n",
       "    'meeting_place': 'KEY 0126'},\n",
       "   {'section_id': '0104',\n",
       "    'instructor': ['Instructor: TBA'],\n",
       "    'meeting_time': 'MWF 1:00pm - 1:50pm',\n",
       "    'meeting_place': 'JMZ 2206'},\n",
       "   {'section_id': '0201',\n",
       "    'instructor': ['Instructor: TBA'],\n",
       "    'meeting_time': 'MWF 11:00am - 11:50am',\n",
       "    'meeting_place': 'SQH 1119'}]},\n",
       " {'course_id': 'INST326',\n",
       "  'course_title': 'Object-Oriented Programming for Information Science',\n",
       "  'course_credits': '3',\n",
       "  'sections': [{'section_id': '0101',\n",
       "    'instructor': ['Aric Bills'],\n",
       "    'meeting_time': 'TuTh 12:30pm - 1:45pm',\n",
       "    'meeting_place': 'PHY 4221'},\n",
       "   {'section_id': '0102',\n",
       "    'instructor': ['Instructor: TBA'],\n",
       "    'meeting_time': 'MWF 3:00pm - 3:50pm',\n",
       "    'meeting_place': 'SPH 0308'},\n",
       "   {'section_id': '0103',\n",
       "    'instructor': ['Instructor: TBA'],\n",
       "    'meeting_time': 'MWF 2:00pm - 2:50pm',\n",
       "    'meeting_place': 'SKN 0104'},\n",
       "   {'section_id': '0104',\n",
       "    'instructor': ['Instructor: TBA'],\n",
       "    'meeting_time': 'TuTh 9:30am - 10:45am',\n",
       "    'meeting_place': 'PHY 1204'}]},\n",
       " {'course_id': 'INST327',\n",
       "  'course_title': 'Database Design and Modeling',\n",
       "  'course_credits': '3',\n",
       "  'sections': [{'section_id': '0101',\n",
       "    'instructor': ['Instructor: TBA'],\n",
       "    'meeting_time': 'TuTh 2:00pm - 3:15pm',\n",
       "    'meeting_place': 'EGR 0108'},\n",
       "   {'section_id': '0102',\n",
       "    'instructor': ['Instructor: TBA'],\n",
       "    'meeting_time': 'MWF 10:00am - 10:50am',\n",
       "    'meeting_place': 'ATL 2428'},\n",
       "   {'section_id': '0103',\n",
       "    'instructor': ['Instructor: TBA'],\n",
       "    'meeting_time': 'MWF 1:00pm - 1:50pm',\n",
       "    'meeting_place': 'WDS 1114'},\n",
       "   {'section_id': '0104',\n",
       "    'instructor': ['Instructor: TBA'],\n",
       "    'meeting_time': 'TuTh 5:00pm - 6:15pm',\n",
       "    'meeting_place': 'WDS 1114'}]},\n",
       " {'course_id': 'INST335',\n",
       "  'course_title': 'Teams and Organizations',\n",
       "  'course_credits': '3',\n",
       "  'sections': [{'section_id': '0101',\n",
       "    'instructor': ['Instructor: TBA'],\n",
       "    'meeting_time': 'TuTh 2:00pm - 3:15pm',\n",
       "    'meeting_place': 'ARC 1103'},\n",
       "   {'section_id': '0102',\n",
       "    'instructor': ['Instructor: TBA'],\n",
       "    'meeting_time': 'MWF 1:00pm - 1:50pm',\n",
       "    'meeting_place': 'HBK 0115'},\n",
       "   {'section_id': '0103',\n",
       "    'instructor': ['Instructor: TBA'],\n",
       "    'meeting_time': 'MWF 10:00am - 10:50am',\n",
       "    'meeting_place': 'PHY 1204'},\n",
       "   {'section_id': '0104',\n",
       "    'instructor': ['Taverekere Srikantaiah'],\n",
       "    'meeting_time': 'TuTh 11:00am - 12:15pm',\n",
       "    'meeting_place': 'TYD 1101'}]},\n",
       " {'course_id': 'INST346',\n",
       "  'course_title': 'Technologies Infrastructure and Architecture',\n",
       "  'course_credits': '3',\n",
       "  'sections': [{'section_id': '0101',\n",
       "    'instructor': ['Instructor: TBA'],\n",
       "    'meeting_time': 'TuTh 5:00pm - 6:15pm',\n",
       "    'meeting_place': 'JMZ 2206'},\n",
       "   {'section_id': '0102',\n",
       "    'instructor': ['Instructor: TBA'],\n",
       "    'meeting_time': 'MWF 1:00pm - 1:50pm',\n",
       "    'meeting_place': 'SQH 1117'},\n",
       "   {'section_id': '0103',\n",
       "    'instructor': ['Instructor: TBA'],\n",
       "    'meeting_time': 'TuTh 12:30pm - 1:45pm',\n",
       "    'meeting_place': 'WDS 1114'}]},\n",
       " {'course_id': 'INST352',\n",
       "  'course_title': 'Information User Needs and Assessment',\n",
       "  'course_credits': '3',\n",
       "  'sections': [{'section_id': '0101',\n",
       "    'instructor': ['Ursula Gorham-Oscilowski'],\n",
       "    'meeting_time': 'TuTh 11:00am - 12:15pm',\n",
       "    'meeting_place': 'PHY 4221'},\n",
       "   {'section_id': '0102',\n",
       "    'instructor': ['Beth St Jean'],\n",
       "    'meeting_time': 'MWF 12:00pm - 12:50pm',\n",
       "    'meeting_place': 'HBK 0115'},\n",
       "   {'section_id': '0103',\n",
       "    'instructor': ['Instructor: TBA'],\n",
       "    'meeting_time': 'MW 5:30pm - 6:45pm',\n",
       "    'meeting_place': 'PHY 4221'},\n",
       "   {'section_id': '0104',\n",
       "    'instructor': ['Instructor: TBA'],\n",
       "    'meeting_time': 'TuTh 2:00pm - 3:15pm',\n",
       "    'meeting_place': 'SQH 1119'}]},\n",
       " {'course_id': 'INST354',\n",
       "  'course_title': 'Decision-Making for Information Science',\n",
       "  'course_credits': '3',\n",
       "  'sections': [{'section_id': '0101',\n",
       "    'instructor': ['Christopher Antoun'],\n",
       "    'meeting_time': 'TuTh 3:30pm - 4:45pm',\n",
       "    'meeting_place': 'ARC 1101'},\n",
       "   {'section_id': '0102',\n",
       "    'instructor': ['Instructor: TBA'],\n",
       "    'meeting_time': 'MWF 11:00am - 11:50am',\n",
       "    'meeting_place': 'PHY 4221'}]},\n",
       " {'course_id': 'INST362',\n",
       "  'course_title': 'User-Centered Design',\n",
       "  'course_credits': '3',\n",
       "  'sections': [{'section_id': '0101',\n",
       "    'instructor': ['Instructor: TBA'],\n",
       "    'meeting_time': 'MWF 3:00pm - 3:50pm',\n",
       "    'meeting_place': 'CHM 0115'},\n",
       "   {'section_id': '0102',\n",
       "    'instructor': ['Amanda Lazar'],\n",
       "    'meeting_time': 'TuTh 9:30am - 10:45am',\n",
       "    'meeting_place': 'PHY 4221'},\n",
       "   {'section_id': '0103',\n",
       "    'instructor': ['Tamara Clegg'],\n",
       "    'meeting_time': 'TuTh 2:00pm - 3:15pm',\n",
       "    'meeting_place': 'VMH 1207'}]},\n",
       " {'course_id': 'INST377',\n",
       "  'course_title': 'Dynamic Web Applications',\n",
       "  'course_credits': '3',\n",
       "  'sections': [{'section_id': '0101',\n",
       "    'instructor': ['Instructor: TBA'],\n",
       "    'meeting_time': 'MWF 11:00am - 11:50am',\n",
       "    'meeting_place': 'KEY 0103'},\n",
       "   {'section_id': '0102',\n",
       "    'instructor': ['Instructor: TBA'],\n",
       "    'meeting_time': 'TuTh 12:30pm - 1:45pm',\n",
       "    'meeting_place': 'SQH 1117'}]},\n",
       " {'course_id': 'INST414',\n",
       "  'course_title': 'Data Science Techniques',\n",
       "  'course_credits': '3',\n",
       "  'sections': [{'section_id': '0101',\n",
       "    'instructor': ['Instructor: TBA'],\n",
       "    'meeting_time': 'TuTh 11:00am - 12:15pm',\n",
       "    'meeting_place': 'SQH 1117'},\n",
       "   {'section_id': '0102',\n",
       "    'instructor': ['Instructor: TBA'],\n",
       "    'meeting_time': 'MW 5:30pm - 6:45pm',\n",
       "    'meeting_place': 'ATL 2428'}]},\n",
       " {'course_id': 'INST447',\n",
       "  'course_title': 'Data Sources and Manipulation',\n",
       "  'course_credits': '3',\n",
       "  'sections': [{'section_id': '0101',\n",
       "    'instructor': ['Yla Tausczik'],\n",
       "    'meeting_time': 'TuTh 12:30pm - 1:45pm',\n",
       "    'meeting_place': 'VMH 1203'},\n",
       "   {'section_id': '0102',\n",
       "    'instructor': ['Donal Heidenblad'],\n",
       "    'meeting_time': 'MWF 10:00am - 10:50am',\n",
       "    'meeting_place': 'SYM 0200'}]},\n",
       " {'course_id': 'INST462',\n",
       "  'course_title': 'Introduction to Data Visualization',\n",
       "  'course_credits': '3',\n",
       "  'sections': [{'section_id': '0101',\n",
       "    'instructor': ['Instructor: TBA'],\n",
       "    'meeting_time': 'MW 4:00pm - 5:15pm',\n",
       "    'meeting_place': 'HBK 2119'},\n",
       "   {'section_id': '0102',\n",
       "    'instructor': ['Niklas Elmqvist'],\n",
       "    'meeting_time': 'TuTh 9:30am - 10:45am',\n",
       "    'meeting_place': 'PHY 0405'}]},\n",
       " {'course_id': 'INST466',\n",
       "  'course_title': 'Technology, Culture, and Society',\n",
       "  'course_credits': '3',\n",
       "  'sections': [{'section_id': '0101',\n",
       "    'instructor': ['Jessica Vitak'],\n",
       "    'meeting_time': 'TuTh 11:00am - 12:15pm',\n",
       "    'meeting_place': 'ESJ 1309'}]},\n",
       " {'course_id': 'INST490',\n",
       "  'course_title': 'Integrated Capstone for Information Science',\n",
       "  'course_credits': '3',\n",
       "  'sections': [{'section_id': '0101',\n",
       "    'instructor': ['Instructor: TBA'],\n",
       "    'meeting_time': 'MW 4:00pm - 5:15pm',\n",
       "    'meeting_place': 'KEY 0103'},\n",
       "   {'section_id': '0102',\n",
       "    'instructor': ['Instructor: TBA'],\n",
       "    'meeting_time': 'TuTh 12:30pm - 1:45pm',\n",
       "    'meeting_place': 'SQH 1119'},\n",
       "   {'section_id': '0103',\n",
       "    'instructor': ['Instructor: TBA'],\n",
       "    'meeting_time': 'Tu 6:00pm - 8:45pm',\n",
       "    'meeting_place': 'KEY 1117'}]},\n",
       " {'course_id': 'INST604',\n",
       "  'course_title': 'Introduction to Archives and Digital Curation',\n",
       "  'course_credits': '3',\n",
       "  'sections': [{'section_id': '0201',\n",
       "    'instructor': ['Adam Kriesberg'],\n",
       "    'meeting_time': 'Tu 6:00pm - 8:45pm',\n",
       "    'meeting_place': 'HBK 0103'}]},\n",
       " {'course_id': 'INST610',\n",
       "  'course_title': 'Information Ethics',\n",
       "  'course_credits': '3',\n",
       "  'sections': []},\n",
       " {'course_id': 'INST613',\n",
       "  'course_title': 'Information and Human Rights',\n",
       "  'course_credits': '3',\n",
       "  'sections': [{'section_id': '0101',\n",
       "    'instructor': ['Instructor: TBA'],\n",
       "    'meeting_time': 'M 6:00pm - 8:45pm',\n",
       "    'meeting_place': 'HBK 0105'}]},\n",
       " {'course_id': 'INST615',\n",
       "  'course_title': 'Information Professionals and the Law',\n",
       "  'course_credits': '3',\n",
       "  'sections': []},\n",
       " {'course_id': 'INST620',\n",
       "  'course_title': 'Diverse Populations, Inclusion, and Information',\n",
       "  'course_credits': '3',\n",
       "  'sections': []},\n",
       " {'course_id': 'INST627',\n",
       "  'course_title': 'Data Analytics for Information Professionals',\n",
       "  'course_credits': '3',\n",
       "  'sections': [{'section_id': '0101',\n",
       "    'instructor': ['Instructor: TBA'],\n",
       "    'meeting_time': 'M 6:00pm - 8:45pm',\n",
       "    'meeting_place': 'HBK 0103'},\n",
       "   {'section_id': '0201',\n",
       "    'instructor': ['Hernisa Kacorri'],\n",
       "    'meeting_time': 'W 2:00pm - 4:45pm',\n",
       "    'meeting_place': 'HBK 0105'}]},\n",
       " {'course_id': 'INST630',\n",
       "  'course_title': 'Introduction to Programming for the Information Professional',\n",
       "  'course_credits': '3',\n",
       "  'sections': [{'section_id': '0101',\n",
       "    'instructor': ['Instructor: TBA'],\n",
       "    'meeting_time': 'M 2:00pm - 4:45pm',\n",
       "    'meeting_place': 'HBK 0105'},\n",
       "   {'section_id': '0201',\n",
       "    'instructor': ['Instructor: TBA'],\n",
       "    'meeting_time': 'Th 6:00pm - 8:45pm',\n",
       "    'meeting_place': 'BPS 1238'}]},\n",
       " {'course_id': 'INST631',\n",
       "  'course_title': 'Fundamentals of Human-Computer Interaction',\n",
       "  'course_credits': '3',\n",
       "  'sections': [{'section_id': '0101',\n",
       "    'instructor': ['Instructor: TBA'],\n",
       "    'meeting_time': 'Tu 6:00pm - 8:45pm',\n",
       "    'meeting_place': 'BPS 1238'}]},\n",
       " {'course_id': 'INST641',\n",
       "  'course_title': 'Policy and Ethics in Digital Curation',\n",
       "  'course_credits': '3',\n",
       "  'sections': []},\n",
       " {'course_id': 'INST643',\n",
       "  'course_title': 'Curation in Cultural Institutions',\n",
       "  'course_credits': '3',\n",
       "  'sections': [{'section_id': '0101',\n",
       "    'instructor': ['Adam Kriesberg'],\n",
       "    'meeting_time': 'W 2:00pm - 4:45pm',\n",
       "    'meeting_place': 'HBK 0103'}]},\n",
       " {'course_id': 'INST647',\n",
       "  'course_title': 'Management of Electronic Records & Information',\n",
       "  'course_credits': '3',\n",
       "  'sections': [{'section_id': '0101',\n",
       "    'instructor': ['Instructor: TBA'],\n",
       "    'meeting_time': 'Tu 6:00pm - 8:46pm',\n",
       "    'meeting_place': 'HBK 0115'}]},\n",
       " {'course_id': 'INST650',\n",
       "  'course_title': 'Facilitating Youth Learning in Formal and Informal Environments',\n",
       "  'course_credits': '3',\n",
       "  'sections': []},\n",
       " {'course_id': 'INST651',\n",
       "  'course_title': 'Promoting Rich Learning with Technology',\n",
       "  'course_credits': '3',\n",
       "  'sections': []},\n",
       " {'course_id': 'INST652',\n",
       "  'course_title': 'Design Thinking and Youth',\n",
       "  'course_credits': '3',\n",
       "  'sections': []},\n",
       " {'course_id': 'INST660',\n",
       "  'course_title': 'Strategic Leadership',\n",
       "  'course_credits': '3',\n",
       "  'sections': []},\n",
       " {'course_id': 'INST701',\n",
       "  'course_title': 'Introduction to Research Methods',\n",
       "  'course_credits': '3',\n",
       "  'sections': [{'section_id': '0101',\n",
       "    'instructor': ['Margaret Chmiel'],\n",
       "    'meeting_time': 'W 6:00pm - 8:45pm',\n",
       "    'meeting_place': 'HBK 0115'}]},\n",
       " {'course_id': 'INST706',\n",
       "  'course_title': 'Project Management',\n",
       "  'course_credits': '3',\n",
       "  'sections': []},\n",
       " {'course_id': 'INST709',\n",
       "  'course_title': 'Independent Study',\n",
       "  'course_credits': '1',\n",
       "  'sections': [{'section_id': '0301',\n",
       "    'instructor': ['Brian Butler'],\n",
       "    'meeting_time': '',\n",
       "    'meeting_place': 'Contact department or instructor for details.'},\n",
       "   {'section_id': '1301',\n",
       "    'instructor': ['Jennifer Golbeck'],\n",
       "    'meeting_time': '',\n",
       "    'meeting_place': 'Contact department or instructor for details.'},\n",
       "   {'section_id': '2401',\n",
       "    'instructor': ['Jessica Vitak'],\n",
       "    'meeting_time': '',\n",
       "    'meeting_place': 'Contact department or instructor for details.'},\n",
       "   {'section_id': '4301',\n",
       "    'instructor': ['Ursula Gorham-Oscilowski'],\n",
       "    'meeting_time': '',\n",
       "    'meeting_place': 'Contact department or instructor for details.'},\n",
       "   {'section_id': '4501',\n",
       "    'instructor': ['Tamara Clegg'],\n",
       "    'meeting_time': '',\n",
       "    'meeting_place': 'Contact department or instructor for details.'}]},\n",
       " {'course_id': 'INST714',\n",
       "  'course_title': 'Information for Decision-Making',\n",
       "  'course_credits': '3',\n",
       "  'sections': [{'section_id': '0101',\n",
       "    'instructor': ['Instructor: TBA'],\n",
       "    'meeting_time': 'M 6:00pm - 8:45pm',\n",
       "    'meeting_place': 'HBK 0115'}]},\n",
       " {'course_id': 'INST733',\n",
       "  'course_title': 'Database Design',\n",
       "  'course_credits': '3',\n",
       "  'sections': [{'section_id': '0101',\n",
       "    'instructor': ['Instructor: TBA'],\n",
       "    'meeting_time': 'Th 2:00pm - 4:45pm',\n",
       "    'meeting_place': 'HBK 0109'}]},\n",
       " {'course_id': 'INST735',\n",
       "  'course_title': 'Computational Linguistics I',\n",
       "  'course_credits': '3',\n",
       "  'sections': [{'section_id': '0101',\n",
       "    'instructor': ['Jordan Boyd-Graber Ying'],\n",
       "    'meeting_time': 'MW 3:30pm - 4:45pm',\n",
       "    'meeting_place': 'CSI 3117'}]},\n",
       " {'course_id': 'INST737',\n",
       "  'course_title': 'Introduction to Data Science',\n",
       "  'course_credits': '3',\n",
       "  'sections': [{'section_id': '0101',\n",
       "    'instructor': ['Instructor: TBA'],\n",
       "    'meeting_time': 'Th 6:00pm - 8:45pm',\n",
       "    'meeting_place': 'HBK 0109'}]},\n",
       " {'course_id': 'INST747',\n",
       "  'course_title': 'Research in Advanced Digital Curation',\n",
       "  'course_credits': '3',\n",
       "  'sections': [{'section_id': '0101',\n",
       "    'instructor': ['Richard Marciano'],\n",
       "    'meeting_time': 'M 2:00pm - 4:45pm',\n",
       "    'meeting_place': 'WDS 1130'}]},\n",
       " {'course_id': 'INST750',\n",
       "  'course_title': 'Advanced Data Science',\n",
       "  'course_credits': '3',\n",
       "  'sections': [{'section_id': '0101',\n",
       "    'instructor': ['Vanessa Frias-Martinez'],\n",
       "    'meeting_time': 'W 2:00pm - 4:45pm',\n",
       "    'meeting_place': 'HBK 0115'}]},\n",
       " {'course_id': 'INST760',\n",
       "  'course_title': 'Data Visualization',\n",
       "  'course_credits': '3',\n",
       "  'sections': [{'section_id': '0101',\n",
       "    'instructor': ['Sriram Badam'],\n",
       "    'meeting_time': 'Th 2:00pm - 4:45pm',\n",
       "    'meeting_place': 'HBK 0115'}]},\n",
       " {'course_id': 'INST775',\n",
       "  'course_title': 'HCIM CAPSTONE PREP',\n",
       "  'course_credits': '3',\n",
       "  'sections': [{'section_id': '0101',\n",
       "    'instructor': ['Bill Kules'],\n",
       "    'meeting_time': 'Th 6:00pm - 8:45pm',\n",
       "    'meeting_place': 'HBK 0115'}]},\n",
       " {'course_id': 'INST782',\n",
       "  'course_title': 'Arrangement, Description, and Access for Archives',\n",
       "  'course_credits': '3',\n",
       "  'sections': [{'section_id': '0101',\n",
       "    'instructor': ['Kenneth Heger'],\n",
       "    'meeting_time': 'W 6:00pm - 8:45pm',\n",
       "    'meeting_place': 'HBK 1112'}]},\n",
       " {'course_id': 'INST784',\n",
       "  'course_title': 'Digital Preservation',\n",
       "  'course_credits': '3',\n",
       "  'sections': [{'section_id': '0101',\n",
       "    'instructor': ['Trevor Owens'],\n",
       "    'meeting_time': 'Th 6:00pm - 8:45pm',\n",
       "    'meeting_place': 'SQH 1101'}]},\n",
       " {'course_id': 'INST799',\n",
       "  'course_title': \"Master's Thesis Research\",\n",
       "  'course_credits': '3',\n",
       "  'sections': [{'section_id': '0501',\n",
       "    'instructor': ['Amanda Lazar'],\n",
       "    'meeting_time': '',\n",
       "    'meeting_place': 'Contact department or instructor for details.'},\n",
       "   {'section_id': '1301',\n",
       "    'instructor': ['Jennifer Golbeck'],\n",
       "    'meeting_time': '',\n",
       "    'meeting_place': 'Contact department or instructor for details.'},\n",
       "   {'section_id': '2201',\n",
       "    'instructor': ['Christopher Antoun'],\n",
       "    'meeting_time': '',\n",
       "    'meeting_place': 'Contact department or instructor for details.'},\n",
       "   {'section_id': '2801',\n",
       "    'instructor': ['Eun Kyoung Choe'],\n",
       "    'meeting_time': '',\n",
       "    'meeting_place': 'Contact department or instructor for details.'},\n",
       "   {'section_id': '3301',\n",
       "    'instructor': ['Hernisa Kacorri'],\n",
       "    'meeting_time': '',\n",
       "    'meeting_place': 'Contact department or instructor for details.'},\n",
       "   {'section_id': '5001',\n",
       "    'instructor': ['Michelle Mazurek'],\n",
       "    'meeting_time': '',\n",
       "    'meeting_place': 'Contact department or instructor for details.'}]},\n",
       " {'course_id': 'INST800',\n",
       "  'course_title': 'The Engaged Intellectual: An Introduction to Research and Academic Work',\n",
       "  'course_credits': '3',\n",
       "  'sections': [{'section_id': '0101',\n",
       "    'instructor': ['Mega Subramaniam'],\n",
       "    'meeting_time': 'Tu 2:00pm - 4:45pm',\n",
       "    'meeting_place': 'HBK 4113'}]},\n",
       " {'course_id': 'INST810',\n",
       "  'course_title': 'Individual Research Experience',\n",
       "  'course_credits': '3',\n",
       "  'sections': [{'section_id': '1501',\n",
       "    'instructor': ['Beth St Jean'],\n",
       "    'meeting_time': '',\n",
       "    'meeting_place': 'Contact department or instructor for details.'},\n",
       "   {'section_id': '1601',\n",
       "    'instructor': ['Vanessa Frias-Martinez'],\n",
       "    'meeting_time': '',\n",
       "    'meeting_place': 'Contact department or instructor for details.'},\n",
       "   {'section_id': '2101',\n",
       "    'instructor': ['Katie Shilton'],\n",
       "    'meeting_time': '',\n",
       "    'meeting_place': 'Contact department or instructor for details.'},\n",
       "   {'section_id': '2401',\n",
       "    'instructor': ['Jessica Vitak'],\n",
       "    'meeting_time': '',\n",
       "    'meeting_place': 'Contact department or instructor for details.'}]},\n",
       " {'course_id': 'INST888',\n",
       "  'course_title': 'Doctoral Seminar',\n",
       "  'course_credits': '3',\n",
       "  'sections': [{'section_id': '0101',\n",
       "    'instructor': ['Ricardo Punzalan'],\n",
       "    'meeting_time': 'W 2:00pm - 4:45pm',\n",
       "    'meeting_place': 'HBK 1108'}]},\n",
       " {'course_id': 'INST898',\n",
       "  'course_title': 'Pre-Candidacy Research',\n",
       "  'course_credits': '1',\n",
       "  'sections': []},\n",
       " {'course_id': 'INST899',\n",
       "  'course_title': 'Doctoral Dissertation Research',\n",
       "  'course_credits': '1',\n",
       "  'sections': []}]"
      ]
     },
     "execution_count": 29,
     "metadata": {},
     "output_type": "execute_result"
    }
   ],
   "source": [
    "inst_course"
   ]
  }
 ],
 "metadata": {
  "kernelspec": {
   "display_name": "Python 3",
   "language": "python",
   "name": "python3"
  },
  "language_info": {
   "codemirror_mode": {
    "name": "ipython",
    "version": 3
   },
   "file_extension": ".py",
   "mimetype": "text/x-python",
   "name": "python",
   "nbconvert_exporter": "python",
   "pygments_lexer": "ipython3",
   "version": "3.6.3"
  }
 },
 "nbformat": 4,
 "nbformat_minor": 2
}
