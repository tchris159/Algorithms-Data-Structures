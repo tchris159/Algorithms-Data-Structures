{
 "cells": [
  {
   "cell_type": "markdown",
   "metadata": {},
   "source": [
    "# MidTerm\n",
    "\n",
    "Your Name:  Christopher Truong\n",
    "\n",
    "Your Class: INST 447  \n",
    "Your Section:  9AM MWF"
   ]
  },
  {
   "cell_type": "markdown",
   "metadata": {},
   "source": [
    "## Instructions\n",
    "\n",
    "This MidTerm is to be completed individually. You may use any other reasonable resource to complete these tasks, with the exception of other people. You may use your notes, Internet resources, the course site, just not other students or individuals. The exlusion of other people includes the asking questions on Stackoverflow or any other similar forums. However, you may use answers to previously asked questions on those sites.\n",
    "\n",
    "Each question is worth 10 points and partial credit will be awarded.\n",
    "\n",
    "This MidTerm Exam is take home and timely completion is required. Late submissions will be penalized to the following scale:\n",
    "> less than 24 hours: 20% deduction  \n",
    "> greater than 24 hours: Automatic 0\n",
    "\n",
    "\n",
    "Make sure that you read the exam to the end. This is not one of those tricks where the last question tells you to ignore all the rest. Instead, several question build upon the previous one, in these cases you may better understand the current questions task by knowing what the next question is expecting.\n",
    "  \n",
    "  \n",
    "### Where is the data?\n",
    "\n",
    "The data files are all in the data folder.\n",
    "  \n",
    "  \n",
    "### Answering Questions and Entering Text\n",
    "  \n",
    "This is a Jupyter Notebook file, which allows you to choose whether a cell contains *Python code* or *formated text*. To respond to a question that requires a text and alread contains *formated text* double-click on the text near the \"Your Answer: \" to be able to edit the cell.  \n",
    "  \n",
    "To answer a code question, replace the string *'YOUR ANSWER'* with code that completes the requested task. Do not feel like you are not limited to one line of code, though. "
   ]
  },
  {
   "cell_type": "markdown",
   "metadata": {},
   "source": [
    "### Honor Pledge\n",
    "\n",
    "The University has a nationally recognized Honor Code, administered by the Student Honor Council. The Student Honor Council proposed and the University Senate approved an Honor Pledge. The University of Maryland Honor Pledge reads:\n",
    "\n",
    "> *I pledge on my honor that I have not given or received any unauthorized assistance on this assignment/examination.*\n",
    "\n",
    "Please type the honor pledge into the space below. Students who fail to write and sign the Pledge will be asked to confer with the instructor.\n"
   ]
  },
  {
   "cell_type": "markdown",
   "metadata": {},
   "source": [
    "I pledge on my honor that I have not given or received and y unauthorized assistance on this assignemnt/examination."
   ]
  },
  {
   "cell_type": "code",
   "execution_count": 2,
   "metadata": {
    "collapsed": true
   },
   "outputs": [],
   "source": [
    "import pandas as pd\n",
    "import numpy as np\n",
    "import matplotlib.pyplot as plt\n",
    "%matplotlib inline\n",
    "import seaborn as sns"
   ]
  },
  {
   "cell_type": "markdown",
   "metadata": {},
   "source": [
    "### Question 1\n",
    "\n",
    "There are two files. One called \"voting.csv\" the other is called \"gender.csv\". Create 2 data frames. One called \"voting\" and the other called \"gender\" and fill them with the data from the corresponding file.  \n",
    "Use relative paths to load load the files."
   ]
  },
  {
   "cell_type": "markdown",
   "metadata": {},
   "source": [
    "**(a)** Load 'voting.csv' from the data folder into a DataFrame called *voting*"
   ]
  },
  {
   "cell_type": "code",
   "execution_count": 3,
   "metadata": {
    "collapsed": true
   },
   "outputs": [],
   "source": [
    "voting = pd.read_csv(\"data/voting.csv\")"
   ]
  },
  {
   "cell_type": "markdown",
   "metadata": {},
   "source": [
    "**(b)** Load 'gender.csv' from the data folder into a DataFrame called *gender*"
   ]
  },
  {
   "cell_type": "code",
   "execution_count": 4,
   "metadata": {
    "collapsed": true
   },
   "outputs": [],
   "source": [
    "gender = pd.read_csv(\"data/gender.csv\")"
   ]
  },
  {
   "cell_type": "markdown",
   "metadata": {},
   "source": [
    "### Question 2"
   ]
  },
  {
   "cell_type": "markdown",
   "metadata": {},
   "source": [
    "**(a)** Print the first 5 lines of voting."
   ]
  },
  {
   "cell_type": "code",
   "execution_count": 5,
   "metadata": {},
   "outputs": [
    {
     "data": {
      "text/html": [
       "<div>\n",
       "<style>\n",
       "    .dataframe thead tr:only-child th {\n",
       "        text-align: right;\n",
       "    }\n",
       "\n",
       "    .dataframe thead th {\n",
       "        text-align: left;\n",
       "    }\n",
       "\n",
       "    .dataframe tbody tr th {\n",
       "        vertical-align: top;\n",
       "    }\n",
       "</style>\n",
       "<table border=\"1\" class=\"dataframe\">\n",
       "  <thead>\n",
       "    <tr style=\"text-align: right;\">\n",
       "      <th></th>\n",
       "      <th>Year</th>\n",
       "      <th>18-24 Voted</th>\n",
       "      <th>18-24 Registered</th>\n",
       "      <th>25-44 Voted</th>\n",
       "      <th>25-44 Registered</th>\n",
       "      <th>45-64 Voted</th>\n",
       "      <th>45-64 Registered</th>\n",
       "      <th>65 and over Voted</th>\n",
       "      <th>65 and over Registered</th>\n",
       "      <th>Total Voted</th>\n",
       "      <th>Total Registered</th>\n",
       "    </tr>\n",
       "  </thead>\n",
       "  <tbody>\n",
       "    <tr>\n",
       "      <th>0</th>\n",
       "      <td>1980</td>\n",
       "      <td>?</td>\n",
       "      <td>?</td>\n",
       "      <td>?</td>\n",
       "      <td>?</td>\n",
       "      <td>?</td>\n",
       "      <td>?</td>\n",
       "      <td>?</td>\n",
       "      <td>?</td>\n",
       "      <td>?</td>\n",
       "      <td>?</td>\n",
       "    </tr>\n",
       "    <tr>\n",
       "      <th>1</th>\n",
       "      <td>1982</td>\n",
       "      <td>7139000</td>\n",
       "      <td>12227000</td>\n",
       "      <td>30343000</td>\n",
       "      <td>41103000</td>\n",
       "      <td>27491000</td>\n",
       "      <td>33422000</td>\n",
       "      <td>15336000</td>\n",
       "      <td>19245000</td>\n",
       "      <td>80309000</td>\n",
       "      <td>105997000</td>\n",
       "    </tr>\n",
       "    <tr>\n",
       "      <th>2</th>\n",
       "      <td>1984</td>\n",
       "      <td>?</td>\n",
       "      <td>?</td>\n",
       "      <td>?</td>\n",
       "      <td>?</td>\n",
       "      <td>?</td>\n",
       "      <td>?</td>\n",
       "      <td>?</td>\n",
       "      <td>?</td>\n",
       "      <td>?</td>\n",
       "      <td>?</td>\n",
       "    </tr>\n",
       "    <tr>\n",
       "      <th>3</th>\n",
       "      <td>1986</td>\n",
       "      <td>5782000</td>\n",
       "      <td>11109000</td>\n",
       "      <td>31003000</td>\n",
       "      <td>45790000</td>\n",
       "      <td>26305000</td>\n",
       "      <td>33528000</td>\n",
       "      <td>16865000</td>\n",
       "      <td>21300000</td>\n",
       "      <td>79955000</td>\n",
       "      <td>111727000</td>\n",
       "    </tr>\n",
       "    <tr>\n",
       "      <th>4</th>\n",
       "      <td>1988</td>\n",
       "      <td>9254000</td>\n",
       "      <td>12321000</td>\n",
       "      <td>42018000</td>\n",
       "      <td>49066000</td>\n",
       "      <td>31134000</td>\n",
       "      <td>34622000</td>\n",
       "      <td>19818000</td>\n",
       "      <td>22580000</td>\n",
       "      <td>102224000</td>\n",
       "      <td>118589000</td>\n",
       "    </tr>\n",
       "  </tbody>\n",
       "</table>\n",
       "</div>"
      ],
      "text/plain": [
       "   Year 18-24 Voted 18-24 Registered 25-44 Voted 25-44 Registered 45-64 Voted  \\\n",
       "0  1980           ?                ?           ?                ?           ?   \n",
       "1  1982     7139000         12227000    30343000         41103000    27491000   \n",
       "2  1984           ?                ?           ?                ?           ?   \n",
       "3  1986     5782000         11109000    31003000         45790000    26305000   \n",
       "4  1988     9254000         12321000    42018000         49066000    31134000   \n",
       "\n",
       "  45-64 Registered 65 and over Voted 65 and over Registered Total Voted  \\\n",
       "0                ?                 ?                      ?           ?   \n",
       "1         33422000          15336000               19245000    80309000   \n",
       "2                ?                 ?                      ?           ?   \n",
       "3         33528000          16865000               21300000    79955000   \n",
       "4         34622000          19818000               22580000   102224000   \n",
       "\n",
       "  Total Registered  \n",
       "0                ?  \n",
       "1        105997000  \n",
       "2                ?  \n",
       "3        111727000  \n",
       "4        118589000  "
      ]
     },
     "execution_count": 5,
     "metadata": {},
     "output_type": "execute_result"
    }
   ],
   "source": [
    "voting.head(5)"
   ]
  },
  {
   "cell_type": "markdown",
   "metadata": {},
   "source": [
    "**(b)** Print the last 5 lines of gender."
   ]
  },
  {
   "cell_type": "code",
   "execution_count": 6,
   "metadata": {},
   "outputs": [
    {
     "data": {
      "text/html": [
       "<div>\n",
       "<style>\n",
       "    .dataframe thead tr:only-child th {\n",
       "        text-align: right;\n",
       "    }\n",
       "\n",
       "    .dataframe thead th {\n",
       "        text-align: left;\n",
       "    }\n",
       "\n",
       "    .dataframe tbody tr th {\n",
       "        vertical-align: top;\n",
       "    }\n",
       "</style>\n",
       "<table border=\"1\" class=\"dataframe\">\n",
       "  <thead>\n",
       "    <tr style=\"text-align: right;\">\n",
       "      <th></th>\n",
       "      <th>Year</th>\n",
       "      <th>Male</th>\n",
       "      <th>Female</th>\n",
       "      <th>Total Voted</th>\n",
       "    </tr>\n",
       "  </thead>\n",
       "  <tbody>\n",
       "    <tr>\n",
       "      <th>13</th>\n",
       "      <td>2006</td>\n",
       "      <td>45118000</td>\n",
       "      <td>51001000</td>\n",
       "      <td>96119000</td>\n",
       "    </tr>\n",
       "    <tr>\n",
       "      <th>14</th>\n",
       "      <td>2008</td>\n",
       "      <td>60729000</td>\n",
       "      <td>70415000</td>\n",
       "      <td>131144000</td>\n",
       "    </tr>\n",
       "    <tr>\n",
       "      <th>15</th>\n",
       "      <td>2010</td>\n",
       "      <td>45392000</td>\n",
       "      <td>50595000</td>\n",
       "      <td>95987000</td>\n",
       "    </tr>\n",
       "    <tr>\n",
       "      <th>16</th>\n",
       "      <td>2012</td>\n",
       "      <td>61551000</td>\n",
       "      <td>71397000</td>\n",
       "      <td>132949000</td>\n",
       "    </tr>\n",
       "    <tr>\n",
       "      <th>17</th>\n",
       "      <td>2014</td>\n",
       "      <td>43009000</td>\n",
       "      <td>49243000</td>\n",
       "      <td>92251000</td>\n",
       "    </tr>\n",
       "  </tbody>\n",
       "</table>\n",
       "</div>"
      ],
      "text/plain": [
       "    Year      Male    Female Total Voted\n",
       "13  2006  45118000  51001000    96119000\n",
       "14  2008  60729000  70415000   131144000\n",
       "15  2010  45392000  50595000    95987000\n",
       "16  2012  61551000  71397000   132949000\n",
       "17  2014  43009000  49243000    92251000"
      ]
     },
     "execution_count": 6,
     "metadata": {},
     "output_type": "execute_result"
    }
   ],
   "source": [
    "gender.tail(5)"
   ]
  },
  {
   "cell_type": "markdown",
   "metadata": {},
   "source": [
    "### Question 3\n",
    "\n",
    "These two DataFrames would be much easier to work with as a single DataFrame.\n",
    "\n",
    "**(a)** Use the Pandas function *merge* to combine the DataFrames 'voting' and 'gender' on the 'Year' column into a single new DataFrame named 'votes."
   ]
  },
  {
   "cell_type": "code",
   "execution_count": 75,
   "metadata": {
    "collapsed": true
   },
   "outputs": [],
   "source": [
    "votes = pd.merge(voting, gender,\n",
    "                 on='Year', how='outer', \n",
    "                 suffixes=('_x', '_y'))"
   ]
  },
  {
   "cell_type": "markdown",
   "metadata": {},
   "source": [
    "**(b)** Now use any 2 functions to explore the 'votes' DataFrame to get a picture of the data that they now contain."
   ]
  },
  {
   "cell_type": "code",
   "execution_count": 76,
   "metadata": {},
   "outputs": [
    {
     "data": {
      "text/html": [
       "<div>\n",
       "<style>\n",
       "    .dataframe thead tr:only-child th {\n",
       "        text-align: right;\n",
       "    }\n",
       "\n",
       "    .dataframe thead th {\n",
       "        text-align: left;\n",
       "    }\n",
       "\n",
       "    .dataframe tbody tr th {\n",
       "        vertical-align: top;\n",
       "    }\n",
       "</style>\n",
       "<table border=\"1\" class=\"dataframe\">\n",
       "  <thead>\n",
       "    <tr style=\"text-align: right;\">\n",
       "      <th></th>\n",
       "      <th>Year</th>\n",
       "      <th>18-24 Voted</th>\n",
       "      <th>18-24 Registered</th>\n",
       "      <th>25-44 Voted</th>\n",
       "      <th>25-44 Registered</th>\n",
       "      <th>45-64 Voted</th>\n",
       "      <th>45-64 Registered</th>\n",
       "      <th>65 and over Voted</th>\n",
       "      <th>65 and over Registered</th>\n",
       "      <th>Total Voted_x</th>\n",
       "      <th>Total Registered</th>\n",
       "      <th>Male</th>\n",
       "      <th>Female</th>\n",
       "      <th>Total Voted_y</th>\n",
       "    </tr>\n",
       "  </thead>\n",
       "  <tbody>\n",
       "    <tr>\n",
       "      <th>0</th>\n",
       "      <td>1980</td>\n",
       "      <td>?</td>\n",
       "      <td>?</td>\n",
       "      <td>?</td>\n",
       "      <td>?</td>\n",
       "      <td>?</td>\n",
       "      <td>?</td>\n",
       "      <td>?</td>\n",
       "      <td>?</td>\n",
       "      <td>?</td>\n",
       "      <td>?</td>\n",
       "      <td>43753000</td>\n",
       "      <td>49312000</td>\n",
       "      <td>93065000</td>\n",
       "    </tr>\n",
       "    <tr>\n",
       "      <th>1</th>\n",
       "      <td>1982</td>\n",
       "      <td>7139000</td>\n",
       "      <td>12227000</td>\n",
       "      <td>30343000</td>\n",
       "      <td>41103000</td>\n",
       "      <td>27491000</td>\n",
       "      <td>33422000</td>\n",
       "      <td>15336000</td>\n",
       "      <td>19245000</td>\n",
       "      <td>80309000</td>\n",
       "      <td>105997000</td>\n",
       "      <td>38025000</td>\n",
       "      <td>42285000</td>\n",
       "      <td>80309000</td>\n",
       "    </tr>\n",
       "    <tr>\n",
       "      <th>2</th>\n",
       "      <td>1984</td>\n",
       "      <td>?</td>\n",
       "      <td>?</td>\n",
       "      <td>?</td>\n",
       "      <td>?</td>\n",
       "      <td>?</td>\n",
       "      <td>?</td>\n",
       "      <td>?</td>\n",
       "      <td>?</td>\n",
       "      <td>?</td>\n",
       "      <td>?</td>\n",
       "      <td>47354000</td>\n",
       "      <td>54524000</td>\n",
       "      <td>101878000</td>\n",
       "    </tr>\n",
       "    <tr>\n",
       "      <th>3</th>\n",
       "      <td>1986</td>\n",
       "      <td>5782000</td>\n",
       "      <td>11109000</td>\n",
       "      <td>31003000</td>\n",
       "      <td>45790000</td>\n",
       "      <td>26305000</td>\n",
       "      <td>33528000</td>\n",
       "      <td>16865000</td>\n",
       "      <td>21300000</td>\n",
       "      <td>79955000</td>\n",
       "      <td>111727000</td>\n",
       "      <td>37729000</td>\n",
       "      <td>42225000</td>\n",
       "      <td>79955000</td>\n",
       "    </tr>\n",
       "    <tr>\n",
       "      <th>4</th>\n",
       "      <td>1988</td>\n",
       "      <td>9254000</td>\n",
       "      <td>12321000</td>\n",
       "      <td>42018000</td>\n",
       "      <td>49066000</td>\n",
       "      <td>31134000</td>\n",
       "      <td>34622000</td>\n",
       "      <td>19818000</td>\n",
       "      <td>22580000</td>\n",
       "      <td>102224000</td>\n",
       "      <td>118589000</td>\n",
       "      <td>?</td>\n",
       "      <td>?</td>\n",
       "      <td>?</td>\n",
       "    </tr>\n",
       "    <tr>\n",
       "      <th>5</th>\n",
       "      <td>1990</td>\n",
       "      <td>5072000</td>\n",
       "      <td>9896000</td>\n",
       "      <td>32766000</td>\n",
       "      <td>47020000</td>\n",
       "      <td>26138000</td>\n",
       "      <td>33480000</td>\n",
       "      <td>18014000</td>\n",
       "      <td>22853000</td>\n",
       "      <td>81990000</td>\n",
       "      <td>113249000</td>\n",
       "      <td>38659000</td>\n",
       "      <td>43331000</td>\n",
       "      <td>81990000</td>\n",
       "    </tr>\n",
       "    <tr>\n",
       "      <th>6</th>\n",
       "      <td>1992</td>\n",
       "      <td>10442000</td>\n",
       "      <td>12787000</td>\n",
       "      <td>47388000</td>\n",
       "      <td>52725000</td>\n",
       "      <td>34399000</td>\n",
       "      <td>37016000</td>\n",
       "      <td>21637000</td>\n",
       "      <td>24049000</td>\n",
       "      <td>113866000</td>\n",
       "      <td>126577000</td>\n",
       "      <td>53312000</td>\n",
       "      <td>60554000</td>\n",
       "      <td>113866000</td>\n",
       "    </tr>\n",
       "    <tr>\n",
       "      <th>7</th>\n",
       "      <td>1994</td>\n",
       "      <td>5050000</td>\n",
       "      <td>10659000</td>\n",
       "      <td>32689000</td>\n",
       "      <td>48023000</td>\n",
       "      <td>28878000</td>\n",
       "      <td>36541000</td>\n",
       "      <td>19086000</td>\n",
       "      <td>23771000</td>\n",
       "      <td>85703000</td>\n",
       "      <td>118994000</td>\n",
       "      <td>?</td>\n",
       "      <td>?</td>\n",
       "      <td>?</td>\n",
       "    </tr>\n",
       "    <tr>\n",
       "      <th>8</th>\n",
       "      <td>1996</td>\n",
       "      <td>7996000</td>\n",
       "      <td>12018000</td>\n",
       "      <td>41051000</td>\n",
       "      <td>51606000</td>\n",
       "      <td>34615000</td>\n",
       "      <td>39490000</td>\n",
       "      <td>21356000</td>\n",
       "      <td>24547000</td>\n",
       "      <td>105018000</td>\n",
       "      <td>127661000</td>\n",
       "      <td>?</td>\n",
       "      <td>?</td>\n",
       "      <td>?</td>\n",
       "    </tr>\n",
       "    <tr>\n",
       "      <th>9</th>\n",
       "      <td>1998</td>\n",
       "      <td>4251000</td>\n",
       "      <td>10014000</td>\n",
       "      <td>28889000</td>\n",
       "      <td>47902000</td>\n",
       "      <td>30758000</td>\n",
       "      <td>40861000</td>\n",
       "      <td>19200000</td>\n",
       "      <td>24326000</td>\n",
       "      <td>83098000</td>\n",
       "      <td>123103000</td>\n",
       "      <td>?</td>\n",
       "      <td>?</td>\n",
       "      <td>?</td>\n",
       "    </tr>\n",
       "    <tr>\n",
       "      <th>10</th>\n",
       "      <td>2000</td>\n",
       "      <td>?</td>\n",
       "      <td>?</td>\n",
       "      <td>?</td>\n",
       "      <td>?</td>\n",
       "      <td>?</td>\n",
       "      <td>?</td>\n",
       "      <td>?</td>\n",
       "      <td>?</td>\n",
       "      <td>?</td>\n",
       "      <td>?</td>\n",
       "      <td>51542000</td>\n",
       "      <td>59284000</td>\n",
       "      <td>110826000</td>\n",
       "    </tr>\n",
       "    <tr>\n",
       "      <th>11</th>\n",
       "      <td>2002</td>\n",
       "      <td>4697000</td>\n",
       "      <td>10470000</td>\n",
       "      <td>28019000</td>\n",
       "      <td>45553000</td>\n",
       "      <td>35521000</td>\n",
       "      <td>46430000</td>\n",
       "      <td>20667000</td>\n",
       "      <td>25701000</td>\n",
       "      <td>88904000</td>\n",
       "      <td>128154000</td>\n",
       "      <td>41801000</td>\n",
       "      <td>47102000</td>\n",
       "      <td>88904000</td>\n",
       "    </tr>\n",
       "    <tr>\n",
       "      <th>12</th>\n",
       "      <td>2004</td>\n",
       "      <td>11639000</td>\n",
       "      <td>14334000</td>\n",
       "      <td>42845000</td>\n",
       "      <td>49370000</td>\n",
       "      <td>47327000</td>\n",
       "      <td>51660000</td>\n",
       "      <td>23925000</td>\n",
       "      <td>26706000</td>\n",
       "      <td>125736000</td>\n",
       "      <td>142070000</td>\n",
       "      <td>58455000</td>\n",
       "      <td>67281000</td>\n",
       "      <td>125736000</td>\n",
       "    </tr>\n",
       "    <tr>\n",
       "      <th>13</th>\n",
       "      <td>2006</td>\n",
       "      <td>5524000</td>\n",
       "      <td>11554000</td>\n",
       "      <td>28216000</td>\n",
       "      <td>45099000</td>\n",
       "      <td>40725000</td>\n",
       "      <td>52171000</td>\n",
       "      <td>21654000</td>\n",
       "      <td>27023000</td>\n",
       "      <td>96119000</td>\n",
       "      <td>135847000</td>\n",
       "      <td>45118000</td>\n",
       "      <td>51001000</td>\n",
       "      <td>96119000</td>\n",
       "    </tr>\n",
       "    <tr>\n",
       "      <th>14</th>\n",
       "      <td>2008</td>\n",
       "      <td>12515000</td>\n",
       "      <td>15082000</td>\n",
       "      <td>42366000</td>\n",
       "      <td>48184000</td>\n",
       "      <td>50744000</td>\n",
       "      <td>54944000</td>\n",
       "      <td>25519000</td>\n",
       "      <td>28100000</td>\n",
       "      <td>131144000</td>\n",
       "      <td>146310000</td>\n",
       "      <td>60729000</td>\n",
       "      <td>70415000</td>\n",
       "      <td>131144000</td>\n",
       "    </tr>\n",
       "    <tr>\n",
       "      <th>15</th>\n",
       "      <td>2010</td>\n",
       "      <td>5682000</td>\n",
       "      <td>12095000</td>\n",
       "      <td>26122000</td>\n",
       "      <td>43414000</td>\n",
       "      <td>41248000</td>\n",
       "      <td>53499000</td>\n",
       "      <td>22935000</td>\n",
       "      <td>28255000</td>\n",
       "      <td>95987000</td>\n",
       "      <td>137263000</td>\n",
       "      <td>45392000</td>\n",
       "      <td>50595000</td>\n",
       "      <td>95987000</td>\n",
       "    </tr>\n",
       "    <tr>\n",
       "      <th>16</th>\n",
       "      <td>2012</td>\n",
       "      <td>11353000</td>\n",
       "      <td>14766000</td>\n",
       "      <td>39942000</td>\n",
       "      <td>47896000</td>\n",
       "      <td>52013000</td>\n",
       "      <td>57795000</td>\n",
       "      <td>29641000</td>\n",
       "      <td>32700000</td>\n",
       "      <td>132949000</td>\n",
       "      <td>153157000</td>\n",
       "      <td>61551000</td>\n",
       "      <td>71397000</td>\n",
       "      <td>132949000</td>\n",
       "    </tr>\n",
       "    <tr>\n",
       "      <th>17</th>\n",
       "      <td>2014</td>\n",
       "      <td>4721000</td>\n",
       "      <td>11610000</td>\n",
       "      <td>23209000</td>\n",
       "      <td>43187000</td>\n",
       "      <td>38111000</td>\n",
       "      <td>54107000</td>\n",
       "      <td>26210000</td>\n",
       "      <td>33261000</td>\n",
       "      <td>92251000</td>\n",
       "      <td>142165000</td>\n",
       "      <td>43009000</td>\n",
       "      <td>49243000</td>\n",
       "      <td>92251000</td>\n",
       "    </tr>\n",
       "  </tbody>\n",
       "</table>\n",
       "</div>"
      ],
      "text/plain": [
       "    Year 18-24 Voted 18-24 Registered 25-44 Voted 25-44 Registered  \\\n",
       "0   1980           ?                ?           ?                ?   \n",
       "1   1982     7139000         12227000    30343000         41103000   \n",
       "2   1984           ?                ?           ?                ?   \n",
       "3   1986     5782000         11109000    31003000         45790000   \n",
       "4   1988     9254000         12321000    42018000         49066000   \n",
       "5   1990     5072000          9896000    32766000         47020000   \n",
       "6   1992    10442000         12787000    47388000         52725000   \n",
       "7   1994     5050000         10659000    32689000         48023000   \n",
       "8   1996     7996000         12018000    41051000         51606000   \n",
       "9   1998     4251000         10014000    28889000         47902000   \n",
       "10  2000           ?                ?           ?                ?   \n",
       "11  2002     4697000         10470000    28019000         45553000   \n",
       "12  2004    11639000         14334000    42845000         49370000   \n",
       "13  2006     5524000         11554000    28216000         45099000   \n",
       "14  2008    12515000         15082000    42366000         48184000   \n",
       "15  2010     5682000         12095000    26122000         43414000   \n",
       "16  2012    11353000         14766000    39942000         47896000   \n",
       "17  2014     4721000         11610000    23209000         43187000   \n",
       "\n",
       "   45-64 Voted 45-64 Registered 65 and over Voted 65 and over Registered  \\\n",
       "0            ?                ?                 ?                      ?   \n",
       "1     27491000         33422000          15336000               19245000   \n",
       "2            ?                ?                 ?                      ?   \n",
       "3     26305000         33528000          16865000               21300000   \n",
       "4     31134000         34622000          19818000               22580000   \n",
       "5     26138000         33480000          18014000               22853000   \n",
       "6     34399000         37016000          21637000               24049000   \n",
       "7     28878000         36541000          19086000               23771000   \n",
       "8     34615000         39490000          21356000               24547000   \n",
       "9     30758000         40861000          19200000               24326000   \n",
       "10           ?                ?                 ?                      ?   \n",
       "11    35521000         46430000          20667000               25701000   \n",
       "12    47327000         51660000          23925000               26706000   \n",
       "13    40725000         52171000          21654000               27023000   \n",
       "14    50744000         54944000          25519000               28100000   \n",
       "15    41248000         53499000          22935000               28255000   \n",
       "16    52013000         57795000          29641000               32700000   \n",
       "17    38111000         54107000          26210000               33261000   \n",
       "\n",
       "   Total Voted_x Total Registered      Male    Female Total Voted_y  \n",
       "0              ?                ?  43753000  49312000      93065000  \n",
       "1       80309000        105997000  38025000  42285000      80309000  \n",
       "2              ?                ?  47354000  54524000     101878000  \n",
       "3       79955000        111727000  37729000  42225000      79955000  \n",
       "4      102224000        118589000         ?         ?             ?  \n",
       "5       81990000        113249000  38659000  43331000      81990000  \n",
       "6      113866000        126577000  53312000  60554000     113866000  \n",
       "7       85703000        118994000         ?         ?             ?  \n",
       "8      105018000        127661000         ?         ?             ?  \n",
       "9       83098000        123103000         ?         ?             ?  \n",
       "10             ?                ?  51542000  59284000     110826000  \n",
       "11      88904000        128154000  41801000  47102000      88904000  \n",
       "12     125736000        142070000  58455000  67281000     125736000  \n",
       "13      96119000        135847000  45118000  51001000      96119000  \n",
       "14     131144000        146310000  60729000  70415000     131144000  \n",
       "15      95987000        137263000  45392000  50595000      95987000  \n",
       "16     132949000        153157000  61551000  71397000     132949000  \n",
       "17      92251000        142165000  43009000  49243000      92251000  "
      ]
     },
     "execution_count": 76,
     "metadata": {},
     "output_type": "execute_result"
    }
   ],
   "source": [
    "votes.head(100) #see the top 25 "
   ]
  },
  {
   "cell_type": "code",
   "execution_count": 77,
   "metadata": {},
   "outputs": [
    {
     "data": {
      "text/plain": [
       "<seaborn.axisgrid.PairGrid at 0x1ff7e04ca58>"
      ]
     },
     "execution_count": 77,
     "metadata": {},
     "output_type": "execute_result"
    },
    {
     "data": {
      "image/png": "[encoded data removed]",
      "text/plain": [
       "<matplotlib.figure.Figure at 0x1ff7e04cf98>"
      ]
     },
     "metadata": {},
     "output_type": "display_data"
    }
   ],
   "source": [
    "sns.pairplot(data=votes, hue='Total Registered') #pairplot to show colorful visualization"
   ]
  },
  {
   "cell_type": "code",
   "execution_count": 104,
   "metadata": {
    "scrolled": true
   },
   "outputs": [
    {
     "ename": "ValueError",
     "evalue": "Could not interpret input 'Total Voted_voting'",
     "output_type": "error",
     "traceback": [
      "\u001b[1;31m---------------------------------------------------------------------------\u001b[0m",
      "\u001b[1;31mValueError\u001b[0m                                Traceback (most recent call last)",
      "\u001b[1;32m<ipython-input-104-dbdb7ae468a3>\u001b[0m in \u001b[0;36m<module>\u001b[1;34m()\u001b[0m\n\u001b[1;32m----> 1\u001b[1;33m \u001b[0msns\u001b[0m\u001b[1;33m.\u001b[0m\u001b[0mcountplot\u001b[0m\u001b[1;33m(\u001b[0m\u001b[0mx\u001b[0m\u001b[1;33m=\u001b[0m\u001b[1;34m'Total Voted_voting'\u001b[0m\u001b[1;33m,\u001b[0m\u001b[0mdata\u001b[0m\u001b[1;33m=\u001b[0m\u001b[0mvotes\u001b[0m\u001b[1;33m)\u001b[0m\u001b[1;33m\u001b[0m\u001b[0m\n\u001b[0m",
      "\u001b[1;32m~\\Anaconda3\\lib\\site-packages\\seaborn\\categorical.py\u001b[0m in \u001b[0;36mcountplot\u001b[1;34m(x, y, hue, data, order, hue_order, orient, color, palette, saturation, dodge, ax, **kwargs)\u001b[0m\n\u001b[0;32m   3338\u001b[0m                           \u001b[0mestimator\u001b[0m\u001b[1;33m,\u001b[0m \u001b[0mci\u001b[0m\u001b[1;33m,\u001b[0m \u001b[0mn_boot\u001b[0m\u001b[1;33m,\u001b[0m \u001b[0munits\u001b[0m\u001b[1;33m,\u001b[0m\u001b[1;33m\u001b[0m\u001b[0m\n\u001b[0;32m   3339\u001b[0m                           \u001b[0morient\u001b[0m\u001b[1;33m,\u001b[0m \u001b[0mcolor\u001b[0m\u001b[1;33m,\u001b[0m \u001b[0mpalette\u001b[0m\u001b[1;33m,\u001b[0m \u001b[0msaturation\u001b[0m\u001b[1;33m,\u001b[0m\u001b[1;33m\u001b[0m\u001b[0m\n\u001b[1;32m-> 3340\u001b[1;33m                           errcolor, errwidth, capsize, dodge)\n\u001b[0m\u001b[0;32m   3341\u001b[0m \u001b[1;33m\u001b[0m\u001b[0m\n\u001b[0;32m   3342\u001b[0m     \u001b[0mplotter\u001b[0m\u001b[1;33m.\u001b[0m\u001b[0mvalue_label\u001b[0m \u001b[1;33m=\u001b[0m \u001b[1;34m\"count\"\u001b[0m\u001b[1;33m\u001b[0m\u001b[0m\n",
      "\u001b[1;32m~\\Anaconda3\\lib\\site-packages\\seaborn\\categorical.py\u001b[0m in \u001b[0;36m__init__\u001b[1;34m(self, x, y, hue, data, order, hue_order, estimator, ci, n_boot, units, orient, color, palette, saturation, errcolor, errwidth, capsize, dodge)\u001b[0m\n\u001b[0;32m   1584\u001b[0m         \u001b[1;34m\"\"\"Initialize the plotter.\"\"\"\u001b[0m\u001b[1;33m\u001b[0m\u001b[0m\n\u001b[0;32m   1585\u001b[0m         self.establish_variables(x, y, hue, data, orient,\n\u001b[1;32m-> 1586\u001b[1;33m                                  order, hue_order, units)\n\u001b[0m\u001b[0;32m   1587\u001b[0m         \u001b[0mself\u001b[0m\u001b[1;33m.\u001b[0m\u001b[0mestablish_colors\u001b[0m\u001b[1;33m(\u001b[0m\u001b[0mcolor\u001b[0m\u001b[1;33m,\u001b[0m \u001b[0mpalette\u001b[0m\u001b[1;33m,\u001b[0m \u001b[0msaturation\u001b[0m\u001b[1;33m)\u001b[0m\u001b[1;33m\u001b[0m\u001b[0m\n\u001b[0;32m   1588\u001b[0m         \u001b[0mself\u001b[0m\u001b[1;33m.\u001b[0m\u001b[0mestimate_statistic\u001b[0m\u001b[1;33m(\u001b[0m\u001b[0mestimator\u001b[0m\u001b[1;33m,\u001b[0m \u001b[0mci\u001b[0m\u001b[1;33m,\u001b[0m \u001b[0mn_boot\u001b[0m\u001b[1;33m)\u001b[0m\u001b[1;33m\u001b[0m\u001b[0m\n",
      "\u001b[1;32m~\\Anaconda3\\lib\\site-packages\\seaborn\\categorical.py\u001b[0m in \u001b[0;36mestablish_variables\u001b[1;34m(self, x, y, hue, data, orient, order, hue_order, units)\u001b[0m\n\u001b[0;32m    149\u001b[0m                 \u001b[1;32mif\u001b[0m \u001b[0misinstance\u001b[0m\u001b[1;33m(\u001b[0m\u001b[0minput\u001b[0m\u001b[1;33m,\u001b[0m \u001b[0mstring_types\u001b[0m\u001b[1;33m)\u001b[0m\u001b[1;33m:\u001b[0m\u001b[1;33m\u001b[0m\u001b[0m\n\u001b[0;32m    150\u001b[0m                     \u001b[0merr\u001b[0m \u001b[1;33m=\u001b[0m \u001b[1;34m\"Could not interpret input '{}'\"\u001b[0m\u001b[1;33m.\u001b[0m\u001b[0mformat\u001b[0m\u001b[1;33m(\u001b[0m\u001b[0minput\u001b[0m\u001b[1;33m)\u001b[0m\u001b[1;33m\u001b[0m\u001b[0m\n\u001b[1;32m--> 151\u001b[1;33m                     \u001b[1;32mraise\u001b[0m \u001b[0mValueError\u001b[0m\u001b[1;33m(\u001b[0m\u001b[0merr\u001b[0m\u001b[1;33m)\u001b[0m\u001b[1;33m\u001b[0m\u001b[0m\n\u001b[0m\u001b[0;32m    152\u001b[0m \u001b[1;33m\u001b[0m\u001b[0m\n\u001b[0;32m    153\u001b[0m             \u001b[1;31m# Figure out the plotting orientation\u001b[0m\u001b[1;33m\u001b[0m\u001b[1;33m\u001b[0m\u001b[0m\n",
      "\u001b[1;31mValueError\u001b[0m: Could not interpret input 'Total Voted_voting'"
     ]
    }
   ],
   "source": [
    "sns.countplot(x='Total Voted_voting',data=votes)"
   ]
  },
  {
   "cell_type": "code",
   "execution_count": null,
   "metadata": {
    "collapsed": true
   },
   "outputs": [],
   "source": [
    "votes['65 and over Registered'].hist(bins=50,color='purple')"
   ]
  },
  {
   "cell_type": "code",
   "execution_count": null,
   "metadata": {
    "collapsed": true
   },
   "outputs": [],
   "source": []
  },
  {
   "cell_type": "markdown",
   "metadata": {},
   "source": [
    "### Question 4\n",
    "It looks like someone wasn't very good at keeping track of things. And even worse, they liked to put some placeholder text where there should be values. This has made all of the types wrong. Correct all of the types so that we can do our analyses!  \n",
    "\n",
    "The columns all contain numeric values. This means we don't have to convert them individually. We can loop through the columns and do it programatically! \n",
    "\n",
    "Finish my line of code so that it calls a Pandas **(a)** function that changes a value into a number and **(b)** converts things that aren't numbers into the NaN."
   ]
  },
  {
   "cell_type": "code",
   "execution_count": null,
   "metadata": {
    "collapsed": true
   },
   "outputs": [],
   "source": [
    "for column_name in votes.columns:\n",
    "    votes[column_name] = pd.to_numeric(votes[column_name], errors='coerce')"
   ]
  },
  {
   "cell_type": "markdown",
   "metadata": {},
   "source": [
    "### Question 5"
   ]
  },
  {
   "cell_type": "markdown",
   "metadata": {},
   "source": [
    "**(a)** Print the info for the 'votes' DataFrame to make sure that all of the columns are numeric data types."
   ]
  },
  {
   "cell_type": "code",
   "execution_count": 79,
   "metadata": {
    "scrolled": true
   },
   "outputs": [
    {
     "name": "stdout",
     "output_type": "stream",
     "text": [
      "object\n",
      "Year                       int64\n",
      "18-24 Voted               object\n",
      "18-24 Registered          object\n",
      "25-44 Voted               object\n",
      "25-44 Registered          object\n",
      "45-64 Voted               object\n",
      "45-64 Registered          object\n",
      "65 and over Voted         object\n",
      "65 and over Registered    object\n",
      "Total Voted_x             object\n",
      "Total Registered          object\n",
      "Male                      object\n",
      "Female                    object\n",
      "Total Voted_y             object\n",
      "dtype: object\n"
     ]
    }
   ],
   "source": [
    "print(votes[column_name].dtypes)\n",
    "print(votes.dtypes)"
   ]
  },
  {
   "cell_type": "markdown",
   "metadata": {},
   "source": [
    "We could do the mental arithmetic to figure out how many NaN values are in each column or we can write code to do it. \n",
    "\n",
    "**(b & c)** Write code that shows how many NaN values there are in each column. This requires using 2 pandas functions. The first checks to see if a value is missing and the second aggregates the previous functions results."
   ]
  },
  {
   "cell_type": "code",
   "execution_count": 80,
   "metadata": {},
   "outputs": [
    {
     "data": {
      "text/plain": [
       "Year                      0\n",
       "18-24 Voted               0\n",
       "18-24 Registered          0\n",
       "25-44 Voted               0\n",
       "25-44 Registered          0\n",
       "45-64 Voted               0\n",
       "45-64 Registered          0\n",
       "65 and over Voted         0\n",
       "65 and over Registered    0\n",
       "Total Voted_x             0\n",
       "Total Registered          0\n",
       "Male                      0\n",
       "Female                    0\n",
       "Total Voted_y             0\n",
       "dtype: int64"
      ]
     },
     "execution_count": 80,
     "metadata": {},
     "output_type": "execute_result"
    }
   ],
   "source": [
    "#count = 0\n",
    "#for column_name in votes.columns:\n",
    "    #if num in column_name.isnull():\n",
    "   #     count += 1\n",
    "    \n",
    "            \n",
    "#print(count)\n",
    "            \n",
    "votes.isnull().sum()\n",
    "\n",
    "            "
   ]
  },
  {
   "cell_type": "markdown",
   "metadata": {},
   "source": [
    "### Question 6\n",
    "Now that we've merged the files, there appears to be two columns that may have the same data?  \n",
    "\n",
    "We should compare those two columns to find out.\n",
    "\n",
    "**(a)** First create a DataFrame named 'total_comp' with just the columns 'Year', 'Total Voted_x', and 'Total Voted_y'."
   ]
  },
  {
   "cell_type": "code",
   "execution_count": 81,
   "metadata": {
    "collapsed": true,
    "scrolled": true
   },
   "outputs": [],
   "source": [
    "total_comp = votes[['Year', 'Total Voted_x', 'Total Voted_y']].copy\n",
    "\n",
    "\n",
    "#concat = pd.concat([voting,gender], axis='columns')\n",
    "\n",
    "#concat.rename(columns={ concat.columns[9]: \"Total Voted_x\" }, inplace=True)\n",
    "#concat.rename(columns={ concat.columns[14]: \"Total Voted_y\" }, inplace=True)\n",
    "\n",
    "#concat.columns.values[9] = 'Total Voted_x'\n",
    "#concat.columns.values[14] = 'Total Voted_y'\n",
    "\n",
    "#total_comp = concat[['Year', 'Total Voted_x', 'Total Voted_y']]\n",
    "\n"
   ]
  },
  {
   "cell_type": "code",
   "execution_count": 82,
   "metadata": {},
   "outputs": [
    {
     "data": {
      "text/plain": [
       "<bound method NDFrame.copy of     Year Total Voted_x Total Voted_y\n",
       "0   1980             ?      93065000\n",
       "1   1982      80309000      80309000\n",
       "2   1984             ?     101878000\n",
       "3   1986      79955000      79955000\n",
       "4   1988     102224000             ?\n",
       "5   1990      81990000      81990000\n",
       "6   1992     113866000     113866000\n",
       "7   1994      85703000             ?\n",
       "8   1996     105018000             ?\n",
       "9   1998      83098000             ?\n",
       "10  2000             ?     110826000\n",
       "11  2002      88904000      88904000\n",
       "12  2004     125736000     125736000\n",
       "13  2006      96119000      96119000\n",
       "14  2008     131144000     131144000\n",
       "15  2010      95987000      95987000\n",
       "16  2012     132949000     132949000\n",
       "17  2014      92251000      92251000>"
      ]
     },
     "execution_count": 82,
     "metadata": {},
     "output_type": "execute_result"
    }
   ],
   "source": [
    "total_comp"
   ]
  },
  {
   "cell_type": "markdown",
   "metadata": {},
   "source": [
    "**(b)** Now drop all the NaN values from the the total_comp DataFrame."
   ]
  },
  {
   "cell_type": "code",
   "execution_count": 91,
   "metadata": {},
   "outputs": [
    {
     "ename": "AttributeError",
     "evalue": "'function' object has no attribute 'dropna'",
     "output_type": "error",
     "traceback": [
      "\u001b[1;31m---------------------------------------------------------------------------\u001b[0m",
      "\u001b[1;31mAttributeError\u001b[0m                            Traceback (most recent call last)",
      "\u001b[1;32m<ipython-input-91-f30f517e867a>\u001b[0m in \u001b[0;36m<module>\u001b[1;34m()\u001b[0m\n\u001b[1;32m----> 1\u001b[1;33m \u001b[0mtotal_comp\u001b[0m \u001b[1;33m=\u001b[0m \u001b[0mtotal_comp\u001b[0m\u001b[1;33m.\u001b[0m\u001b[0mdropna\u001b[0m\u001b[1;33m(\u001b[0m\u001b[0mhow\u001b[0m\u001b[1;33m=\u001b[0m\u001b[1;34m'any'\u001b[0m\u001b[1;33m,\u001b[0m\u001b[0maxis\u001b[0m\u001b[1;33m=\u001b[0m\u001b[1;36m0\u001b[0m\u001b[1;33m)\u001b[0m\u001b[1;33m\u001b[0m\u001b[0m\n\u001b[0m\u001b[0;32m      2\u001b[0m \u001b[1;33m\u001b[0m\u001b[0m\n\u001b[0;32m      3\u001b[0m \u001b[0mtotal_comp\u001b[0m\u001b[1;33m.\u001b[0m\u001b[0mfillna\u001b[0m\u001b[1;33m(\u001b[0m\u001b[0mvalue\u001b[0m\u001b[1;33m=\u001b[0m\u001b[0mvalues\u001b[0m\u001b[1;33m,\u001b[0m \u001b[0mlimit\u001b[0m\u001b[1;33m=\u001b[0m\u001b[1;36m1\u001b[0m\u001b[1;33m)\u001b[0m\u001b[1;33m\u001b[0m\u001b[0m\n\u001b[0;32m      4\u001b[0m \u001b[0mtotal_comp\u001b[0m \u001b[1;33m=\u001b[0m \u001b[0mtotal_comp\u001b[0m\u001b[1;33m.\u001b[0m\u001b[0mreplace\u001b[0m\u001b[1;33m(\u001b[0m\u001b[0mto_replace\u001b[0m\u001b[1;33m=\u001b[0m\u001b[1;34m'NoneType'\u001b[0m\u001b[1;33m,\u001b[0m \u001b[0mvalue\u001b[0m\u001b[1;33m=\u001b[0m\u001b[0mnp\u001b[0m\u001b[1;33m.\u001b[0m\u001b[0mnan\u001b[0m\u001b[1;33m)\u001b[0m\u001b[1;33m.\u001b[0m\u001b[0mdropna\u001b[0m\u001b[1;33m(\u001b[0m\u001b[1;33m)\u001b[0m\u001b[1;33m\u001b[0m\u001b[0m\n\u001b[0;32m      5\u001b[0m \u001b[0mtotal_comp\u001b[0m\u001b[1;33m[\u001b[0m\u001b[1;34m'Total Voted_x'\u001b[0m\u001b[1;33m,\u001b[0m \u001b[1;34m'Total Voted_y'\u001b[0m\u001b[1;33m]\u001b[0m\u001b[1;33m.\u001b[0m\u001b[0mreplace\u001b[0m\u001b[1;33m(\u001b[0m\u001b[1;34m''\u001b[0m\u001b[1;33m,\u001b[0m \u001b[0mnp\u001b[0m\u001b[1;33m.\u001b[0m\u001b[0mnan\u001b[0m\u001b[1;33m,\u001b[0m \u001b[0minplace\u001b[0m\u001b[1;33m=\u001b[0m\u001b[1;32mTrue\u001b[0m\u001b[1;33m)\u001b[0m\u001b[1;33m\u001b[0m\u001b[0m\n",
      "\u001b[1;31mAttributeError\u001b[0m: 'function' object has no attribute 'dropna'"
     ]
    }
   ],
   "source": [
    "total_comp = total_comp.dropna(how='any',axis=0)\n",
    "\n",
    "total_comp.fillna(value=values, limit=1)\n",
    "total_comp = total_comp.replace(to_replace='NoneType', value=np.nan).dropna()\n",
    "total_comp['Total Voted_x', 'Total Voted_y'].replace('', np.nan, inplace=True)"
   ]
  },
  {
   "cell_type": "markdown",
   "metadata": {},
   "source": [
    "**(c)** Now check to see if 'Total Voted_x' is the same as 'Total Voted_y' by comparing the two columns: "
   ]
  },
  {
   "cell_type": "code",
   "execution_count": 92,
   "metadata": {},
   "outputs": [
    {
     "ename": "TypeError",
     "evalue": "'method' object is not subscriptable",
     "output_type": "error",
     "traceback": [
      "\u001b[1;31m---------------------------------------------------------------------------\u001b[0m",
      "\u001b[1;31mTypeError\u001b[0m                                 Traceback (most recent call last)",
      "\u001b[1;32m<ipython-input-92-9a192eb4e708>\u001b[0m in \u001b[0;36m<module>\u001b[1;34m()\u001b[0m\n\u001b[1;32m----> 1\u001b[1;33m \u001b[0mtotal_comp\u001b[0m \u001b[1;33m=\u001b[0m \u001b[0mnp\u001b[0m\u001b[1;33m.\u001b[0m\u001b[0mwhere\u001b[0m\u001b[1;33m(\u001b[0m\u001b[1;33m(\u001b[0m\u001b[0mtotal_comp\u001b[0m\u001b[1;33m[\u001b[0m\u001b[1;34m'Total Voted_x'\u001b[0m\u001b[1;33m]\u001b[0m \u001b[1;33m==\u001b[0m \u001b[0mtotal_comp\u001b[0m\u001b[1;33m[\u001b[0m\u001b[1;34m'Total Voted_y'\u001b[0m\u001b[1;33m]\u001b[0m\u001b[1;33m)\u001b[0m\u001b[1;33m,\u001b[0m \u001b[0mnp\u001b[0m\u001b[1;33m.\u001b[0m\u001b[0mnan\u001b[0m\u001b[1;33m)\u001b[0m\u001b[1;33m\u001b[0m\u001b[0m\n\u001b[0m",
      "\u001b[1;31mTypeError\u001b[0m: 'method' object is not subscriptable"
     ]
    }
   ],
   "source": [
    "total_comp = np.where((total_comp['Total Voted_x'] == total_comp['Total Voted_y']), np.nan)"
   ]
  },
  {
   "cell_type": "markdown",
   "metadata": {},
   "source": [
    "### Question 7\n",
    "\n",
    "Now that we know that 'Total Voted_x' and 'Total Voted_y' are equal it makes sense to fill in the missing values in one column with the values from the column that has those values (if any of those exist).\n",
    "\n",
    "**(a)** For this we want to use the Pandas function 'fillna()'. This function fills missing values. We used it before with just a single value, but now we want to use it with values from another column. The code below produces the corect output, but it is only being printed out. Save the output into a column named 'Total Voted' so that we can actually use it later."
   ]
  },
  {
   "cell_type": "code",
   "execution_count": 93,
   "metadata": {
    "scrolled": true
   },
   "outputs": [
    {
     "data": {
      "text/plain": [
       "0             ?\n",
       "1      80309000\n",
       "2             ?\n",
       "3      79955000\n",
       "4     102224000\n",
       "5      81990000\n",
       "6     113866000\n",
       "7      85703000\n",
       "8     105018000\n",
       "9      83098000\n",
       "10            ?\n",
       "11     88904000\n",
       "12    125736000\n",
       "13     96119000\n",
       "14    131144000\n",
       "15     95987000\n",
       "16    132949000\n",
       "17     92251000\n",
       "Name: Total Voted_x, dtype: object"
      ]
     },
     "execution_count": 93,
     "metadata": {},
     "output_type": "execute_result"
    }
   ],
   "source": [
    "votes['Total Voted_x'].fillna(votes['Total Voted_y'])"
   ]
  },
  {
   "cell_type": "markdown",
   "metadata": {},
   "source": [
    "**(b)** Now that we have the total number of votes stored in the 'Total Voted' column, we don't really need those two columns that we combined. Remove the columns 'Total Voted_x' and 'Total Voted_y' from the votes DataFrame."
   ]
  },
  {
   "cell_type": "code",
   "execution_count": 95,
   "metadata": {},
   "outputs": [
    {
     "ename": "ValueError",
     "evalue": "No axis named Total Voted_y for object type <class 'pandas.core.frame.DataFrame'>",
     "output_type": "error",
     "traceback": [
      "\u001b[1;31m---------------------------------------------------------------------------\u001b[0m",
      "\u001b[1;31mValueError\u001b[0m                                Traceback (most recent call last)",
      "\u001b[1;32m<ipython-input-95-102ae69c7b93>\u001b[0m in \u001b[0;36m<module>\u001b[1;34m()\u001b[0m\n\u001b[1;32m----> 1\u001b[1;33m \u001b[0mvotes\u001b[0m \u001b[1;33m=\u001b[0m \u001b[0mvotes\u001b[0m\u001b[1;33m.\u001b[0m\u001b[0mdrop\u001b[0m\u001b[1;33m(\u001b[0m\u001b[1;34m'Total Voted_x'\u001b[0m\u001b[1;33m,\u001b[0m \u001b[1;34m'Total Voted_y'\u001b[0m\u001b[1;33m,\u001b[0m \u001b[1;36m1\u001b[0m\u001b[1;33m)\u001b[0m\u001b[1;33m\u001b[0m\u001b[0m\n\u001b[0m",
      "\u001b[1;32m~\\Anaconda3\\lib\\site-packages\\pandas\\core\\generic.py\u001b[0m in \u001b[0;36mdrop\u001b[1;34m(self, labels, axis, level, inplace, errors)\u001b[0m\n\u001b[0;32m   2149\u001b[0m         \"\"\"\n\u001b[0;32m   2150\u001b[0m         \u001b[0minplace\u001b[0m \u001b[1;33m=\u001b[0m \u001b[0mvalidate_bool_kwarg\u001b[0m\u001b[1;33m(\u001b[0m\u001b[0minplace\u001b[0m\u001b[1;33m,\u001b[0m \u001b[1;34m'inplace'\u001b[0m\u001b[1;33m)\u001b[0m\u001b[1;33m\u001b[0m\u001b[0m\n\u001b[1;32m-> 2151\u001b[1;33m         \u001b[0maxis\u001b[0m \u001b[1;33m=\u001b[0m \u001b[0mself\u001b[0m\u001b[1;33m.\u001b[0m\u001b[0m_get_axis_number\u001b[0m\u001b[1;33m(\u001b[0m\u001b[0maxis\u001b[0m\u001b[1;33m)\u001b[0m\u001b[1;33m\u001b[0m\u001b[0m\n\u001b[0m\u001b[0;32m   2152\u001b[0m         \u001b[0maxis_name\u001b[0m \u001b[1;33m=\u001b[0m \u001b[0mself\u001b[0m\u001b[1;33m.\u001b[0m\u001b[0m_get_axis_name\u001b[0m\u001b[1;33m(\u001b[0m\u001b[0maxis\u001b[0m\u001b[1;33m)\u001b[0m\u001b[1;33m\u001b[0m\u001b[0m\n\u001b[0;32m   2153\u001b[0m         \u001b[0maxis\u001b[0m\u001b[1;33m,\u001b[0m \u001b[0maxis_\u001b[0m \u001b[1;33m=\u001b[0m \u001b[0mself\u001b[0m\u001b[1;33m.\u001b[0m\u001b[0m_get_axis\u001b[0m\u001b[1;33m(\u001b[0m\u001b[0maxis\u001b[0m\u001b[1;33m)\u001b[0m\u001b[1;33m,\u001b[0m \u001b[0maxis\u001b[0m\u001b[1;33m\u001b[0m\u001b[0m\n",
      "\u001b[1;32m~\\Anaconda3\\lib\\site-packages\\pandas\\core\\generic.py\u001b[0m in \u001b[0;36m_get_axis_number\u001b[1;34m(self, axis)\u001b[0m\n\u001b[0;32m    351\u001b[0m                 \u001b[1;32mpass\u001b[0m\u001b[1;33m\u001b[0m\u001b[0m\n\u001b[0;32m    352\u001b[0m         raise ValueError('No axis named {0} for object type {1}'\n\u001b[1;32m--> 353\u001b[1;33m                          .format(axis, type(self)))\n\u001b[0m\u001b[0;32m    354\u001b[0m \u001b[1;33m\u001b[0m\u001b[0m\n\u001b[0;32m    355\u001b[0m     \u001b[1;32mdef\u001b[0m \u001b[0m_get_axis_name\u001b[0m\u001b[1;33m(\u001b[0m\u001b[0mself\u001b[0m\u001b[1;33m,\u001b[0m \u001b[0maxis\u001b[0m\u001b[1;33m)\u001b[0m\u001b[1;33m:\u001b[0m\u001b[1;33m\u001b[0m\u001b[0m\n",
      "\u001b[1;31mValueError\u001b[0m: No axis named Total Voted_y for object type <class 'pandas.core.frame.DataFrame'>"
     ]
    }
   ],
   "source": [
    "votes = votes.drop('Total Voted_x', 'Total Voted_y', 1)"
   ]
  },
  {
   "cell_type": "markdown",
   "metadata": {},
   "source": [
    "### Let's explore a little XML..."
   ]
  },
  {
   "cell_type": "code",
   "execution_count": 96,
   "metadata": {
    "collapsed": true
   },
   "outputs": [],
   "source": [
    "from lxml import etree"
   ]
  },
  {
   "cell_type": "markdown",
   "metadata": {},
   "source": [
    "There is a file named 'reml_sample.xml' that I pulled down from https://sourceforge.net/projects/reml/\n",
    "\n",
    "This XML file is \"Recipe Exchange Markup Language\" and it contains menues and recipies. \n",
    "\n",
    "Let's see what we can do with it!"
   ]
  },
  {
   "cell_type": "markdown",
   "metadata": {},
   "source": [
    "### Question 8\n",
    "\n",
    "Look at the line below and then answer the three questions."
   ]
  },
  {
   "cell_type": "code",
   "execution_count": 97,
   "metadata": {
    "collapsed": true
   },
   "outputs": [],
   "source": [
    "reml = etree.parse('data/reml_sample.xml')"
   ]
  },
  {
   "cell_type": "markdown",
   "metadata": {},
   "source": [
    "**(a)** Is the XML file well-formed"
   ]
  },
  {
   "cell_type": "markdown",
   "metadata": {},
   "source": [
    "*Your Answer:* Yes it is well-formed"
   ]
  },
  {
   "cell_type": "markdown",
   "metadata": {},
   "source": [
    "**(b)** Is the XML file valid?"
   ]
  },
  {
   "cell_type": "markdown",
   "metadata": {},
   "source": [
    "*Your Answer:* Yes it is Valid"
   ]
  },
  {
   "cell_type": "markdown",
   "metadata": {},
   "source": [
    "**(c)** What is required in order to validate an XML file?"
   ]
  },
  {
   "cell_type": "markdown",
   "metadata": {},
   "source": [
    "*Your Answer:* Doctype Declaration which defines structure for it to be well formed and valid"
   ]
  },
  {
   "cell_type": "markdown",
   "metadata": {},
   "source": [
    "**(d)** When might XML be a preferable format for data exchange over other data formats?"
   ]
  },
  {
   "cell_type": "markdown",
   "metadata": {},
   "source": [
    "*Your Answer:* XML has an advantage because browser render it in a much more orangized and readable way. In addition, Metadata is able to be put into the tags in the form of attributes and the use of tree structure allows for ease of formatting, collapsing, and debugging."
   ]
  },
  {
   "cell_type": "markdown",
   "metadata": {},
   "source": [
    "### Question 9"
   ]
  },
  {
   "cell_type": "markdown",
   "metadata": {},
   "source": [
    "** Starting Parsing**  \n",
    "We need to store the data in some kind of data structure before we can make a DataFrame.\n",
    "\n",
    "**(a)** Create a variable named *meals_list* and that can be used to build the correct data structure for building a DataFrame from our XML file."
   ]
  },
  {
   "cell_type": "code",
   "execution_count": 98,
   "metadata": {
    "collapsed": true
   },
   "outputs": [],
   "source": [
    "path = 'data/reml_sample.xml'\n",
    "meals_list = []\n"
   ]
  },
  {
   "cell_type": "markdown",
   "metadata": {},
   "source": [
    "I've started some code below to start saving the data from the XML file into the *meals_list* variable.  \n",
    "  \n",
    "I have written most of the code, but I need to to complete some of the lines. Look for comments to direct you.  \n",
    "  \n",
    "For **(b)** and **(c)** I want you to replace the strings 'YOUR ANSWER' with your code to do what the comment instructs you to do.  \n",
    "  \n",
    "For **(d)** I want you to add the 'meal_dict' variable to the variable 'meals_list' so that I can create a data frame with it."
   ]
  },
  {
   "cell_type": "code",
   "execution_count": 99,
   "metadata": {
    "scrolled": true
   },
   "outputs": [
    {
     "name": "stdout",
     "output_type": "stream",
     "text": [
      "None\n"
     ]
    }
   ],
   "source": [
    "# Here were loop through the meal tags\n",
    "for meal in reml.findall('//meal'):\n",
    "    # (b) Save the attribute 'name' from the meal tag into the meal_name variable\n",
    "    meal_name = meal.attrib.get('name')\n",
    "    \n",
    "    # Here we save the mealItem tag for later use\n",
    "    meal_item = meal.find('mealItem')\n",
    "    food_stuff = meal_item.attrib.get('name')\n",
    "    servings = meal_item.attrib.get('servings')\n",
    "    prep_time = meal_item.attrib.get('prepTime')\n",
    "    \n",
    "    # Here we save the difficulty tag for later use\n",
    "    diff_tag = meal.find('.//difficulty')\n",
    "    # (c) Save the content of the difficulty tag into the difficulty variable\n",
    "    difficulty = etree.tostring(diff_tag)\n",
    "    \n",
    "    meal_dict = {'meal_name': meal_name, \n",
    "                 'food_stuff': food_stuff,\n",
    "                 'servings': servings,\n",
    "                 'difficulty': difficulty,\n",
    "                 'prep_time': prep_time}\n",
    "    \n",
    "    # (d) Replace this print statement with code that saves 'meal_dict' into 'meals_list'\n",
    "   \n",
    "meals_list = meals_list.append(meal_dict)\n",
    "print(meals_list)"
   ]
  },
  {
   "cell_type": "markdown",
   "metadata": {},
   "source": [
    "### Question 10\n",
    "\n",
    "**(a)** Now create a DataFrame named *meals_df* from *meals_list*"
   ]
  },
  {
   "cell_type": "code",
   "execution_count": 100,
   "metadata": {
    "collapsed": true
   },
   "outputs": [],
   "source": [
    "meals_df = pd.DataFrame(meals_list)"
   ]
  },
  {
   "cell_type": "markdown",
   "metadata": {},
   "source": [
    "**(b)** Convert 'servings' into an integer."
   ]
  },
  {
   "cell_type": "code",
   "execution_count": 101,
   "metadata": {},
   "outputs": [
    {
     "ename": "KeyError",
     "evalue": "'servings'",
     "output_type": "error",
     "traceback": [
      "\u001b[1;31m---------------------------------------------------------------------------\u001b[0m",
      "\u001b[1;31mKeyError\u001b[0m                                  Traceback (most recent call last)",
      "\u001b[1;32m~\\Anaconda3\\lib\\site-packages\\pandas\\core\\indexes\\base.py\u001b[0m in \u001b[0;36mget_loc\u001b[1;34m(self, key, method, tolerance)\u001b[0m\n\u001b[0;32m   2441\u001b[0m             \u001b[1;32mtry\u001b[0m\u001b[1;33m:\u001b[0m\u001b[1;33m\u001b[0m\u001b[0m\n\u001b[1;32m-> 2442\u001b[1;33m                 \u001b[1;32mreturn\u001b[0m \u001b[0mself\u001b[0m\u001b[1;33m.\u001b[0m\u001b[0m_engine\u001b[0m\u001b[1;33m.\u001b[0m\u001b[0mget_loc\u001b[0m\u001b[1;33m(\u001b[0m\u001b[0mkey\u001b[0m\u001b[1;33m)\u001b[0m\u001b[1;33m\u001b[0m\u001b[0m\n\u001b[0m\u001b[0;32m   2443\u001b[0m             \u001b[1;32mexcept\u001b[0m \u001b[0mKeyError\u001b[0m\u001b[1;33m:\u001b[0m\u001b[1;33m\u001b[0m\u001b[0m\n",
      "\u001b[1;32mpandas\\_libs\\index.pyx\u001b[0m in \u001b[0;36mpandas._libs.index.IndexEngine.get_loc\u001b[1;34m()\u001b[0m\n",
      "\u001b[1;32mpandas\\_libs\\index.pyx\u001b[0m in \u001b[0;36mpandas._libs.index.IndexEngine.get_loc\u001b[1;34m()\u001b[0m\n",
      "\u001b[1;32mpandas\\_libs\\hashtable_class_helper.pxi\u001b[0m in \u001b[0;36mpandas._libs.hashtable.PyObjectHashTable.get_item\u001b[1;34m()\u001b[0m\n",
      "\u001b[1;32mpandas\\_libs\\hashtable_class_helper.pxi\u001b[0m in \u001b[0;36mpandas._libs.hashtable.PyObjectHashTable.get_item\u001b[1;34m()\u001b[0m\n",
      "\u001b[1;31mKeyError\u001b[0m: 'servings'",
      "\nDuring handling of the above exception, another exception occurred:\n",
      "\u001b[1;31mKeyError\u001b[0m                                  Traceback (most recent call last)",
      "\u001b[1;32m<ipython-input-101-c0d45209e3f9>\u001b[0m in \u001b[0;36m<module>\u001b[1;34m()\u001b[0m\n\u001b[1;32m----> 1\u001b[1;33m \u001b[0mmeals_df\u001b[0m\u001b[1;33m[\u001b[0m\u001b[1;34m'servings'\u001b[0m\u001b[1;33m]\u001b[0m \u001b[1;33m=\u001b[0m \u001b[0metree\u001b[0m\u001b[1;33m.\u001b[0m\u001b[0mtostring\u001b[0m\u001b[1;33m(\u001b[0m\u001b[0mmeals_df\u001b[0m\u001b[1;33m[\u001b[0m\u001b[1;34m'servings'\u001b[0m\u001b[1;33m]\u001b[0m\u001b[1;33m)\u001b[0m\u001b[1;33m\u001b[0m\u001b[0m\n\u001b[0m",
      "\u001b[1;32m~\\Anaconda3\\lib\\site-packages\\pandas\\core\\frame.py\u001b[0m in \u001b[0;36m__getitem__\u001b[1;34m(self, key)\u001b[0m\n\u001b[0;32m   1962\u001b[0m             \u001b[1;32mreturn\u001b[0m \u001b[0mself\u001b[0m\u001b[1;33m.\u001b[0m\u001b[0m_getitem_multilevel\u001b[0m\u001b[1;33m(\u001b[0m\u001b[0mkey\u001b[0m\u001b[1;33m)\u001b[0m\u001b[1;33m\u001b[0m\u001b[0m\n\u001b[0;32m   1963\u001b[0m         \u001b[1;32melse\u001b[0m\u001b[1;33m:\u001b[0m\u001b[1;33m\u001b[0m\u001b[0m\n\u001b[1;32m-> 1964\u001b[1;33m             \u001b[1;32mreturn\u001b[0m \u001b[0mself\u001b[0m\u001b[1;33m.\u001b[0m\u001b[0m_getitem_column\u001b[0m\u001b[1;33m(\u001b[0m\u001b[0mkey\u001b[0m\u001b[1;33m)\u001b[0m\u001b[1;33m\u001b[0m\u001b[0m\n\u001b[0m\u001b[0;32m   1965\u001b[0m \u001b[1;33m\u001b[0m\u001b[0m\n\u001b[0;32m   1966\u001b[0m     \u001b[1;32mdef\u001b[0m \u001b[0m_getitem_column\u001b[0m\u001b[1;33m(\u001b[0m\u001b[0mself\u001b[0m\u001b[1;33m,\u001b[0m \u001b[0mkey\u001b[0m\u001b[1;33m)\u001b[0m\u001b[1;33m:\u001b[0m\u001b[1;33m\u001b[0m\u001b[0m\n",
      "\u001b[1;32m~\\Anaconda3\\lib\\site-packages\\pandas\\core\\frame.py\u001b[0m in \u001b[0;36m_getitem_column\u001b[1;34m(self, key)\u001b[0m\n\u001b[0;32m   1969\u001b[0m         \u001b[1;31m# get column\u001b[0m\u001b[1;33m\u001b[0m\u001b[1;33m\u001b[0m\u001b[0m\n\u001b[0;32m   1970\u001b[0m         \u001b[1;32mif\u001b[0m \u001b[0mself\u001b[0m\u001b[1;33m.\u001b[0m\u001b[0mcolumns\u001b[0m\u001b[1;33m.\u001b[0m\u001b[0mis_unique\u001b[0m\u001b[1;33m:\u001b[0m\u001b[1;33m\u001b[0m\u001b[0m\n\u001b[1;32m-> 1971\u001b[1;33m             \u001b[1;32mreturn\u001b[0m \u001b[0mself\u001b[0m\u001b[1;33m.\u001b[0m\u001b[0m_get_item_cache\u001b[0m\u001b[1;33m(\u001b[0m\u001b[0mkey\u001b[0m\u001b[1;33m)\u001b[0m\u001b[1;33m\u001b[0m\u001b[0m\n\u001b[0m\u001b[0;32m   1972\u001b[0m \u001b[1;33m\u001b[0m\u001b[0m\n\u001b[0;32m   1973\u001b[0m         \u001b[1;31m# duplicate columns & possible reduce dimensionality\u001b[0m\u001b[1;33m\u001b[0m\u001b[1;33m\u001b[0m\u001b[0m\n",
      "\u001b[1;32m~\\Anaconda3\\lib\\site-packages\\pandas\\core\\generic.py\u001b[0m in \u001b[0;36m_get_item_cache\u001b[1;34m(self, item)\u001b[0m\n\u001b[0;32m   1643\u001b[0m         \u001b[0mres\u001b[0m \u001b[1;33m=\u001b[0m \u001b[0mcache\u001b[0m\u001b[1;33m.\u001b[0m\u001b[0mget\u001b[0m\u001b[1;33m(\u001b[0m\u001b[0mitem\u001b[0m\u001b[1;33m)\u001b[0m\u001b[1;33m\u001b[0m\u001b[0m\n\u001b[0;32m   1644\u001b[0m         \u001b[1;32mif\u001b[0m \u001b[0mres\u001b[0m \u001b[1;32mis\u001b[0m \u001b[1;32mNone\u001b[0m\u001b[1;33m:\u001b[0m\u001b[1;33m\u001b[0m\u001b[0m\n\u001b[1;32m-> 1645\u001b[1;33m             \u001b[0mvalues\u001b[0m \u001b[1;33m=\u001b[0m \u001b[0mself\u001b[0m\u001b[1;33m.\u001b[0m\u001b[0m_data\u001b[0m\u001b[1;33m.\u001b[0m\u001b[0mget\u001b[0m\u001b[1;33m(\u001b[0m\u001b[0mitem\u001b[0m\u001b[1;33m)\u001b[0m\u001b[1;33m\u001b[0m\u001b[0m\n\u001b[0m\u001b[0;32m   1646\u001b[0m             \u001b[0mres\u001b[0m \u001b[1;33m=\u001b[0m \u001b[0mself\u001b[0m\u001b[1;33m.\u001b[0m\u001b[0m_box_item_values\u001b[0m\u001b[1;33m(\u001b[0m\u001b[0mitem\u001b[0m\u001b[1;33m,\u001b[0m \u001b[0mvalues\u001b[0m\u001b[1;33m)\u001b[0m\u001b[1;33m\u001b[0m\u001b[0m\n\u001b[0;32m   1647\u001b[0m             \u001b[0mcache\u001b[0m\u001b[1;33m[\u001b[0m\u001b[0mitem\u001b[0m\u001b[1;33m]\u001b[0m \u001b[1;33m=\u001b[0m \u001b[0mres\u001b[0m\u001b[1;33m\u001b[0m\u001b[0m\n",
      "\u001b[1;32m~\\Anaconda3\\lib\\site-packages\\pandas\\core\\internals.py\u001b[0m in \u001b[0;36mget\u001b[1;34m(self, item, fastpath)\u001b[0m\n\u001b[0;32m   3588\u001b[0m \u001b[1;33m\u001b[0m\u001b[0m\n\u001b[0;32m   3589\u001b[0m             \u001b[1;32mif\u001b[0m \u001b[1;32mnot\u001b[0m \u001b[0misnull\u001b[0m\u001b[1;33m(\u001b[0m\u001b[0mitem\u001b[0m\u001b[1;33m)\u001b[0m\u001b[1;33m:\u001b[0m\u001b[1;33m\u001b[0m\u001b[0m\n\u001b[1;32m-> 3590\u001b[1;33m                 \u001b[0mloc\u001b[0m \u001b[1;33m=\u001b[0m \u001b[0mself\u001b[0m\u001b[1;33m.\u001b[0m\u001b[0mitems\u001b[0m\u001b[1;33m.\u001b[0m\u001b[0mget_loc\u001b[0m\u001b[1;33m(\u001b[0m\u001b[0mitem\u001b[0m\u001b[1;33m)\u001b[0m\u001b[1;33m\u001b[0m\u001b[0m\n\u001b[0m\u001b[0;32m   3591\u001b[0m             \u001b[1;32melse\u001b[0m\u001b[1;33m:\u001b[0m\u001b[1;33m\u001b[0m\u001b[0m\n\u001b[0;32m   3592\u001b[0m                 \u001b[0mindexer\u001b[0m \u001b[1;33m=\u001b[0m \u001b[0mnp\u001b[0m\u001b[1;33m.\u001b[0m\u001b[0marange\u001b[0m\u001b[1;33m(\u001b[0m\u001b[0mlen\u001b[0m\u001b[1;33m(\u001b[0m\u001b[0mself\u001b[0m\u001b[1;33m.\u001b[0m\u001b[0mitems\u001b[0m\u001b[1;33m)\u001b[0m\u001b[1;33m)\u001b[0m\u001b[1;33m[\u001b[0m\u001b[0misnull\u001b[0m\u001b[1;33m(\u001b[0m\u001b[0mself\u001b[0m\u001b[1;33m.\u001b[0m\u001b[0mitems\u001b[0m\u001b[1;33m)\u001b[0m\u001b[1;33m]\u001b[0m\u001b[1;33m\u001b[0m\u001b[0m\n",
      "\u001b[1;32m~\\Anaconda3\\lib\\site-packages\\pandas\\core\\indexes\\base.py\u001b[0m in \u001b[0;36mget_loc\u001b[1;34m(self, key, method, tolerance)\u001b[0m\n\u001b[0;32m   2442\u001b[0m                 \u001b[1;32mreturn\u001b[0m \u001b[0mself\u001b[0m\u001b[1;33m.\u001b[0m\u001b[0m_engine\u001b[0m\u001b[1;33m.\u001b[0m\u001b[0mget_loc\u001b[0m\u001b[1;33m(\u001b[0m\u001b[0mkey\u001b[0m\u001b[1;33m)\u001b[0m\u001b[1;33m\u001b[0m\u001b[0m\n\u001b[0;32m   2443\u001b[0m             \u001b[1;32mexcept\u001b[0m \u001b[0mKeyError\u001b[0m\u001b[1;33m:\u001b[0m\u001b[1;33m\u001b[0m\u001b[0m\n\u001b[1;32m-> 2444\u001b[1;33m                 \u001b[1;32mreturn\u001b[0m \u001b[0mself\u001b[0m\u001b[1;33m.\u001b[0m\u001b[0m_engine\u001b[0m\u001b[1;33m.\u001b[0m\u001b[0mget_loc\u001b[0m\u001b[1;33m(\u001b[0m\u001b[0mself\u001b[0m\u001b[1;33m.\u001b[0m\u001b[0m_maybe_cast_indexer\u001b[0m\u001b[1;33m(\u001b[0m\u001b[0mkey\u001b[0m\u001b[1;33m)\u001b[0m\u001b[1;33m)\u001b[0m\u001b[1;33m\u001b[0m\u001b[0m\n\u001b[0m\u001b[0;32m   2445\u001b[0m \u001b[1;33m\u001b[0m\u001b[0m\n\u001b[0;32m   2446\u001b[0m         \u001b[0mindexer\u001b[0m \u001b[1;33m=\u001b[0m \u001b[0mself\u001b[0m\u001b[1;33m.\u001b[0m\u001b[0mget_indexer\u001b[0m\u001b[1;33m(\u001b[0m\u001b[1;33m[\u001b[0m\u001b[0mkey\u001b[0m\u001b[1;33m]\u001b[0m\u001b[1;33m,\u001b[0m \u001b[0mmethod\u001b[0m\u001b[1;33m=\u001b[0m\u001b[0mmethod\u001b[0m\u001b[1;33m,\u001b[0m \u001b[0mtolerance\u001b[0m\u001b[1;33m=\u001b[0m\u001b[0mtolerance\u001b[0m\u001b[1;33m)\u001b[0m\u001b[1;33m\u001b[0m\u001b[0m\n",
      "\u001b[1;32mpandas\\_libs\\index.pyx\u001b[0m in \u001b[0;36mpandas._libs.index.IndexEngine.get_loc\u001b[1;34m()\u001b[0m\n",
      "\u001b[1;32mpandas\\_libs\\index.pyx\u001b[0m in \u001b[0;36mpandas._libs.index.IndexEngine.get_loc\u001b[1;34m()\u001b[0m\n",
      "\u001b[1;32mpandas\\_libs\\hashtable_class_helper.pxi\u001b[0m in \u001b[0;36mpandas._libs.hashtable.PyObjectHashTable.get_item\u001b[1;34m()\u001b[0m\n",
      "\u001b[1;32mpandas\\_libs\\hashtable_class_helper.pxi\u001b[0m in \u001b[0;36mpandas._libs.hashtable.PyObjectHashTable.get_item\u001b[1;34m()\u001b[0m\n",
      "\u001b[1;31mKeyError\u001b[0m: 'servings'"
     ]
    }
   ],
   "source": [
    "meals_df['servings'] = etree.tostring(meals_df['servings'])"
   ]
  },
  {
   "cell_type": "markdown",
   "metadata": {},
   "source": [
    "Now convert prep_time. I have started writing a function to do this. First **(b)** remove the string 'min' from the entries that contain it. Then, **(c)** convert the entry that is in hours and minutes (separted by ':') to minutes."
   ]
  },
  {
   "cell_type": "code",
   "execution_count": 3,
   "metadata": {
    "collapsed": true
   },
   "outputs": [],
   "source": [
    "def time_converter(row): \n",
    "    prep_time = row['prep_time']\n",
    "    time_in_min = 0\n",
    "    if 'min' in prep_time:\n",
    "        # (a) remove the string 'min' and convert to int\n",
    "        time_in_min = re.sub(\"[0-9]+\", \"min\", text);\n",
    "        \n",
    "    if ':' in prep_time:\n",
    "        # (b) convert the entry that has hours and minutes into minutes\n",
    "        h, m = prep_time.split(':') \n",
    "        time_in_min = h * 60 + m\n",
    "        \n",
    "    return time_in_min"
   ]
  },
  {
   "cell_type": "markdown",
   "metadata": {},
   "source": [
    "**(d)** Use the function *time_converter* to convert the column *prep_time* from a string into the number of minutes and save it into a column in *meals_df* named *prep_minutes*."
   ]
  },
  {
   "cell_type": "code",
   "execution_count": 5,
   "metadata": {},
   "outputs": [
    {
     "ename": "NameError",
     "evalue": "name 'meals_df' is not defined",
     "output_type": "error",
     "traceback": [
      "\u001b[1;31m---------------------------------------------------------------------------\u001b[0m",
      "\u001b[1;31mNameError\u001b[0m                                 Traceback (most recent call last)",
      "\u001b[1;32m<ipython-input-5-1a5ad99bf8b8>\u001b[0m in \u001b[0;36m<module>\u001b[1;34m()\u001b[0m\n\u001b[1;32m----> 1\u001b[1;33m \u001b[0mmeals_df\u001b[0m\u001b[1;33m[\u001b[0m\u001b[1;34m'prep_minutes'\u001b[0m\u001b[1;33m]\u001b[0m \u001b[1;33m=\u001b[0m \u001b[0mtime_converter\u001b[0m\u001b[1;33m(\u001b[0m\u001b[0mmeals_df\u001b[0m\u001b[1;33m)\u001b[0m\u001b[1;33m\u001b[0m\u001b[0m\n\u001b[0m",
      "\u001b[1;31mNameError\u001b[0m: name 'meals_df' is not defined"
     ]
    }
   ],
   "source": [
    "meals_df['prep_minutes'] = time_converter(meals_df)"
   ]
  },
  {
   "cell_type": "code",
   "execution_count": null,
   "metadata": {
    "collapsed": true
   },
   "outputs": [],
   "source": []
  }
 ],
 "metadata": {
  "kernelspec": {
   "display_name": "Python 3",
   "language": "python",
   "name": "python3"
  },
  "language_info": {
   "codemirror_mode": {
    "name": "ipython",
    "version": 3
   },
   "file_extension": ".py",
   "mimetype": "text/x-python",
   "name": "python",
   "nbconvert_exporter": "python",
   "pygments_lexer": "ipython3",
   "version": "3.6.3"
  }
 },
 "nbformat": 4,
 "nbformat_minor": 2
}
