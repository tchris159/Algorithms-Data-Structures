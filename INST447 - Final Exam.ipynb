{
 "cells": [
  {
   "cell_type": "markdown",
   "metadata": {},
   "source": [
    "# Final Exam\n",
    "Name:  \n",
    "Class: INST 447  \n",
    "Section: (0101 | 0102)  \n",
    "Favorite animal:  \n",
    "\n",
    "Welcome to the last set of data gymnastics that you will have to compelete in this class!\n",
    "\n",
    "Here is a tweet with a cute dog to keep you motivated:\n",
    "<blockquote class=\"twitter-tweet\" data-lang=\"en\"><p lang=\"en\" dir=\"ltr\">This is Libby. She leap. 14/10<br>(IG: libbythefluffycorgi) <a href=\"https://t.co/pSt9QBSYNw\">pic.twitter.com/pSt9QBSYNw</a></p>&mdash; WeRateDogs™ (@dog_rates) <a href=\"https://twitter.com/dog_rates/status/993629544463642624?ref_src=twsrc%5Etfw\">May 7, 2018</a></blockquote>\n",
    "<script async src=\"https://platform.twitter.com/widgets.js\" charset=\"utf-8\"></script>\n",
    "\n",
    "\n"
   ]
  },
  {
   "cell_type": "markdown",
   "metadata": {},
   "source": [
    "# DUE DATE\n",
    "**SECTION 0101** \tWed, May 16 \t10:00 AM\n",
    "\n",
    "**SECTION 0102** \tThu, May 17 \t3:30 PM\n"
   ]
  },
  {
   "cell_type": "markdown",
   "metadata": {},
   "source": [
    "## Ground rules\n",
    "\n",
    "You may use any resource available to you with the exception of other sentient entities. This means that you may use your notes, resources from the Internet, books, etc. This manifests with the following abosolute requirements: 1) the code must be yours, 2) though you may use Internet resources, you may not ask questions on forums, stackoverflow, twitter, youtube, etc. \n",
    "\n",
    "Despite any evidence to the contrary, I qualify as a sentient entity. However, you may ask me questions, but I may not answer them. I am likely to provide clarifications about questions in the exam.\n",
    "\n",
    "You may talk to other sentient entities about topics complete unrelated to the exam. I, naturally, do not expect you to go into seclusion. That would just be cruel.\n",
    "\n",
    "## Instructions\n",
    "Think of this as a series of puzzles. You have all the skills required to complete this task.\n",
    "\n",
    "## Points Value\n",
    "There are 33 questions. Each question is worth 3 points. The remaining 1 point is for filling out the header info with your name, the section you are in, and your favorite animal. Seriously, I will mark you down if you don't fill out the header info."
   ]
  },
  {
   "cell_type": "code",
   "execution_count": null,
   "metadata": {},
   "outputs": [],
   "source": [
    "# These are our imports.\n",
    "import pandas as pd\n",
    "import numpy as np\n",
    "import matplotlib.pyplot as plt\n",
    "import sqlite3\n",
    "import json\n",
    "from lxml import etree\n",
    "import requests\n",
    "import re\n",
    "from bs4 import BeautifulSoup\n",
    "\n",
    "%matplotlib inline"
   ]
  },
  {
   "cell_type": "markdown",
   "metadata": {},
   "source": [
    "### Working with Pandas\n",
    "The DataFrame `ex_df` will be used for questions 1 - 8."
   ]
  },
  {
   "cell_type": "code",
   "execution_count": null,
   "metadata": {
    "scrolled": false
   },
   "outputs": [],
   "source": [
    "ex_df = pd.DataFrame({'Events': ['End of Classes', 'Commencement', 'iSchool Ceremony'],\n",
    "                      'Dates': [ '2018-05-10', '18 May 2018 13:00', 'May 21, 2018 4:00pm'],\n",
    "                      'Tickets_Required': ['No', 'Yes', 'Yes'],\n",
    "                      'Tickets_Requested': ['None', '4', '15']})\n",
    "ex_df"
   ]
  },
  {
   "cell_type": "markdown",
   "metadata": {},
   "source": [
    "#### Q1: What are the types currently?\n",
    "Use a pandas function to identify the current types in the columns."
   ]
  },
  {
   "cell_type": "code",
   "execution_count": null,
   "metadata": {},
   "outputs": [],
   "source": []
  },
  {
   "cell_type": "markdown",
   "metadata": {},
   "source": [
    "#### Q2: Convert the column Dates\n",
    "Use a pandas function to conver the column `Dates` to the proper data type."
   ]
  },
  {
   "cell_type": "code",
   "execution_count": null,
   "metadata": {
    "scrolled": true
   },
   "outputs": [],
   "source": []
  },
  {
   "cell_type": "markdown",
   "metadata": {},
   "source": [
    "#### Q3: Convert the column Tickets_Requested\n",
    "The column `Tickets_Requested` is currently a string. Convert it to a number in a way that handles the value \"None\" appropriately."
   ]
  },
  {
   "cell_type": "code",
   "execution_count": null,
   "metadata": {},
   "outputs": [],
   "source": []
  },
  {
   "cell_type": "markdown",
   "metadata": {},
   "source": [
    "#### Q4: Convert the column Tickets_Required\n",
    "The column `Tickets_Required` looks like it would be best represented as a boolean. Convert the strings in the column to boolean values."
   ]
  },
  {
   "cell_type": "code",
   "execution_count": null,
   "metadata": {},
   "outputs": [],
   "source": []
  },
  {
   "cell_type": "markdown",
   "metadata": {},
   "source": [
    "#### Q5: Drop row with the NaN value\n",
    "Create a copy of the `ex_df` DataFrame and name it `drop_df`. The row with the NaN should no longer be present."
   ]
  },
  {
   "cell_type": "code",
   "execution_count": null,
   "metadata": {},
   "outputs": [],
   "source": []
  },
  {
   "cell_type": "markdown",
   "metadata": {},
   "source": [
    "#### Q6: Replace the NaN value with 0\n",
    "Create a copy of the `ex_df` DataFrame and name it `fill_df`. The NaN value should be replaced with a zero."
   ]
  },
  {
   "cell_type": "code",
   "execution_count": null,
   "metadata": {},
   "outputs": [],
   "source": []
  },
  {
   "cell_type": "markdown",
   "metadata": {},
   "source": [
    "#### Q7: Set the index to the column Dates\n",
    "Change the index for the `ex_df` DataFrame to be Dates column."
   ]
  },
  {
   "cell_type": "code",
   "execution_count": null,
   "metadata": {},
   "outputs": [],
   "source": []
  },
  {
   "cell_type": "markdown",
   "metadata": {},
   "source": [
    "#### Q8: Save to CSV\n",
    "Write the DataFrame as a CSV file into the data directory. Name the file with your `lastname+'-ex.csv'`. For example, my file would be named `heidenblad-ex.csv`."
   ]
  },
  {
   "cell_type": "code",
   "execution_count": null,
   "metadata": {},
   "outputs": [],
   "source": []
  },
  {
   "cell_type": "markdown",
   "metadata": {},
   "source": [
    "#### Q9: Combining 2 DataFrames\n",
    "These two DataFrames are related by the column `id`. Combine them into a DataFrame named `merged_df` so that they appear like this:\n",
    "\n",
    "<table>\n",
    "    <tr>\n",
    "        <th></th>\n",
    "        <th>id</th>\n",
    "        <th>val_in_a</th>\n",
    "        <th>val_in_b</th>\n",
    "    </tr>\n",
    "    <tr>\n",
    "        <td><b>0</b></td>\n",
    "        <td>1</td>\n",
    "        <td>Apple</td>\n",
    "        <td>Banana</td>\n",
    "    </tr>\n",
    "    <tr>\n",
    "        <td><b>1</b></td>\n",
    "        <td>2</td>\n",
    "        <td>Aardvark</td>\n",
    "        <td>Beaver</td>\n",
    "    </tr>\n",
    "    <tr>\n",
    "        <td><b>2</b></td>\n",
    "        <td>3</td>\n",
    "        <td>Accountamt</td>\n",
    "        <td>Banker</td>\n",
    "    </tr>\n",
    "    <tr>\n",
    "        <td><b>3</b></td>\n",
    "        <td>5</td>\n",
    "        <td>Adjustment</td>\n",
    "        <td>NaN</td>\n",
    "    </tr>\n",
    "    <tr>\n",
    "        <td><b>4</b></td>\n",
    "        <td>6</td>\n",
    "        <td>Absence</td>\n",
    "        <td>NaN</td>\n",
    "    </tr>\n",
    "    <tr>\n",
    "        <td><b>5</b></td>\n",
    "        <td>4</td>\n",
    "        <td>NaN</td>\n",
    "        <td>Balance</td>\n",
    "    </tr>\n",
    "</table>"
   ]
  },
  {
   "cell_type": "code",
   "execution_count": null,
   "metadata": {},
   "outputs": [],
   "source": [
    "a_df = pd.DataFrame({'id': [1, 2, 3, 5, 6],\n",
    "                     'val_in_a': ['Apple', 'Aardvark', 'Accountamt', 'Adjustment', 'Absence']})\n",
    "\n",
    "b_df = pd.DataFrame({'id': [2, 1, 3, 4],\n",
    "                     'val_in_b': ['Beaver', 'Banana', 'Banker', 'Balance']})"
   ]
  },
  {
   "cell_type": "code",
   "execution_count": null,
   "metadata": {
    "scrolled": true
   },
   "outputs": [],
   "source": []
  },
  {
   "cell_type": "markdown",
   "metadata": {},
   "source": [
    "#### Q10: Sort the list.\n",
    "Sort the DataFrame on the `val_in_b` column."
   ]
  },
  {
   "cell_type": "code",
   "execution_count": null,
   "metadata": {},
   "outputs": [],
   "source": []
  },
  {
   "cell_type": "markdown",
   "metadata": {},
   "source": [
    "### Working with XML\n",
    "The file `nutrition.xml` is in the `data` directory. Open the file in a text editor so that you can see the general structure. Then proceed below."
   ]
  },
  {
   "cell_type": "markdown",
   "metadata": {},
   "source": [
    "#### Q11: Load the XML data\n",
    "Import the file `nutrition.xml` from the `data` directory into a variable named `nutrition`."
   ]
  },
  {
   "cell_type": "code",
   "execution_count": null,
   "metadata": {},
   "outputs": [],
   "source": []
  },
  {
   "cell_type": "markdown",
   "metadata": {},
   "source": [
    "#### Q12 & Q13: Create a DataFrame\n",
    "Create a DataFrame from the `nutrition.xml` file that is contained in `nutrition` such that it looks like the example below (there is no avacado toast in `nutrition.xml`).\n",
    "\n",
    "<table>\n",
    "    <tr>\n",
    "        <th>calories_fat</th>\n",
    "        <th>calories_total</th>\n",
    "        <th>carb</th>\n",
    "        <th>cholesterol</th>\n",
    "        <th>fiber</th>\n",
    "        <th>food_name</th>\n",
    "        <th>protein</th>\n",
    "        <th>saturated_fat</th>\n",
    "        <th>serving</th>\n",
    "        <th>total_fat</th>\n",
    "    </tr>\n",
    "    <tr>\n",
    "        <td>324</td>\n",
    "        <td>701</td>\n",
    "        <td>58</td>\n",
    "        <td>2</td>\n",
    "        <td>14.6</td>\n",
    "        <td>26</td>\n",
    "        <td>10.0</td>\n",
    "        <td>1 slice</td>\n",
    "        <td>36</td>\n",
    "    </tr>\n",
    "</table>\n",
    "\n",
    "\n",
    "** Q12: ** Load the specifed data into *our favorite data structure* using a for loop."
   ]
  },
  {
   "cell_type": "code",
   "execution_count": null,
   "metadata": {},
   "outputs": [],
   "source": []
  },
  {
   "cell_type": "markdown",
   "metadata": {},
   "source": [
    "** Q13: ** Convert *our favorite data structure* into a DataFrame."
   ]
  },
  {
   "cell_type": "code",
   "execution_count": null,
   "metadata": {},
   "outputs": [],
   "source": []
  },
  {
   "cell_type": "markdown",
   "metadata": {},
   "source": [
    "#### Q14: Make the column data types make sense.\n",
    "Convert the columns to the appropriate data types."
   ]
  },
  {
   "cell_type": "code",
   "execution_count": null,
   "metadata": {},
   "outputs": [],
   "source": []
  },
  {
   "cell_type": "markdown",
   "metadata": {},
   "source": [
    "#### Q15: Show me the first 5 rows of the DataFrame\n",
    "Use the pandas function to show me the first 5 rows."
   ]
  },
  {
   "cell_type": "code",
   "execution_count": null,
   "metadata": {
    "scrolled": true
   },
   "outputs": [],
   "source": []
  },
  {
   "cell_type": "markdown",
   "metadata": {},
   "source": [
    "#### Q16: Create a plot\n",
    "Show me visually how the total_fat relates to the calories_fat using a line plot from matplotlib's pyplot."
   ]
  },
  {
   "cell_type": "code",
   "execution_count": null,
   "metadata": {
    "scrolled": true
   },
   "outputs": [],
   "source": []
  },
  {
   "cell_type": "markdown",
   "metadata": {},
   "source": [
    "### Working with HTML\n",
    "This is a web scraping task. We will use the *requests* library to scrape this page: https://forecast.weather.gov/MapClick.php?lat=38.9807&lon=-76.9373"
   ]
  },
  {
   "cell_type": "markdown",
   "metadata": {},
   "source": [
    "#### Q17: Scrape the page.\n",
    "\n",
    "Use the *requests* library to pull down the page."
   ]
  },
  {
   "cell_type": "code",
   "execution_count": null,
   "metadata": {},
   "outputs": [],
   "source": []
  },
  {
   "cell_type": "markdown",
   "metadata": {},
   "source": [
    "#### Q18: Was the request successful?\n",
    "Check if the request was successful."
   ]
  },
  {
   "cell_type": "code",
   "execution_count": null,
   "metadata": {},
   "outputs": [],
   "source": []
  },
  {
   "cell_type": "markdown",
   "metadata": {},
   "source": [
    "#### Q19: Create a BeautifulSoup object.\n",
    "Parse the response to create a BeautifulSoup object named `soup`."
   ]
  },
  {
   "cell_type": "code",
   "execution_count": null,
   "metadata": {},
   "outputs": [],
   "source": []
  },
  {
   "cell_type": "markdown",
   "metadata": {},
   "source": [
    "#### Q20-24: Pull out the data from the soup object\n",
    "When you look at the page. You will see under the header \"Extended Forcast\" as series of images depicting the weather.\n",
    "\n",
    "Q20: Find the appropriate element to select so that we can loop each of those blocks.  \n",
    "Q21: Only save data for blocks that *do not have* the word \"night\" in the period name (the header for each block).   \n",
    "Q22: Save the day \"Period Name\" (the header for each block).  \n",
    "Q23: Save the high temperature string.  \n",
    "Q24: Extract the number value for the high temperature from the string **using Regex** and convert the value to an int.  \n",
    "\n"
   ]
  },
  {
   "cell_type": "code",
   "execution_count": null,
   "metadata": {},
   "outputs": [],
   "source": [
    "temp_list = []\n",
    "# Q20: Put something in the select statement so that it loops through each of the weather blocks\n",
    "for day in soup.select(''):\n",
    "    # Q21: Check to see if the word \"night\" is not in the header of the block (replace the False with your check.)\n",
    "    if False:\n",
    "        # Q22: Save the period name (fill in the appropriate class in the select_one)\n",
    "        period  = day.select_one('')\n",
    "        # I am removing the <br/> that appears inside the text.\n",
    "        period_name = ' '.join(b for b in period if str(b) != '<br/>')\n",
    "        # Q23: Save the temperature string\n",
    "        temp_str = ''\n",
    "        # Q24: Extract the number and convert to int.\n",
    "        temp_int = 0\n",
    "        \n",
    "        temp_list.append({'period': period_name, 'high_temp': temp_int})\n",
    "\n",
    "temp_df = pd.DataFrame(temp_list)\n",
    "temp_df"
   ]
  },
  {
   "cell_type": "markdown",
   "metadata": {},
   "source": [
    "### Working with SQL\n",
    "\n",
    "For this section we are going to use the file `veekun-pokedex.sqlite` that is in the `data` directory.\n",
    "\n",
    "The following SQL is suffiction to select the required data."
   ]
  },
  {
   "cell_type": "code",
   "execution_count": null,
   "metadata": {},
   "outputs": [],
   "source": [
    "poke_sql = '''SELECT pokemon.identifier, height, \n",
    "weight, capture_rate, hp_stats.base_stat as hp, \n",
    "attack_stats.base_stat as attack, \n",
    "defense_stats.base_stat as defense\n",
    "FROM pokemon \n",
    "JOIN pokemon_species ON pokemon.species_id = pokemon_species.id\n",
    "JOIN pokemon_stats as hp_stats ON pokemon.id = hp_stats.pokemon_id\n",
    "JOIN stats s1 ON hp_stats.stat_id = s1.id AND s1.identifier = 'hp'\n",
    "JOIN pokemon_stats as attack_stats ON pokemon.id = attack_stats.pokemon_id\n",
    "JOIN stats s2 ON attack_stats.stat_id = s2.id AND s2.identifier = 'attack'\n",
    "JOIN pokemon_stats as defense_stats ON pokemon.id = defense_stats.pokemon_id\n",
    "JOIN stats s3 ON defense_stats.stat_id = s3.id AND s3.identifier = 'defense'\n",
    "WHERE pokemon_species.generation_id = 1\n",
    "AND pokemon.is_default = 1;'''"
   ]
  },
  {
   "cell_type": "markdown",
   "metadata": {},
   "source": [
    "#### Q25: Connect to the database\n",
    "Connect to the database and save the connection in a variable named `poke_db`."
   ]
  },
  {
   "cell_type": "code",
   "execution_count": null,
   "metadata": {},
   "outputs": [],
   "source": []
  },
  {
   "cell_type": "markdown",
   "metadata": {},
   "source": [
    "#### Q26: Execute the Query to create a DataFrame\n",
    "Use `poke_sql` to create a DataFrame named `poke_df`."
   ]
  },
  {
   "cell_type": "code",
   "execution_count": null,
   "metadata": {},
   "outputs": [],
   "source": []
  },
  {
   "cell_type": "markdown",
   "metadata": {},
   "source": [
    "#### Q27: Save the DataFrame as a Table\n",
    "Save the DataFrame `poke_df` as a table named `poke_combined`. If the table exists, then overwrite the existing table."
   ]
  },
  {
   "cell_type": "code",
   "execution_count": null,
   "metadata": {},
   "outputs": [],
   "source": []
  },
  {
   "cell_type": "markdown",
   "metadata": {},
   "source": [
    "#### Q28: Create some histograms\n",
    "Create some histograms from `poke_df` so that we can understand the distribution of the values."
   ]
  },
  {
   "cell_type": "code",
   "execution_count": null,
   "metadata": {},
   "outputs": [],
   "source": []
  },
  {
   "cell_type": "markdown",
   "metadata": {},
   "source": [
    "### Working with JSON\n",
    "One last DataType to prepare and that is JSON.\n",
    "\n",
    "We will use the JSON in the string below."
   ]
  },
  {
   "cell_type": "code",
   "execution_count": null,
   "metadata": {},
   "outputs": [],
   "source": [
    "json_str = '{\"results\" : [{\"address_components\" : [{\"long_name\" : \"10th Street Northwest\",\"short_name\" : \"10th St NW\",\"types\" : [ \"route\" ]},{\"long_name\" : \"Northwest Washington\",\"short_name\" : \"Northwest Washington\",\"types\" : [ \"neighborhood\", \"political\" ]},{\"long_name\" : \"Washington\",\"short_name\" : \"Washington\",\"types\" : [ \"locality\", \"political\" ]},{\"long_name\" : \"District of Columbia\",\"short_name\" : \"DC\",\"types\" : [ \"administrative_area_level_1\", \"political\" ]},{\"long_name\" : \"United States\",\"short_name\" : \"US\",\"types\" : [ \"country\", \"political\" ]},{\"long_name\" : \"20001\",\"short_name\" : \"20001\",\"types\" : [ \"postal_code\" ]}],\"formatted_address\" : \"10th St NW & U St NW, Washington, DC 20001, USA\",\"geometry\" : {\"location\" : {\"lat\" : 38.917007,\"lng\" : -77.02598569999999},\"location_type\" : \"GEOMETRIC_CENTER\",\"viewport\" : {\"northeast\" : {\"lat\" : 38.9183559802915,\"lng\" : -77.02463671970848},\"southwest\" : {\"lat\" : 38.9156580197085,\"lng\" : -77.0273346802915}}},\"partial_match\" : true,\"place_id\" : \"Ei8xMHRoIFN0IE5XICYgVSBTdCBOVywgV2FzaGluZ3RvbiwgREMgMjAwMDEsIFVTQQ\",\"types\" : [ \"intersection\" ]}],\"status\" : \"OK\"}'"
   ]
  },
  {
   "cell_type": "markdown",
   "metadata": {},
   "source": [
    "#### Q29: Convert the JSON string\n",
    "Use the correct JSON library functions to load the string stored in `json_str` into a variable named `json_obj`."
   ]
  },
  {
   "cell_type": "code",
   "execution_count": null,
   "metadata": {},
   "outputs": [],
   "source": []
  },
  {
   "cell_type": "markdown",
   "metadata": {},
   "source": [
    "#### Q30: What type is that?\n",
    "What type is the variable `json_obj`?"
   ]
  },
  {
   "cell_type": "code",
   "execution_count": null,
   "metadata": {},
   "outputs": [],
   "source": []
  },
  {
   "cell_type": "markdown",
   "metadata": {},
   "source": [
    "#### Q31: Extract the  formatted name of the address\n",
    "Pull out the formatted name for the address that is contained in the JSON."
   ]
  },
  {
   "cell_type": "code",
   "execution_count": null,
   "metadata": {},
   "outputs": [],
   "source": []
  },
  {
   "cell_type": "markdown",
   "metadata": {},
   "source": [
    "#### Q32: Create a tuple that contains the latitude and longitude.\n",
    "Pull out the latitude and longitude of the location and save it in a variable named `geo_location`."
   ]
  },
  {
   "cell_type": "code",
   "execution_count": null,
   "metadata": {},
   "outputs": [],
   "source": []
  },
  {
   "cell_type": "markdown",
   "metadata": {},
   "source": [
    "#### Q33: Filter DataFrame using Regex.\n",
    "Write a regex that will cause filter to return only the pokemon whose name contains 5 letters in a row that are not vowels."
   ]
  },
  {
   "cell_type": "code",
   "execution_count": null,
   "metadata": {},
   "outputs": [],
   "source": [
    "# Filter goes over the index, so I am setting the index to the pokemon's names stored in identifier.\n",
    "p2 = poke_df.set_index('identifier')\n",
    "# Q33: Put your regex in the quotes below\n",
    "p2.filter(regex='', axis='rows')"
   ]
  }
 ],
 "metadata": {
  "kernelspec": {
   "display_name": "Python 3",
   "language": "python",
   "name": "python3"
  },
  "language_info": {
   "codemirror_mode": {
    "name": "ipython",
    "version": 3
   },
   "file_extension": ".py",
   "mimetype": "text/x-python",
   "name": "python",
   "nbconvert_exporter": "python",
   "pygments_lexer": "ipython3",
   "version": "3.6.5"
  }
 },
 "nbformat": 4,
 "nbformat_minor": 2
}
