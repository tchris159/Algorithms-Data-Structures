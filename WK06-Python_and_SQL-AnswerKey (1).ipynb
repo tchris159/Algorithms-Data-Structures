{
 "cells": [
  {
   "cell_type": "markdown",
   "metadata": {},
   "source": [
    "# WK06- Python and sqlite - AnswerK"
   ]
  },
  {
   "cell_type": "code",
   "execution_count": 1,
   "metadata": {
    "collapsed": true
   },
   "outputs": [],
   "source": [
    "# standard includes\n",
    "import pandas as pd\n",
    "import numpy as np\n",
    "import matplotlib.pyplot as plt\n",
    "import seaborn as sns\n",
    "\n",
    "%matplotlib inline"
   ]
  },
  {
   "cell_type": "markdown",
   "metadata": {},
   "source": [
    "## Python and Databases\n",
    "\n",
    "Python can talk to any number of databases through different interfaces (https://wiki.python.org/moin/DatabaseInterfaces). This means that if we wanted or needed to, we could talk directly to MySQL, ORACLE, or even Microsoft SQL Server.\n",
    "\n",
    "But sometimes, you don't need a full-fledged database server that can handle thousands of simultaneous users and gigs of data, like in this class. In these situations there is a database called \"sqlite\" (https://sqlite.org/about.html) that does just about everything and it conveniently included with Python.\n",
    "\n",
    "SQL in sqlite is very similiar to SQL for MySQL, but there are some exceptions and differences. The relational concepts are all the same though."
   ]
  },
  {
   "cell_type": "code",
   "execution_count": 2,
   "metadata": {
    "collapsed": true
   },
   "outputs": [],
   "source": [
    "# import the sqlite api\n",
    "import sqlite3"
   ]
  },
  {
   "cell_type": "markdown",
   "metadata": {},
   "source": [
    "Each sqlite database really just a file. The API talks to the file to allow you to do SQL opperations on the data the file contains. And just like in INST327, each database can contain any number of tables and each of those tables can contain any number of rows.\n",
    "\n",
    "We connect to a database by telling sqlite where the database file is located."
   ]
  },
  {
   "cell_type": "code",
   "execution_count": 3,
   "metadata": {
    "collapsed": true
   },
   "outputs": [],
   "source": [
    "# Create a SQL connection to our SQLite database\n",
    "con = sqlite3.connect(\"data/portal_mammals.sqlite\")"
   ]
  },
  {
   "cell_type": "markdown",
   "metadata": {},
   "source": [
    "Then we need to open a \"cursor.\" This is exactly like cursors we have to use in MySQL when dealing with transactions."
   ]
  },
  {
   "cell_type": "code",
   "execution_count": 4,
   "metadata": {
    "collapsed": true
   },
   "outputs": [],
   "source": [
    "cur = con.cursor()"
   ]
  },
  {
   "cell_type": "markdown",
   "metadata": {},
   "source": [
    "And the SQL looks very similar:"
   ]
  },
  {
   "cell_type": "code",
   "execution_count": 5,
   "metadata": {},
   "outputs": [
    {
     "data": {
      "text/plain": [
       "<sqlite3.Cursor at 0x7f71f7a71d50>"
      ]
     },
     "execution_count": 5,
     "metadata": {},
     "output_type": "execute_result"
    }
   ],
   "source": [
    "cur.execute('SELECT * FROM species LIMIT 5;')"
   ]
  },
  {
   "cell_type": "code",
   "execution_count": 6,
   "metadata": {},
   "outputs": [
    {
     "name": "stdout",
     "output_type": "stream",
     "text": [
      "('AB', 'Amphispiza', 'bilineata', 'Bird')\n",
      "('AH', 'Ammospermophilus', 'harrisi', 'Rodent-not censused')\n",
      "('AS', 'Ammodramus', 'savannarum', 'Bird')\n",
      "('BA', 'Baiomys', 'taylori', 'Rodent')\n",
      "('CB', 'Campylorhynchus', 'brunneicapillus', 'Bird')\n"
     ]
    }
   ],
   "source": [
    "for row in cur.execute('SELECT * FROM species LIMIT 5;'):\n",
    "    print(row)"
   ]
  },
  {
   "cell_type": "markdown",
   "metadata": {},
   "source": [
    "And of course, we should close our database connection when we are done with it."
   ]
  },
  {
   "cell_type": "code",
   "execution_count": 7,
   "metadata": {
    "collapsed": true
   },
   "outputs": [],
   "source": [
    "con.close()"
   ]
  },
  {
   "cell_type": "markdown",
   "metadata": {},
   "source": [
    "This can get tricky in Jupyter Notebooks because you can easily close a db connection before you are done with it. The error message is helpful though."
   ]
  },
  {
   "cell_type": "code",
   "execution_count": 8,
   "metadata": {
    "collapsed": true
   },
   "outputs": [],
   "source": [
    "#for row in cur.execute('SELECT * FROM species LIMIT 5;'):\n",
    "#    print(row)"
   ]
  },
  {
   "cell_type": "code",
   "execution_count": 9,
   "metadata": {
    "collapsed": true
   },
   "outputs": [],
   "source": [
    "# Create a SQL connection to our SQLite database\n",
    "con = sqlite3.connect(\"data/portal_mammals.sqlite\")\n",
    "\n",
    "cur = con.cursor()"
   ]
  },
  {
   "cell_type": "markdown",
   "metadata": {},
   "source": [
    "You can get all of the rows at once returned as a list of tuples by using the fetchall() method. "
   ]
  },
  {
   "cell_type": "code",
   "execution_count": 10,
   "metadata": {},
   "outputs": [
    {
     "data": {
      "text/plain": [
       "[(2, 'Control'),\n",
       " (4, 'Control'),\n",
       " (8, 'Control'),\n",
       " (11, 'Control'),\n",
       " (12, 'Control'),\n",
       " (14, 'Control'),\n",
       " (17, 'Control'),\n",
       " (22, 'Control')]"
      ]
     },
     "execution_count": 10,
     "metadata": {},
     "output_type": "execute_result"
    }
   ],
   "source": [
    "# Return all results of query\n",
    "cur.execute('SELECT * FROM plots WHERE plot_type=\"Control\"')\n",
    "cur.fetchall()"
   ]
  },
  {
   "cell_type": "markdown",
   "metadata": {},
   "source": [
    "Or just get the first row (useful when you know you are only getting a single row back)."
   ]
  },
  {
   "cell_type": "code",
   "execution_count": 11,
   "metadata": {},
   "outputs": [
    {
     "data": {
      "text/plain": [
       "(13,)"
      ]
     },
     "execution_count": 11,
     "metadata": {},
     "output_type": "execute_result"
    }
   ],
   "source": [
    "# Return first result of query\n",
    "cur.execute('SELECT COUNT(*) as bird_count FROM species WHERE taxa=\"Bird\"')\n",
    "cur.fetchone()"
   ]
  },
  {
   "cell_type": "code",
   "execution_count": 12,
   "metadata": {
    "collapsed": true
   },
   "outputs": [],
   "source": [
    "# Be sure to close the connection\n",
    "con.close()"
   ]
  },
  {
   "cell_type": "markdown",
   "metadata": {},
   "source": [
    "## Pandas and sqlite\n",
    "\n",
    "Most handily, we can easily get data from the database into a Pandas DataFrame. While we are using sqlite in class, be sure to remember than many Python database interfaces will work with this function. This means that you can work directly with data from your company's production database and to do really powerful analyses. Just remember the limitations of working on data that might be changing while you are working on it..."
   ]
  },
  {
   "cell_type": "code",
   "execution_count": 13,
   "metadata": {
    "collapsed": true
   },
   "outputs": [],
   "source": [
    "# Read sqlite query results into a pandas DataFrame\n",
    "con = sqlite3.connect(\"data/portal_mammals.sqlite\")\n",
    "df = pd.read_sql_query(\"SELECT * from surveys\", con)\n",
    "con.close()"
   ]
  },
  {
   "cell_type": "markdown",
   "metadata": {},
   "source": [
    "Notice that the DataFrame still has the data in it even after we close the database connection."
   ]
  },
  {
   "cell_type": "code",
   "execution_count": 14,
   "metadata": {},
   "outputs": [
    {
     "name": "stdout",
     "output_type": "stream",
     "text": [
      "<class 'pandas.core.frame.DataFrame'>\n",
      "RangeIndex: 35549 entries, 0 to 35548\n",
      "Data columns (total 8 columns):\n",
      "record_id    35549 non-null int64\n",
      "month        35549 non-null int64\n",
      "day          35549 non-null int64\n",
      "year         35549 non-null int64\n",
      "plot         35549 non-null int64\n",
      "species      34786 non-null object\n",
      "sex          33043 non-null object\n",
      "wgt          32283 non-null float64\n",
      "dtypes: float64(1), int64(5), object(2)\n",
      "memory usage: 2.2+ MB\n"
     ]
    }
   ],
   "source": [
    "df.info()"
   ]
  },
  {
   "cell_type": "markdown",
   "metadata": {},
   "source": [
    "## Storing Data in SQLITE\n",
    "\n",
    "Sometimes we have data that makes more sense to store in a database than it does in another format. For example, those particularly nasty XML files from the NSF. What if we want to store them in a way that we can actually use in the future?"
   ]
  },
  {
   "cell_type": "code",
   "execution_count": 15,
   "metadata": {
    "collapsed": true
   },
   "outputs": [],
   "source": [
    "from lxml import etree\n",
    "nsf_funding = etree.parse('data/NSFFundingRateHistory.xml')"
   ]
  },
  {
   "cell_type": "markdown",
   "metadata": {},
   "source": [
    "The function below uses the SAX-like features of LXML to avoid having to loop through the tree. \n",
    "\n",
    "We just have to be a little more careful in our planning in order to do this successfully. This function is the result of me looking at the many different ways that all of you did it and stealing the best ideas."
   ]
  },
  {
   "cell_type": "code",
   "execution_count": 16,
   "metadata": {
    "collapsed": true
   },
   "outputs": [],
   "source": [
    "def parseFunding(xml_obj):\n",
    "    doc = []\n",
    "    row = {}\n",
    "    for element in xml_obj.getiterator():\n",
    "        #print(element.tag, element.attrib)\n",
    "        if element.tag == 'IDENTIFICATION':\n",
    "            orgdir = element.attrib.get('ABBR')\n",
    "            year = element.attrib.get('YEAR')\n",
    "            funding = element.attrib.get('FILTER')\n",
    "        if element.tag in ['DIV', 'DIR']:\n",
    "            # the div tags hold the division information, the dir tag holds the sum of all the div tag values, so we can calculate that.\n",
    "            # we all don't need to save \"rate\" since that is a percentage that can be calculated from award divided by action\n",
    "            row = {}\n",
    "            row['dir'] = orgdir\n",
    "            row['year'] = pd.to_numeric(year)\n",
    "            row['funding'] = funding\n",
    "            row['div'] = element.attrib.get('NAME')\n",
    "            row['actions'] = pd.to_numeric(element.attrib.get('ACTIONS'), errors='coerce')\n",
    "            row['awards'] = pd.to_numeric(element.attrib.get('AWARDS'), errors='coerce')\n",
    "            row['rate'] = pd.to_numeric(element.attrib.get('RATE').strip()[:-1])/100\n",
    "            doc.append(row)\n",
    "    return pd.DataFrame(doc)"
   ]
  },
  {
   "cell_type": "code",
   "execution_count": 17,
   "metadata": {
    "collapsed": true
   },
   "outputs": [],
   "source": [
    "nsf_rate = parseFunding(nsf_funding.getroot())"
   ]
  },
  {
   "cell_type": "code",
   "execution_count": 18,
   "metadata": {},
   "outputs": [
    {
     "data": {
      "text/html": [
       "<div>\n",
       "<style scoped>\n",
       "    .dataframe tbody tr th:only-of-type {\n",
       "        vertical-align: middle;\n",
       "    }\n",
       "\n",
       "    .dataframe tbody tr th {\n",
       "        vertical-align: top;\n",
       "    }\n",
       "\n",
       "    .dataframe thead th {\n",
       "        text-align: right;\n",
       "    }\n",
       "</style>\n",
       "<table border=\"1\" class=\"dataframe\">\n",
       "  <thead>\n",
       "    <tr style=\"text-align: right;\">\n",
       "      <th></th>\n",
       "      <th>actions</th>\n",
       "      <th>awards</th>\n",
       "      <th>dir</th>\n",
       "      <th>div</th>\n",
       "      <th>funding</th>\n",
       "      <th>rate</th>\n",
       "      <th>year</th>\n",
       "    </tr>\n",
       "  </thead>\n",
       "  <tbody>\n",
       "    <tr>\n",
       "      <th>0</th>\n",
       "      <td>6204</td>\n",
       "      <td>955</td>\n",
       "      <td>ENG</td>\n",
       "      <td>ENG</td>\n",
       "      <td>RESEARCH GRANTS</td>\n",
       "      <td>0.15</td>\n",
       "      <td>2004</td>\n",
       "    </tr>\n",
       "    <tr>\n",
       "      <th>1</th>\n",
       "      <td>1894</td>\n",
       "      <td>286</td>\n",
       "      <td>ENG</td>\n",
       "      <td>CBET</td>\n",
       "      <td>RESEARCH GRANTS</td>\n",
       "      <td>0.15</td>\n",
       "      <td>2004</td>\n",
       "    </tr>\n",
       "    <tr>\n",
       "      <th>2</th>\n",
       "      <td>2380</td>\n",
       "      <td>351</td>\n",
       "      <td>ENG</td>\n",
       "      <td>CMMI</td>\n",
       "      <td>RESEARCH GRANTS</td>\n",
       "      <td>0.15</td>\n",
       "      <td>2004</td>\n",
       "    </tr>\n",
       "    <tr>\n",
       "      <th>3</th>\n",
       "      <td>1304</td>\n",
       "      <td>187</td>\n",
       "      <td>ENG</td>\n",
       "      <td>ECCS</td>\n",
       "      <td>RESEARCH GRANTS</td>\n",
       "      <td>0.14</td>\n",
       "      <td>2004</td>\n",
       "    </tr>\n",
       "    <tr>\n",
       "      <th>4</th>\n",
       "      <td>368</td>\n",
       "      <td>63</td>\n",
       "      <td>ENG</td>\n",
       "      <td>EEC</td>\n",
       "      <td>RESEARCH GRANTS</td>\n",
       "      <td>0.17</td>\n",
       "      <td>2004</td>\n",
       "    </tr>\n",
       "  </tbody>\n",
       "</table>\n",
       "</div>"
      ],
      "text/plain": [
       "   actions  awards  dir   div          funding  rate  year\n",
       "0     6204     955  ENG   ENG  RESEARCH GRANTS  0.15  2004\n",
       "1     1894     286  ENG  CBET  RESEARCH GRANTS  0.15  2004\n",
       "2     2380     351  ENG  CMMI  RESEARCH GRANTS  0.15  2004\n",
       "3     1304     187  ENG  ECCS  RESEARCH GRANTS  0.14  2004\n",
       "4      368      63  ENG   EEC  RESEARCH GRANTS  0.17  2004"
      ]
     },
     "execution_count": 18,
     "metadata": {},
     "output_type": "execute_result"
    }
   ],
   "source": [
    "nsf_rate.head()"
   ]
  },
  {
   "cell_type": "markdown",
   "metadata": {},
   "source": [
    "And magically we have a DataFrame, but that was gross and we don't ever want to do it again.\n",
    "\n",
    "Also, this has a distinctly relational feel to it, particularly if we parsed out all of the data from the XML... For example Directorates have Divisions and Divisions are usually the ones that award grant money to researchers. But does the DIR tag, which will show up as a row where the dir and div values are the same, only contain a roll-up? Probably best to check before making that assumption. We could do that in Pandas, but I like SQL.\n",
    "\n",
    "We can easily just dump a DataFrame to a sql database using the 'to_sql' method. But this doesn't make it a good database format. The table created isn't normalized, it is just a direct translation of the DataFrame into a single table."
   ]
  },
  {
   "cell_type": "code",
   "execution_count": 19,
   "metadata": {
    "collapsed": true
   },
   "outputs": [],
   "source": [
    "db = sqlite3.connect('data/nsf.sqlite')\n",
    "nsf_rate.to_sql(\"nsf_funding_rate\", db, if_exists=\"replace\")\n",
    "db.close()"
   ]
  },
  {
   "cell_type": "markdown",
   "metadata": {},
   "source": [
    "Now that it is saved in a database (the 'nsf.sqlite' file),  I can work with it in a way that is a little more comfortable for me."
   ]
  },
  {
   "cell_type": "code",
   "execution_count": 20,
   "metadata": {
    "collapsed": true
   },
   "outputs": [],
   "source": [
    "# calculate the aggregate, dropping the numbers from the dir tag (where dir == div)\n",
    "nsf_agg_query = '''\n",
    "SELECT year, dir, SUM(actions) as sum_actions, SUM(awards) as sum_awards\n",
    "FROM nsf_funding_rate \n",
    "WHERE dir <> div\n",
    "GROUP BY year, dir\n",
    "ORDER BY year, dir\n",
    "'''"
   ]
  },
  {
   "cell_type": "code",
   "execution_count": 21,
   "metadata": {
    "collapsed": true
   },
   "outputs": [],
   "source": [
    "# get just what was in the dir tags (where dir == div)\n",
    "nsf_dir_query = '''\n",
    "SELECT year, dir, actions, awards, rate\n",
    "FROM nsf_funding_rate \n",
    "WHERE dir == div\n",
    "ORDER BY year, dir\n",
    "'''"
   ]
  },
  {
   "cell_type": "code",
   "execution_count": 22,
   "metadata": {
    "collapsed": true
   },
   "outputs": [],
   "source": [
    "nsf_agg_join_query = '''\n",
    "SELECT *\n",
    "FROM (SELECT year, dir, SUM(actions) actions, SUM(awards) awards, rate\n",
    "FROM nsf_funding_rate \n",
    "WHERE dir <> div\n",
    "GROUP BY year, dir\n",
    "ORDER BY year, dir) A\n",
    "JOIN (SELECT year, dir, actions, awards, rate\n",
    "FROM nsf_funding_rate \n",
    "WHERE dir == div\n",
    "ORDER BY year, dir) B \n",
    "ON B.year = A.year AND B.dir = A.dir\n",
    "'''"
   ]
  },
  {
   "cell_type": "code",
   "execution_count": 23,
   "metadata": {
    "collapsed": true
   },
   "outputs": [],
   "source": [
    "db = sqlite3.connect('data/nsf.sqlite')\n",
    "cur = db.cursor()\n",
    "nsf_agg = pd.read_sql_query(nsf_agg_query, db)\n",
    "nsf_dir = pd.read_sql_query(nsf_dir_query, db)\n",
    "nsf_join = pd.read_sql_query(nsf_agg_join_query, db)\n",
    "db.close()"
   ]
  },
  {
   "cell_type": "code",
   "execution_count": 24,
   "metadata": {},
   "outputs": [
    {
     "data": {
      "text/html": [
       "<div>\n",
       "<style scoped>\n",
       "    .dataframe tbody tr th:only-of-type {\n",
       "        vertical-align: middle;\n",
       "    }\n",
       "\n",
       "    .dataframe tbody tr th {\n",
       "        vertical-align: top;\n",
       "    }\n",
       "\n",
       "    .dataframe thead th {\n",
       "        text-align: right;\n",
       "    }\n",
       "</style>\n",
       "<table border=\"1\" class=\"dataframe\">\n",
       "  <thead>\n",
       "    <tr style=\"text-align: right;\">\n",
       "      <th></th>\n",
       "      <th>year</th>\n",
       "      <th>dir</th>\n",
       "      <th>sum_actions</th>\n",
       "      <th>sum_awards</th>\n",
       "    </tr>\n",
       "  </thead>\n",
       "  <tbody>\n",
       "    <tr>\n",
       "      <th>0</th>\n",
       "      <td>2004</td>\n",
       "      <td>BIO</td>\n",
       "      <td>4824</td>\n",
       "      <td>925</td>\n",
       "    </tr>\n",
       "    <tr>\n",
       "      <th>1</th>\n",
       "      <td>2004</td>\n",
       "      <td>CISE</td>\n",
       "      <td>6109</td>\n",
       "      <td>846</td>\n",
       "    </tr>\n",
       "    <tr>\n",
       "      <th>2</th>\n",
       "      <td>2004</td>\n",
       "      <td>EHR</td>\n",
       "      <td>4302</td>\n",
       "      <td>805</td>\n",
       "    </tr>\n",
       "    <tr>\n",
       "      <th>3</th>\n",
       "      <td>2004</td>\n",
       "      <td>ENG</td>\n",
       "      <td>6204</td>\n",
       "      <td>955</td>\n",
       "    </tr>\n",
       "    <tr>\n",
       "      <th>4</th>\n",
       "      <td>2004</td>\n",
       "      <td>GEO</td>\n",
       "      <td>4363</td>\n",
       "      <td>1319</td>\n",
       "    </tr>\n",
       "  </tbody>\n",
       "</table>\n",
       "</div>"
      ],
      "text/plain": [
       "   year   dir  sum_actions  sum_awards\n",
       "0  2004   BIO         4824         925\n",
       "1  2004  CISE         6109         846\n",
       "2  2004   EHR         4302         805\n",
       "3  2004   ENG         6204         955\n",
       "4  2004   GEO         4363        1319"
      ]
     },
     "execution_count": 24,
     "metadata": {},
     "output_type": "execute_result"
    }
   ],
   "source": [
    "nsf_agg.head()"
   ]
  },
  {
   "cell_type": "code",
   "execution_count": 25,
   "metadata": {},
   "outputs": [
    {
     "data": {
      "text/html": [
       "<div>\n",
       "<style scoped>\n",
       "    .dataframe tbody tr th:only-of-type {\n",
       "        vertical-align: middle;\n",
       "    }\n",
       "\n",
       "    .dataframe tbody tr th {\n",
       "        vertical-align: top;\n",
       "    }\n",
       "\n",
       "    .dataframe thead th {\n",
       "        text-align: right;\n",
       "    }\n",
       "</style>\n",
       "<table border=\"1\" class=\"dataframe\">\n",
       "  <thead>\n",
       "    <tr style=\"text-align: right;\">\n",
       "      <th></th>\n",
       "      <th>year</th>\n",
       "      <th>dir</th>\n",
       "      <th>actions</th>\n",
       "      <th>awards</th>\n",
       "      <th>rate</th>\n",
       "    </tr>\n",
       "  </thead>\n",
       "  <tbody>\n",
       "    <tr>\n",
       "      <th>0</th>\n",
       "      <td>2004</td>\n",
       "      <td>BIO</td>\n",
       "      <td>4824</td>\n",
       "      <td>925</td>\n",
       "      <td>0.19</td>\n",
       "    </tr>\n",
       "    <tr>\n",
       "      <th>1</th>\n",
       "      <td>2004</td>\n",
       "      <td>CISE</td>\n",
       "      <td>6111</td>\n",
       "      <td>846</td>\n",
       "      <td>0.14</td>\n",
       "    </tr>\n",
       "    <tr>\n",
       "      <th>2</th>\n",
       "      <td>2004</td>\n",
       "      <td>EHR</td>\n",
       "      <td>4303</td>\n",
       "      <td>805</td>\n",
       "      <td>0.19</td>\n",
       "    </tr>\n",
       "    <tr>\n",
       "      <th>3</th>\n",
       "      <td>2004</td>\n",
       "      <td>ENG</td>\n",
       "      <td>6204</td>\n",
       "      <td>955</td>\n",
       "      <td>0.15</td>\n",
       "    </tr>\n",
       "    <tr>\n",
       "      <th>4</th>\n",
       "      <td>2004</td>\n",
       "      <td>GEO</td>\n",
       "      <td>4363</td>\n",
       "      <td>1319</td>\n",
       "      <td>0.30</td>\n",
       "    </tr>\n",
       "  </tbody>\n",
       "</table>\n",
       "</div>"
      ],
      "text/plain": [
       "   year   dir  actions  awards  rate\n",
       "0  2004   BIO     4824     925  0.19\n",
       "1  2004  CISE     6111     846  0.14\n",
       "2  2004   EHR     4303     805  0.19\n",
       "3  2004   ENG     6204     955  0.15\n",
       "4  2004   GEO     4363    1319  0.30"
      ]
     },
     "execution_count": 25,
     "metadata": {},
     "output_type": "execute_result"
    }
   ],
   "source": [
    "nsf_dir.head()"
   ]
  },
  {
   "cell_type": "code",
   "execution_count": 26,
   "metadata": {},
   "outputs": [
    {
     "data": {
      "text/html": [
       "<div>\n",
       "<style scoped>\n",
       "    .dataframe tbody tr th:only-of-type {\n",
       "        vertical-align: middle;\n",
       "    }\n",
       "\n",
       "    .dataframe tbody tr th {\n",
       "        vertical-align: top;\n",
       "    }\n",
       "\n",
       "    .dataframe thead th {\n",
       "        text-align: right;\n",
       "    }\n",
       "</style>\n",
       "<table border=\"1\" class=\"dataframe\">\n",
       "  <thead>\n",
       "    <tr style=\"text-align: right;\">\n",
       "      <th></th>\n",
       "      <th>year</th>\n",
       "      <th>dir</th>\n",
       "      <th>actions</th>\n",
       "      <th>awards</th>\n",
       "      <th>rate</th>\n",
       "      <th>year</th>\n",
       "      <th>dir</th>\n",
       "      <th>actions</th>\n",
       "      <th>awards</th>\n",
       "      <th>rate</th>\n",
       "    </tr>\n",
       "  </thead>\n",
       "  <tbody>\n",
       "    <tr>\n",
       "      <th>0</th>\n",
       "      <td>2004</td>\n",
       "      <td>BIO</td>\n",
       "      <td>4824</td>\n",
       "      <td>925</td>\n",
       "      <td>0.18</td>\n",
       "      <td>2004</td>\n",
       "      <td>BIO</td>\n",
       "      <td>4824</td>\n",
       "      <td>925</td>\n",
       "      <td>0.19</td>\n",
       "    </tr>\n",
       "    <tr>\n",
       "      <th>1</th>\n",
       "      <td>2004</td>\n",
       "      <td>CISE</td>\n",
       "      <td>6109</td>\n",
       "      <td>846</td>\n",
       "      <td>0.10</td>\n",
       "      <td>2004</td>\n",
       "      <td>CISE</td>\n",
       "      <td>6111</td>\n",
       "      <td>846</td>\n",
       "      <td>0.14</td>\n",
       "    </tr>\n",
       "    <tr>\n",
       "      <th>2</th>\n",
       "      <td>2004</td>\n",
       "      <td>EHR</td>\n",
       "      <td>4302</td>\n",
       "      <td>805</td>\n",
       "      <td>0.50</td>\n",
       "      <td>2004</td>\n",
       "      <td>EHR</td>\n",
       "      <td>4303</td>\n",
       "      <td>805</td>\n",
       "      <td>0.19</td>\n",
       "    </tr>\n",
       "    <tr>\n",
       "      <th>3</th>\n",
       "      <td>2004</td>\n",
       "      <td>ENG</td>\n",
       "      <td>6204</td>\n",
       "      <td>955</td>\n",
       "      <td>0.26</td>\n",
       "      <td>2004</td>\n",
       "      <td>ENG</td>\n",
       "      <td>6204</td>\n",
       "      <td>955</td>\n",
       "      <td>0.15</td>\n",
       "    </tr>\n",
       "    <tr>\n",
       "      <th>4</th>\n",
       "      <td>2004</td>\n",
       "      <td>GEO</td>\n",
       "      <td>4363</td>\n",
       "      <td>1319</td>\n",
       "      <td>0.34</td>\n",
       "      <td>2004</td>\n",
       "      <td>GEO</td>\n",
       "      <td>4363</td>\n",
       "      <td>1319</td>\n",
       "      <td>0.30</td>\n",
       "    </tr>\n",
       "  </tbody>\n",
       "</table>\n",
       "</div>"
      ],
      "text/plain": [
       "   year   dir  actions  awards  rate  year   dir  actions  awards  rate\n",
       "0  2004   BIO     4824     925  0.18  2004   BIO     4824     925  0.19\n",
       "1  2004  CISE     6109     846  0.10  2004  CISE     6111     846  0.14\n",
       "2  2004   EHR     4302     805  0.50  2004   EHR     4303     805  0.19\n",
       "3  2004   ENG     6204     955  0.26  2004   ENG     6204     955  0.15\n",
       "4  2004   GEO     4363    1319  0.34  2004   GEO     4363    1319  0.30"
      ]
     },
     "execution_count": 26,
     "metadata": {},
     "output_type": "execute_result"
    }
   ],
   "source": [
    "nsf_join.head()"
   ]
  },
  {
   "cell_type": "markdown",
   "metadata": {},
   "source": [
    "The look similar, but are they the same? Lets merge them to compare..."
   ]
  },
  {
   "cell_type": "code",
   "execution_count": 27,
   "metadata": {
    "collapsed": true
   },
   "outputs": [],
   "source": [
    "df = pd.merge(nsf_agg, nsf_dir)"
   ]
  },
  {
   "cell_type": "code",
   "execution_count": 28,
   "metadata": {},
   "outputs": [
    {
     "data": {
      "text/html": [
       "<div>\n",
       "<style scoped>\n",
       "    .dataframe tbody tr th:only-of-type {\n",
       "        vertical-align: middle;\n",
       "    }\n",
       "\n",
       "    .dataframe tbody tr th {\n",
       "        vertical-align: top;\n",
       "    }\n",
       "\n",
       "    .dataframe thead th {\n",
       "        text-align: right;\n",
       "    }\n",
       "</style>\n",
       "<table border=\"1\" class=\"dataframe\">\n",
       "  <thead>\n",
       "    <tr style=\"text-align: right;\">\n",
       "      <th></th>\n",
       "      <th>year</th>\n",
       "      <th>dir</th>\n",
       "      <th>sum_actions</th>\n",
       "      <th>sum_awards</th>\n",
       "      <th>actions</th>\n",
       "      <th>awards</th>\n",
       "      <th>rate</th>\n",
       "    </tr>\n",
       "  </thead>\n",
       "  <tbody>\n",
       "    <tr>\n",
       "      <th>0</th>\n",
       "      <td>2004</td>\n",
       "      <td>BIO</td>\n",
       "      <td>4824</td>\n",
       "      <td>925</td>\n",
       "      <td>4824</td>\n",
       "      <td>925</td>\n",
       "      <td>0.19</td>\n",
       "    </tr>\n",
       "    <tr>\n",
       "      <th>1</th>\n",
       "      <td>2004</td>\n",
       "      <td>CISE</td>\n",
       "      <td>6109</td>\n",
       "      <td>846</td>\n",
       "      <td>6111</td>\n",
       "      <td>846</td>\n",
       "      <td>0.14</td>\n",
       "    </tr>\n",
       "    <tr>\n",
       "      <th>2</th>\n",
       "      <td>2004</td>\n",
       "      <td>EHR</td>\n",
       "      <td>4302</td>\n",
       "      <td>805</td>\n",
       "      <td>4303</td>\n",
       "      <td>805</td>\n",
       "      <td>0.19</td>\n",
       "    </tr>\n",
       "    <tr>\n",
       "      <th>3</th>\n",
       "      <td>2004</td>\n",
       "      <td>ENG</td>\n",
       "      <td>6204</td>\n",
       "      <td>955</td>\n",
       "      <td>6204</td>\n",
       "      <td>955</td>\n",
       "      <td>0.15</td>\n",
       "    </tr>\n",
       "    <tr>\n",
       "      <th>4</th>\n",
       "      <td>2004</td>\n",
       "      <td>GEO</td>\n",
       "      <td>4363</td>\n",
       "      <td>1319</td>\n",
       "      <td>4363</td>\n",
       "      <td>1319</td>\n",
       "      <td>0.30</td>\n",
       "    </tr>\n",
       "  </tbody>\n",
       "</table>\n",
       "</div>"
      ],
      "text/plain": [
       "   year   dir  sum_actions  sum_awards  actions  awards  rate\n",
       "0  2004   BIO         4824         925     4824     925  0.19\n",
       "1  2004  CISE         6109         846     6111     846  0.14\n",
       "2  2004   EHR         4302         805     4303     805  0.19\n",
       "3  2004   ENG         6204         955     6204     955  0.15\n",
       "4  2004   GEO         4363        1319     4363    1319  0.30"
      ]
     },
     "execution_count": 28,
     "metadata": {},
     "output_type": "execute_result"
    }
   ],
   "source": [
    "df.head()"
   ]
  },
  {
   "cell_type": "markdown",
   "metadata": {},
   "source": [
    "Here we write a function to compare the values in each column to see if they match. Remember that sum_awards and sum_actions are our aggregates from calculating what the div tags held and that actions and awards are the numbers that were contained in the dir tag."
   ]
  },
  {
   "cell_type": "code",
   "execution_count": 29,
   "metadata": {
    "collapsed": true
   },
   "outputs": [],
   "source": [
    "def compare_rows(row):\n",
    "    return row['sum_awards'] == row['awards'] and row['sum_actions'] == row['actions']\n",
    "\n",
    "df['matches'] = df.apply(compare_rows, axis=1)"
   ]
  },
  {
   "cell_type": "markdown",
   "metadata": {},
   "source": [
    "We only have to look at the first 5 rows to see that the answer is that they are not the same. \n",
    "\n",
    "This seems to indicate that occasionally the Directorates directly funded research without going through one of their Divisions."
   ]
  },
  {
   "cell_type": "code",
   "execution_count": 30,
   "metadata": {},
   "outputs": [
    {
     "data": {
      "text/plain": [
       "0     True\n",
       "1    False\n",
       "2    False\n",
       "3     True\n",
       "4     True\n",
       "Name: matches, dtype: bool"
      ]
     },
     "execution_count": 30,
     "metadata": {},
     "output_type": "execute_result"
    }
   ],
   "source": [
    "df['matches'][0:5]"
   ]
  },
  {
   "cell_type": "code",
   "execution_count": 31,
   "metadata": {},
   "outputs": [
    {
     "data": {
      "text/html": [
       "<div>\n",
       "<style scoped>\n",
       "    .dataframe tbody tr th:only-of-type {\n",
       "        vertical-align: middle;\n",
       "    }\n",
       "\n",
       "    .dataframe tbody tr th {\n",
       "        vertical-align: top;\n",
       "    }\n",
       "\n",
       "    .dataframe thead th {\n",
       "        text-align: right;\n",
       "    }\n",
       "</style>\n",
       "<table border=\"1\" class=\"dataframe\">\n",
       "  <thead>\n",
       "    <tr style=\"text-align: right;\">\n",
       "      <th></th>\n",
       "      <th>year</th>\n",
       "      <th>dir</th>\n",
       "      <th>sum_actions</th>\n",
       "      <th>sum_awards</th>\n",
       "      <th>actions</th>\n",
       "      <th>awards</th>\n",
       "      <th>rate</th>\n",
       "      <th>matches</th>\n",
       "    </tr>\n",
       "  </thead>\n",
       "  <tbody>\n",
       "    <tr>\n",
       "      <th>0</th>\n",
       "      <td>2004</td>\n",
       "      <td>BIO</td>\n",
       "      <td>4824</td>\n",
       "      <td>925</td>\n",
       "      <td>4824</td>\n",
       "      <td>925</td>\n",
       "      <td>0.19</td>\n",
       "      <td>True</td>\n",
       "    </tr>\n",
       "    <tr>\n",
       "      <th>1</th>\n",
       "      <td>2004</td>\n",
       "      <td>CISE</td>\n",
       "      <td>6109</td>\n",
       "      <td>846</td>\n",
       "      <td>6111</td>\n",
       "      <td>846</td>\n",
       "      <td>0.14</td>\n",
       "      <td>False</td>\n",
       "    </tr>\n",
       "    <tr>\n",
       "      <th>2</th>\n",
       "      <td>2004</td>\n",
       "      <td>EHR</td>\n",
       "      <td>4302</td>\n",
       "      <td>805</td>\n",
       "      <td>4303</td>\n",
       "      <td>805</td>\n",
       "      <td>0.19</td>\n",
       "      <td>False</td>\n",
       "    </tr>\n",
       "    <tr>\n",
       "      <th>3</th>\n",
       "      <td>2004</td>\n",
       "      <td>ENG</td>\n",
       "      <td>6204</td>\n",
       "      <td>955</td>\n",
       "      <td>6204</td>\n",
       "      <td>955</td>\n",
       "      <td>0.15</td>\n",
       "      <td>True</td>\n",
       "    </tr>\n",
       "    <tr>\n",
       "      <th>4</th>\n",
       "      <td>2004</td>\n",
       "      <td>GEO</td>\n",
       "      <td>4363</td>\n",
       "      <td>1319</td>\n",
       "      <td>4363</td>\n",
       "      <td>1319</td>\n",
       "      <td>0.30</td>\n",
       "      <td>True</td>\n",
       "    </tr>\n",
       "  </tbody>\n",
       "</table>\n",
       "</div>"
      ],
      "text/plain": [
       "   year   dir  sum_actions  sum_awards  actions  awards  rate  matches\n",
       "0  2004   BIO         4824         925     4824     925  0.19     True\n",
       "1  2004  CISE         6109         846     6111     846  0.14    False\n",
       "2  2004   EHR         4302         805     4303     805  0.19    False\n",
       "3  2004   ENG         6204         955     6204     955  0.15     True\n",
       "4  2004   GEO         4363        1319     4363    1319  0.30     True"
      ]
     },
     "execution_count": 31,
     "metadata": {},
     "output_type": "execute_result"
    }
   ],
   "source": [
    "df.head()"
   ]
  },
  {
   "cell_type": "markdown",
   "metadata": {},
   "source": [
    "And we didn't save the rate because we can easily calculate a percentage."
   ]
  },
  {
   "cell_type": "code",
   "execution_count": 32,
   "metadata": {
    "collapsed": true
   },
   "outputs": [],
   "source": [
    "df['percent'] = df['awards'] / df['actions']\n",
    "df['sum_perc'] = df['sum_awards'] / df['sum_actions'] "
   ]
  },
  {
   "cell_type": "code",
   "execution_count": 33,
   "metadata": {},
   "outputs": [
    {
     "data": {
      "text/html": [
       "<div>\n",
       "<style scoped>\n",
       "    .dataframe tbody tr th:only-of-type {\n",
       "        vertical-align: middle;\n",
       "    }\n",
       "\n",
       "    .dataframe tbody tr th {\n",
       "        vertical-align: top;\n",
       "    }\n",
       "\n",
       "    .dataframe thead th {\n",
       "        text-align: right;\n",
       "    }\n",
       "</style>\n",
       "<table border=\"1\" class=\"dataframe\">\n",
       "  <thead>\n",
       "    <tr style=\"text-align: right;\">\n",
       "      <th></th>\n",
       "      <th>year</th>\n",
       "      <th>dir</th>\n",
       "      <th>sum_actions</th>\n",
       "      <th>sum_awards</th>\n",
       "      <th>actions</th>\n",
       "      <th>awards</th>\n",
       "      <th>rate</th>\n",
       "      <th>matches</th>\n",
       "      <th>percent</th>\n",
       "      <th>sum_perc</th>\n",
       "    </tr>\n",
       "  </thead>\n",
       "  <tbody>\n",
       "    <tr>\n",
       "      <th>0</th>\n",
       "      <td>2004</td>\n",
       "      <td>BIO</td>\n",
       "      <td>4824</td>\n",
       "      <td>925</td>\n",
       "      <td>4824</td>\n",
       "      <td>925</td>\n",
       "      <td>0.19</td>\n",
       "      <td>True</td>\n",
       "      <td>0.191750</td>\n",
       "      <td>0.191750</td>\n",
       "    </tr>\n",
       "    <tr>\n",
       "      <th>1</th>\n",
       "      <td>2004</td>\n",
       "      <td>CISE</td>\n",
       "      <td>6109</td>\n",
       "      <td>846</td>\n",
       "      <td>6111</td>\n",
       "      <td>846</td>\n",
       "      <td>0.14</td>\n",
       "      <td>False</td>\n",
       "      <td>0.138439</td>\n",
       "      <td>0.138484</td>\n",
       "    </tr>\n",
       "    <tr>\n",
       "      <th>2</th>\n",
       "      <td>2004</td>\n",
       "      <td>EHR</td>\n",
       "      <td>4302</td>\n",
       "      <td>805</td>\n",
       "      <td>4303</td>\n",
       "      <td>805</td>\n",
       "      <td>0.19</td>\n",
       "      <td>False</td>\n",
       "      <td>0.187079</td>\n",
       "      <td>0.187122</td>\n",
       "    </tr>\n",
       "    <tr>\n",
       "      <th>3</th>\n",
       "      <td>2004</td>\n",
       "      <td>ENG</td>\n",
       "      <td>6204</td>\n",
       "      <td>955</td>\n",
       "      <td>6204</td>\n",
       "      <td>955</td>\n",
       "      <td>0.15</td>\n",
       "      <td>True</td>\n",
       "      <td>0.153933</td>\n",
       "      <td>0.153933</td>\n",
       "    </tr>\n",
       "    <tr>\n",
       "      <th>4</th>\n",
       "      <td>2004</td>\n",
       "      <td>GEO</td>\n",
       "      <td>4363</td>\n",
       "      <td>1319</td>\n",
       "      <td>4363</td>\n",
       "      <td>1319</td>\n",
       "      <td>0.30</td>\n",
       "      <td>True</td>\n",
       "      <td>0.302315</td>\n",
       "      <td>0.302315</td>\n",
       "    </tr>\n",
       "  </tbody>\n",
       "</table>\n",
       "</div>"
      ],
      "text/plain": [
       "   year   dir  sum_actions  sum_awards  actions  awards  rate  matches  \\\n",
       "0  2004   BIO         4824         925     4824     925  0.19     True   \n",
       "1  2004  CISE         6109         846     6111     846  0.14    False   \n",
       "2  2004   EHR         4302         805     4303     805  0.19    False   \n",
       "3  2004   ENG         6204         955     6204     955  0.15     True   \n",
       "4  2004   GEO         4363        1319     4363    1319  0.30     True   \n",
       "\n",
       "    percent  sum_perc  \n",
       "0  0.191750  0.191750  \n",
       "1  0.138439  0.138484  \n",
       "2  0.187079  0.187122  \n",
       "3  0.153933  0.153933  \n",
       "4  0.302315  0.302315  "
      ]
     },
     "execution_count": 33,
     "metadata": {},
     "output_type": "execute_result"
    }
   ],
   "source": [
    "df.head()"
   ]
  },
  {
   "cell_type": "markdown",
   "metadata": {},
   "source": [
    "Seems like 2009 was a good year for research funding. I wonder if that was because the NSF had a really big budget that year?"
   ]
  },
  {
   "cell_type": "code",
   "execution_count": 34,
   "metadata": {},
   "outputs": [
    {
     "data": {
      "text/plain": [
       "<matplotlib.axes._subplots.AxesSubplot at 0x7f71f68b7710>"
      ]
     },
     "execution_count": 34,
     "metadata": {},
     "output_type": "execute_result"
    },
    {
     "data": {
      "image/png": "[encoded data removed]",
      "text/plain": [
       "<matplotlib.figure.Figure at 0x7f71f6ce7048>"
      ]
     },
     "metadata": {},
     "output_type": "display_data"
    }
   ],
   "source": [
    "sns.pointplot(data=df, x=\"year\", y=\"sum_perc\", hue=\"dir\")"
   ]
  },
  {
   "cell_type": "markdown",
   "metadata": {},
   "source": [
    "# Q1 SAVE THE BUDGET TO SQL\n",
    "\n",
    "Here is a function I wrote to create a DataFrame from the budget XML.\n",
    "\n",
    "Write the code to save that DataFrame into a SQL table."
   ]
  },
  {
   "cell_type": "code",
   "execution_count": 36,
   "metadata": {},
   "outputs": [
    {
     "data": {
      "text/plain": [
       "1000.08"
      ]
     },
     "execution_count": 36,
     "metadata": {},
     "output_type": "execute_result"
    }
   ],
   "source": [
    "pd.to_numeric('   $1,000.08   '.strip().replace(',','')[1:])"
   ]
  },
  {
   "cell_type": "code",
   "execution_count": 37,
   "metadata": {
    "collapsed": true
   },
   "outputs": [],
   "source": [
    "def parseBudget(xml_obj):\n",
    "    doc = []\n",
    "    row = {}\n",
    "    year = ''\n",
    "    dollars = ''\n",
    "    for element in xml_obj.getiterator():\n",
    "        #print(element.tag, element.attrib)\n",
    "        if element.tag[:2] == 'FY':\n",
    "            year = element.tag[2:6]\n",
    "        if element.tag == 'CurrentDollars':\n",
    "            dollars = 'current'\n",
    "        if element.tag == 'ConstantDollars':\n",
    "            dollars = 'constant'\n",
    "        if element.tag in ['RRA', 'EHR', 'ARI', 'MREFC', 'AOAM', 'OIG', 'NSB', 'NSFTotal']:\n",
    "            row = {}\n",
    "            row['year'] = int(year)\n",
    "            row['dollars'] = dollars\n",
    "            row['source'] = element.tag\n",
    "            row['value'] = pd.to_numeric(element.text.strip().replace(',','')[1:])\n",
    "            doc.append(row)\n",
    "    return pd.DataFrame(doc)"
   ]
  },
  {
   "cell_type": "code",
   "execution_count": 38,
   "metadata": {
    "collapsed": true
   },
   "outputs": [],
   "source": [
    "nsf_budget = etree.parse('data/NSFBudgetHistory.xml')\n",
    "budget_df = parseBudget(nsf_budget.getroot())"
   ]
  },
  {
   "cell_type": "code",
   "execution_count": 39,
   "metadata": {
    "collapsed": true
   },
   "outputs": [],
   "source": [
    "# Your code here for Q1\n",
    "db = sqlite3.connect('data/nsf.sqlite')\n",
    "budget_df.to_sql('nsf_budget', db, if_exists=\"replace\")"
   ]
  },
  {
   "cell_type": "markdown",
   "metadata": {},
   "source": [
    "# Q2 Get the total NSF budget per year\n",
    "\n",
    "Now that you saved that into a table. Write code that uses SQL to select the constant dollars for the total NSF budget per year and saves the resulting data into a DataFrame. "
   ]
  },
  {
   "cell_type": "code",
   "execution_count": 40,
   "metadata": {
    "collapsed": true
   },
   "outputs": [],
   "source": [
    "# Your code here for Q2\n",
    "nsf_budget = pd.read_sql_query('SELECT year, value FROM nsf_budget WHERE dollars = \\'constant\\' AND source = \\'NSFTotal\\'', db)\n",
    "db.close()"
   ]
  },
  {
   "cell_type": "markdown",
   "metadata": {},
   "source": [
    "# Q3\n",
    "Can you tell if the reason the funding rates were so high in 2009 were because of a bigger budget? \n",
    "\n",
    "(I would first calculate the total funding rate per year and tcombing that with the total budget for the year.. "
   ]
  },
  {
   "cell_type": "code",
   "execution_count": 41,
   "metadata": {},
   "outputs": [
    {
     "data": {
      "text/html": [
       "<div>\n",
       "<style scoped>\n",
       "    .dataframe tbody tr th:only-of-type {\n",
       "        vertical-align: middle;\n",
       "    }\n",
       "\n",
       "    .dataframe tbody tr th {\n",
       "        vertical-align: top;\n",
       "    }\n",
       "\n",
       "    .dataframe thead th {\n",
       "        text-align: right;\n",
       "    }\n",
       "</style>\n",
       "<table border=\"1\" class=\"dataframe\">\n",
       "  <thead>\n",
       "    <tr style=\"text-align: right;\">\n",
       "      <th></th>\n",
       "      <th>value</th>\n",
       "    </tr>\n",
       "    <tr>\n",
       "      <th>year</th>\n",
       "      <th></th>\n",
       "    </tr>\n",
       "  </thead>\n",
       "  <tbody>\n",
       "    <tr>\n",
       "      <th>1951</th>\n",
       "      <td>1.18</td>\n",
       "    </tr>\n",
       "    <tr>\n",
       "      <th>1952</th>\n",
       "      <td>26.13</td>\n",
       "    </tr>\n",
       "    <tr>\n",
       "      <th>1953</th>\n",
       "      <td>32.70</td>\n",
       "    </tr>\n",
       "    <tr>\n",
       "      <th>1954</th>\n",
       "      <td>58.08</td>\n",
       "    </tr>\n",
       "    <tr>\n",
       "      <th>1955</th>\n",
       "      <td>90.44</td>\n",
       "    </tr>\n",
       "  </tbody>\n",
       "</table>\n",
       "</div>"
      ],
      "text/plain": [
       "      value\n",
       "year       \n",
       "1951   1.18\n",
       "1952  26.13\n",
       "1953  32.70\n",
       "1954  58.08\n",
       "1955  90.44"
      ]
     },
     "execution_count": 41,
     "metadata": {},
     "output_type": "execute_result"
    }
   ],
   "source": [
    "# Your code here for Q3\n",
    "\n",
    "nsf_budget.set_index('year', inplace=True)\n",
    "nsf_budget.head()"
   ]
  },
  {
   "cell_type": "code",
   "execution_count": 42,
   "metadata": {
    "collapsed": true
   },
   "outputs": [],
   "source": [
    "nsf_dir.set_index('year', inplace=True)"
   ]
  },
  {
   "cell_type": "code",
   "execution_count": 43,
   "metadata": {
    "collapsed": true
   },
   "outputs": [],
   "source": [
    "agg_dir = nsf_dir.groupby('year').sum()"
   ]
  },
  {
   "cell_type": "code",
   "execution_count": 44,
   "metadata": {
    "collapsed": true
   },
   "outputs": [],
   "source": [
    "agg_dir['rate'] = agg_dir['awards'] / agg_dir['actions']"
   ]
  },
  {
   "cell_type": "code",
   "execution_count": 45,
   "metadata": {},
   "outputs": [
    {
     "data": {
      "text/html": [
       "<div>\n",
       "<style scoped>\n",
       "    .dataframe tbody tr th:only-of-type {\n",
       "        vertical-align: middle;\n",
       "    }\n",
       "\n",
       "    .dataframe tbody tr th {\n",
       "        vertical-align: top;\n",
       "    }\n",
       "\n",
       "    .dataframe thead th {\n",
       "        text-align: right;\n",
       "    }\n",
       "</style>\n",
       "<table border=\"1\" class=\"dataframe\">\n",
       "  <thead>\n",
       "    <tr style=\"text-align: right;\">\n",
       "      <th></th>\n",
       "      <th>actions</th>\n",
       "      <th>awards</th>\n",
       "      <th>rate</th>\n",
       "    </tr>\n",
       "    <tr>\n",
       "      <th>year</th>\n",
       "      <th></th>\n",
       "      <th></th>\n",
       "      <th></th>\n",
       "    </tr>\n",
       "  </thead>\n",
       "  <tbody>\n",
       "    <tr>\n",
       "      <th>2004</th>\n",
       "      <td>35033</td>\n",
       "      <td>7043</td>\n",
       "      <td>0.201039</td>\n",
       "    </tr>\n",
       "    <tr>\n",
       "      <th>2005</th>\n",
       "      <td>34101</td>\n",
       "      <td>6824</td>\n",
       "      <td>0.200111</td>\n",
       "    </tr>\n",
       "    <tr>\n",
       "      <th>2006</th>\n",
       "      <td>33806</td>\n",
       "      <td>7242</td>\n",
       "      <td>0.214222</td>\n",
       "    </tr>\n",
       "    <tr>\n",
       "      <th>2007</th>\n",
       "      <td>36474</td>\n",
       "      <td>8069</td>\n",
       "      <td>0.221226</td>\n",
       "    </tr>\n",
       "    <tr>\n",
       "      <th>2008</th>\n",
       "      <td>35810</td>\n",
       "      <td>7769</td>\n",
       "      <td>0.216951</td>\n",
       "    </tr>\n",
       "  </tbody>\n",
       "</table>\n",
       "</div>"
      ],
      "text/plain": [
       "      actions  awards      rate\n",
       "year                           \n",
       "2004    35033    7043  0.201039\n",
       "2005    34101    6824  0.200111\n",
       "2006    33806    7242  0.214222\n",
       "2007    36474    8069  0.221226\n",
       "2008    35810    7769  0.216951"
      ]
     },
     "execution_count": 45,
     "metadata": {},
     "output_type": "execute_result"
    }
   ],
   "source": [
    "agg_dir.head()"
   ]
  },
  {
   "cell_type": "code",
   "execution_count": 46,
   "metadata": {
    "collapsed": true
   },
   "outputs": [],
   "source": [
    "trend_df = nsf_budget.join(agg_dir)"
   ]
  },
  {
   "cell_type": "code",
   "execution_count": 47,
   "metadata": {},
   "outputs": [
    {
     "data": {
      "text/html": [
       "<div>\n",
       "<style scoped>\n",
       "    .dataframe tbody tr th:only-of-type {\n",
       "        vertical-align: middle;\n",
       "    }\n",
       "\n",
       "    .dataframe tbody tr th {\n",
       "        vertical-align: top;\n",
       "    }\n",
       "\n",
       "    .dataframe thead th {\n",
       "        text-align: right;\n",
       "    }\n",
       "</style>\n",
       "<table border=\"1\" class=\"dataframe\">\n",
       "  <thead>\n",
       "    <tr style=\"text-align: right;\">\n",
       "      <th></th>\n",
       "      <th>value</th>\n",
       "      <th>actions</th>\n",
       "      <th>awards</th>\n",
       "      <th>rate</th>\n",
       "    </tr>\n",
       "    <tr>\n",
       "      <th>year</th>\n",
       "      <th></th>\n",
       "      <th></th>\n",
       "      <th></th>\n",
       "      <th></th>\n",
       "    </tr>\n",
       "  </thead>\n",
       "  <tbody>\n",
       "    <tr>\n",
       "      <th>2013</th>\n",
       "      <td>7256.77</td>\n",
       "      <td>41501.0</td>\n",
       "      <td>8167.0</td>\n",
       "      <td>0.196790</td>\n",
       "    </tr>\n",
       "    <tr>\n",
       "      <th>2013</th>\n",
       "      <td>1.22</td>\n",
       "      <td>41501.0</td>\n",
       "      <td>8167.0</td>\n",
       "      <td>0.196790</td>\n",
       "    </tr>\n",
       "    <tr>\n",
       "      <th>2013</th>\n",
       "      <td>7257.99</td>\n",
       "      <td>41501.0</td>\n",
       "      <td>8167.0</td>\n",
       "      <td>0.196790</td>\n",
       "    </tr>\n",
       "    <tr>\n",
       "      <th>2014</th>\n",
       "      <td>7388.71</td>\n",
       "      <td>40593.0</td>\n",
       "      <td>8430.0</td>\n",
       "      <td>0.207671</td>\n",
       "    </tr>\n",
       "    <tr>\n",
       "      <th>2015</th>\n",
       "      <td>7535.60</td>\n",
       "      <td>41849.0</td>\n",
       "      <td>9237.0</td>\n",
       "      <td>0.220722</td>\n",
       "    </tr>\n",
       "  </tbody>\n",
       "</table>\n",
       "</div>"
      ],
      "text/plain": [
       "        value  actions  awards      rate\n",
       "year                                    \n",
       "2013  7256.77  41501.0  8167.0  0.196790\n",
       "2013     1.22  41501.0  8167.0  0.196790\n",
       "2013  7257.99  41501.0  8167.0  0.196790\n",
       "2014  7388.71  40593.0  8430.0  0.207671\n",
       "2015  7535.60  41849.0  9237.0  0.220722"
      ]
     },
     "execution_count": 47,
     "metadata": {},
     "output_type": "execute_result"
    }
   ],
   "source": [
    "trend_df.tail()"
   ]
  },
  {
   "cell_type": "code",
   "execution_count": 48,
   "metadata": {},
   "outputs": [
    {
     "data": {
      "image/png": "[encoded data removed]",
      "text/plain": [
       "<matplotlib.figure.Figure at 0x7f71f68e2358>"
      ]
     },
     "metadata": {},
     "output_type": "display_data"
    }
   ],
   "source": [
    "sns.set_style(\"darkgrid\")\n",
    "trend_df.rate.plot(label=\"Rate\", legend=True)\n",
    "trend_df.value.plot(secondary_y=True, label=\"Funding\", legend=True)\n",
    "plt.show()"
   ]
  },
  {
   "cell_type": "code",
   "execution_count": 49,
   "metadata": {},
   "outputs": [
    {
     "data": {
      "text/html": [
       "<div>\n",
       "<style scoped>\n",
       "    .dataframe tbody tr th:only-of-type {\n",
       "        vertical-align: middle;\n",
       "    }\n",
       "\n",
       "    .dataframe tbody tr th {\n",
       "        vertical-align: top;\n",
       "    }\n",
       "\n",
       "    .dataframe thead th {\n",
       "        text-align: right;\n",
       "    }\n",
       "</style>\n",
       "<table border=\"1\" class=\"dataframe\">\n",
       "  <thead>\n",
       "    <tr style=\"text-align: right;\">\n",
       "      <th></th>\n",
       "      <th>value</th>\n",
       "      <th>actions</th>\n",
       "      <th>awards</th>\n",
       "      <th>rate</th>\n",
       "    </tr>\n",
       "    <tr>\n",
       "      <th>year</th>\n",
       "      <th></th>\n",
       "      <th></th>\n",
       "      <th></th>\n",
       "      <th></th>\n",
       "    </tr>\n",
       "  </thead>\n",
       "  <tbody>\n",
       "    <tr>\n",
       "      <th>2004</th>\n",
       "      <td>7130.44</td>\n",
       "      <td>35033.0</td>\n",
       "      <td>7043.0</td>\n",
       "      <td>0.201039</td>\n",
       "    </tr>\n",
       "    <tr>\n",
       "      <th>2005</th>\n",
       "      <td>6703.92</td>\n",
       "      <td>34101.0</td>\n",
       "      <td>6824.0</td>\n",
       "      <td>0.200111</td>\n",
       "    </tr>\n",
       "    <tr>\n",
       "      <th>2006</th>\n",
       "      <td>6688.25</td>\n",
       "      <td>33806.0</td>\n",
       "      <td>7242.0</td>\n",
       "      <td>0.214222</td>\n",
       "    </tr>\n",
       "    <tr>\n",
       "      <th>2007</th>\n",
       "      <td>6787.32</td>\n",
       "      <td>36474.0</td>\n",
       "      <td>8069.0</td>\n",
       "      <td>0.221226</td>\n",
       "    </tr>\n",
       "    <tr>\n",
       "      <th>2008</th>\n",
       "      <td>6875.63</td>\n",
       "      <td>35810.0</td>\n",
       "      <td>7769.0</td>\n",
       "      <td>0.216951</td>\n",
       "    </tr>\n",
       "  </tbody>\n",
       "</table>\n",
       "</div>"
      ],
      "text/plain": [
       "        value  actions  awards      rate\n",
       "year                                    \n",
       "2004  7130.44  35033.0  7043.0  0.201039\n",
       "2005  6703.92  34101.0  6824.0  0.200111\n",
       "2006  6688.25  33806.0  7242.0  0.214222\n",
       "2007  6787.32  36474.0  8069.0  0.221226\n",
       "2008  6875.63  35810.0  7769.0  0.216951"
      ]
     },
     "execution_count": 49,
     "metadata": {},
     "output_type": "execute_result"
    }
   ],
   "source": [
    "df = trend_df.dropna()\n",
    "df.head()"
   ]
  },
  {
   "cell_type": "code",
   "execution_count": 51,
   "metadata": {},
   "outputs": [
    {
     "data": {
      "image/png": "[encoded data removed]",
      "text/plain": [
       "<matplotlib.figure.Figure at 0x7f71e70e58d0>"
      ]
     },
     "metadata": {},
     "output_type": "display_data"
    }
   ],
   "source": [
    "df.rate.plot(label=\"Rate\", legend=True)\n",
    "df.value.plot(secondary_y=True, label=\"Funding\", legend=True)\n",
    "plt.show()"
   ]
  }
 ],
 "metadata": {
  "kernelspec": {
   "display_name": "Python 3",
   "language": "python",
   "name": "python3"
  },
  "language_info": {
   "codemirror_mode": {
    "name": "ipython",
    "version": 3
   },
   "file_extension": ".py",
   "mimetype": "text/x-python",
   "name": "python",
   "nbconvert_exporter": "python",
   "pygments_lexer": "ipython3",
   "version": "3.6.3"
  }
 },
 "nbformat": 4,
 "nbformat_minor": 2
}
